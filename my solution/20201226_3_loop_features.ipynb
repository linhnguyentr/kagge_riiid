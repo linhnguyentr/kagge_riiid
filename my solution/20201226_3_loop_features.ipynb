{
 "cells": [
  {
   "cell_type": "code",
   "execution_count": 1,
   "metadata": {},
   "outputs": [],
   "source": [
    "import numpy as np\n",
    "import pandas as pd\n",
    "import matplotlib.pyplot as plt\n",
    "import gc\n",
    "from collections import defaultdict\n",
    "import dill\n",
    "from tqdm.notebook import tqdm\n",
    "import lightgbm as lgb"
   ]
  },
  {
   "cell_type": "markdown",
   "metadata": {},
   "source": [
    "# Load data"
   ]
  },
  {
   "cell_type": "code",
   "execution_count": 2,
   "metadata": {},
   "outputs": [
    {
     "name": "stdout",
     "output_type": "stream",
     "text": [
      "train_df size: (98730332, 8)\n",
      "valid_df size: (2500000, 8)\n",
      "CPU times: user 2.12 s, sys: 6.47 s, total: 8.59 s\n",
      "Wall time: 8.59 s\n"
     ]
    }
   ],
   "source": [
    "%%time\n",
    "columns = ['timestamp', 'user_id', 'content_id', 'content_type_id', 'task_container_id', 'answered_correctly', 'prior_question_elapsed_time', 'prior_question_had_explanation']\n",
    "train_df = pd.read_pickle('train/cv1_train.pickle')[columns]\n",
    "valid_df = pd.read_pickle('train/cv1_valid.pickle')[columns]\n",
    "\n",
    "print('train_df size: {}'.format(train_df.shape))\n",
    "print('valid_df size: {}'.format(valid_df.shape))"
   ]
  },
  {
   "cell_type": "code",
   "execution_count": 3,
   "metadata": {},
   "outputs": [
    {
     "data": {
      "text/plain": [
       "25439.41"
      ]
     },
     "execution_count": 3,
     "metadata": {},
     "output_type": "execute_result"
    }
   ],
   "source": [
    "prior_question_elapsed_time_mean = train_df['prior_question_elapsed_time'].dropna().values.mean()\n",
    "prior_question_elapsed_time_mean"
   ]
  },
  {
   "cell_type": "markdown",
   "metadata": {},
   "source": [
    "# Load dicts"
   ]
  },
  {
   "cell_type": "code",
   "execution_count": 4,
   "metadata": {},
   "outputs": [],
   "source": [
    "content_part_dict = dill.load(open('dicts/content_part_dict_file', 'rb'))"
   ]
  },
  {
   "cell_type": "code",
   "execution_count": 5,
   "metadata": {},
   "outputs": [],
   "source": [
    "lecture_part_dict = dill.load(open('dicts/lecture_part_dict_file', 'rb'))"
   ]
  },
  {
   "cell_type": "code",
   "execution_count": 6,
   "metadata": {},
   "outputs": [],
   "source": [
    "lecture_type_dict = dill.load(open('dicts/lecture_type_dict_file', 'rb'))"
   ]
  },
  {
   "cell_type": "markdown",
   "metadata": {},
   "source": [
    "# Loop features"
   ]
  },
  {
   "cell_type": "code",
   "execution_count": 9,
   "metadata": {},
   "outputs": [],
   "source": [
    "debug = False\n",
    "\n",
    "if debug:\n",
    "    train_df = train_df[-2000000:]\n",
    "    valid_df = valid_df[:10000]\n",
    "    train_tmp_df = train_df\n",
    "    valid_tmp_df = valid_df\n",
    "    train_size = 2000000\n",
    "    valid_size = 10000\n",
    "else:\n",
    "    train_size = train_df.shape[0]\n",
    "    valid_size = valid_df.shape[0]"
   ]
  },
  {
   "cell_type": "markdown",
   "metadata": {},
   "source": [
    "## add_content"
   ]
  },
  {
   "cell_type": "code",
   "execution_count": null,
   "metadata": {},
   "outputs": [],
   "source": [
    "def add_content(df):\n",
    "    answered_user_count_arr = np.zeros(len(df), dtype=np.int32)\n",
    "    answered_correctly_user_sum_arr = np.zeros(len(df), dtype=np.int32)\n",
    "    answered_correctly_user_mean_arr = np.zeros(len(df), dtype=np.float32)\n",
    "\n",
    "    for idx, (user_id, content_type_id, answered_correctly) in enumerate(tqdm(df[['user_id', 'content_type_id', 'answered_correctly']].values)):\n",
    "        if content_type_id == 0:\n",
    "            # add feature\n",
    "            answered_user_count_arr[idx] = answered_user_count_dict[user_id]\n",
    "            answered_correctly_user_sum_arr[idx] = answered_correctly_user_sum_dict[user_id]\n",
    "            if answered_user_count_arr[idx] != 0:\n",
    "                answered_correctly_user_mean_arr[idx] = answered_correctly_user_sum_arr[idx] / answered_user_count_arr[idx]\n",
    "            \n",
    "            # update dict\n",
    "            answered_user_count_dict[user_id] += 1\n",
    "            answered_correctly_user_sum_dict[user_id] += answered_correctly\n",
    "        else:\n",
    "            pass\n",
    "    \n",
    "    answered_user_count_arr = answered_user_count_arr[-train_size:]\n",
    "    answered_correctly_user_sum_arr = answered_correctly_user_sum_arr[-train_size:]\n",
    "    answered_correctly_user_mean_arr = answered_correctly_user_mean_arr[-train_size:]\n",
    "\n",
    "    user_feats_df = pd.DataFrame({\n",
    "        'answered_user_count': answered_user_count_arr,\n",
    "        'answered_correctly_user_sum': answered_correctly_user_sum_arr,\n",
    "        'answered_correctly_user_mean': answered_correctly_user_mean_arr\n",
    "    })\n",
    "\n",
    "    del answered_user_count_arr, answered_correctly_user_sum_arr, answered_correctly_user_mean_arr\n",
    "    gc.collect()\n",
    "\n",
    "    # df = df.reset_index(drop=True)\n",
    "    # df = pd.concat([df, user_feats_df], axis=1)\n",
    "\n",
    "    return user_feats_df"
   ]
  },
  {
   "cell_type": "code",
   "execution_count": null,
   "metadata": {},
   "outputs": [],
   "source": [
    "%%time\n",
    "answered_user_count_dict = defaultdict(int)\n",
    "answered_correctly_user_sum_dict = defaultdict(int)\n",
    "\n",
    "train_user_content_feats_df = add_content(train_df)\n",
    "valid_user_content_feats_df = add_content(valid_df)\n",
    "\n",
    "# train_df = add_content(train_df)\n",
    "# valid_df = add_content(valid_df)"
   ]
  },
  {
   "cell_type": "code",
   "execution_count": null,
   "metadata": {},
   "outputs": [],
   "source": [
    "train_user_content_feats_df"
   ]
  },
  {
   "cell_type": "code",
   "execution_count": null,
   "metadata": {},
   "outputs": [],
   "source": [
    "%%time\n",
    "train_user_content_feats_df.to_pickle('loop_features/train_user_content_feats_df_90M.pkl')\n",
    "valid_user_content_feats_df.to_pickle('loop_features/valid_user_content_feats_df_90M.pkl')"
   ]
  },
  {
   "cell_type": "code",
   "execution_count": null,
   "metadata": {},
   "outputs": [],
   "source": [
    "%%time\n",
    "dill.dump(answered_user_count_dict, open('dicts/answered_user_count_dict_file', 'wb'))\n",
    "dill.dump(answered_correctly_user_sum_dict, open('dicts/answered_correctly_user_sum_dict_file', 'wb'))"
   ]
  },
  {
   "cell_type": "markdown",
   "metadata": {},
   "source": [
    "## add_rolling_stats"
   ]
  },
  {
   "cell_type": "code",
   "execution_count": 9,
   "metadata": {},
   "outputs": [],
   "source": [
    "def add_rolling_stats(df):\n",
    "    df = df[-train_size:].reset_index(drop=True) # only features needed in train_size\n",
    "    \n",
    "    lag1_arr = np.zeros(len(df), dtype=np.int8)\n",
    "    lag2_arr = np.zeros(len(df), dtype=np.int8)\n",
    "    lag3_arr = np.zeros(len(df), dtype=np.int8)\n",
    "    lag4_arr = np.zeros(len(df), dtype=np.int8)\n",
    "    lag5_arr = np.zeros(len(df), dtype=np.int8)\n",
    "    # lag15_arr = np.zeros(len(df), dtype=np.int8)\n",
    "    # lag30_arr = np.zeros(len(df), dtype=np.int8)\n",
    "    rolling5_mean_arr = np.zeros(len(df), dtype=np.float32)\n",
    "    rolling5_std_arr = np.zeros(len(df), dtype=np.float32)\n",
    "    rolling15_mean_arr = np.zeros(len(df), dtype=np.float32)\n",
    "    rolling15_std_arr = np.zeros(len(df), dtype=np.float32)\n",
    "    rolling30_mean_arr = np.zeros(len(df), dtype=np.float32)\n",
    "    rolling30_std_arr = np.zeros(len(df), dtype=np.float32)\n",
    "    wrong_answered_user_count_arr = np.zeros(len(df), dtype=np.int8)\n",
    "\n",
    "    for idx, (user_id, content_type_id, answered_correctly) in enumerate(tqdm(df[['user_id', 'content_type_id', 'answered_correctly']].values)):\n",
    "        if content_type_id == 0:\n",
    "            # add feature\n",
    "            lag1_arr[idx] = lag1_dict[user_id]\n",
    "            window_id = np.append(window_dict[user_id], lag1_dict[user_id])\n",
    "            window_id = window_id[-30:]\n",
    "            if len(window_id) >= 2:\n",
    "                lag2_arr[idx] = window_id[-2]\n",
    "            if len(window_id) >= 3:\n",
    "                lag3_arr[idx] = window_id[-3]\n",
    "            if len(window_id) >= 4:\n",
    "                lag4_arr[idx] = window_id[-4]\n",
    "            if len(window_id) >= 5:\n",
    "                lag5_arr[idx] = window_id[-5]\n",
    "            # if len(window_id) >= 15:\n",
    "            #     lag15_arr[idx] = window_id[-15]\n",
    "            # if len(window_id) >= 30:\n",
    "            #     lag30_arr[idx] = window_id[-30]\n",
    "            rolling5_mean_arr[idx] = np.mean(window_id[-5:])\n",
    "            rolling5_std_arr[idx] = np.std(window_id[-5:])\n",
    "            rolling15_mean_arr[idx] = np.mean(window_id[-15:])\n",
    "            rolling15_std_arr[idx] = np.std(window_id[-15:])\n",
    "            rolling30_mean_arr[idx] = np.mean(window_id[-30:])\n",
    "            rolling30_std_arr[idx] = np.std(window_id[-30:])\n",
    "\n",
    "            if lag1_dict[user_id] == 0:\n",
    "                # add feature\n",
    "                wrong_answered_user_count_arr[idx] = wrong_answered_user_count_dict[user_id]\n",
    "                # update dict\n",
    "                wrong_answered_user_count_dict[user_id] += 1\n",
    "            else:\n",
    "                # update dict\n",
    "                wrong_answered_user_count_dict[user_id] = 1\n",
    "            \n",
    "            # update dict\n",
    "            window_dict[user_id] = window_id\n",
    "            lag1_dict[user_id] = answered_correctly\n",
    "        else:\n",
    "            pass\n",
    "    \n",
    "    user_feats_df = pd.DataFrame({\n",
    "        'lag1': lag1_arr,\n",
    "        'lag2': lag2_arr,\n",
    "        'lag3': lag3_arr,\n",
    "        'lag4': lag4_arr,\n",
    "        'lag5': lag5_arr,\n",
    "        # 'lag15': lag15_arr,\n",
    "        # 'lag30': lag30_arr,\n",
    "        'rolling5_mean': rolling5_mean_arr,\n",
    "        'rolling5_std': rolling5_std_arr,\n",
    "        'rolling15_mean': rolling15_mean_arr,\n",
    "        'rolling15_std': rolling15_std_arr,\n",
    "        'rolling30_mean': rolling30_mean_arr,\n",
    "        'rolling30_std': rolling30_std_arr,\n",
    "        'wrong_answered_user_count': wrong_answered_user_count_arr\n",
    "    })\n",
    "\n",
    "    del lag1_arr, lag2_arr, lag3_arr, lag4_arr, lag5_arr, rolling5_mean_arr, rolling5_std_arr, rolling15_mean_arr, rolling15_std_arr, rolling30_mean_arr, rolling30_std_arr, wrong_answered_user_count_arr\n",
    "    gc.collect()\n",
    "\n",
    "    # df = df.reset_index(drop=True)\n",
    "    # df = pd.concat([df, user_feats_df], axis=1)\n",
    "\n",
    "    return user_feats_df"
   ]
  },
  {
   "cell_type": "code",
   "execution_count": 10,
   "metadata": {},
   "outputs": [
    {
     "data": {
      "application/vnd.jupyter.widget-view+json": {
       "model_id": "9632a0faa5974353890aa0534bbd55fb",
       "version_major": 2,
       "version_minor": 0
      },
      "text/plain": [
       "HBox(children=(HTML(value=''), FloatProgress(value=0.0, max=98730332.0), HTML(value='')))"
      ]
     },
     "metadata": {},
     "output_type": "display_data"
    },
    {
     "name": "stdout",
     "output_type": "stream",
     "text": [
      "\n"
     ]
    },
    {
     "data": {
      "application/vnd.jupyter.widget-view+json": {
       "model_id": "834f527f09e445f2bde75e575cd7e059",
       "version_major": 2,
       "version_minor": 0
      },
      "text/plain": [
       "HBox(children=(HTML(value=''), FloatProgress(value=0.0, max=2500000.0), HTML(value='')))"
      ]
     },
     "metadata": {},
     "output_type": "display_data"
    },
    {
     "name": "stdout",
     "output_type": "stream",
     "text": [
      "\n",
      "CPU times: user 2h 53min 20s, sys: 10min 32s, total: 3h 3min 52s\n",
      "Wall time: 2h 49min 57s\n"
     ]
    }
   ],
   "source": [
    "%%time\n",
    "lag1_dict = defaultdict(int)\n",
    "window_dict = defaultdict(list)\n",
    "wrong_answered_user_count_dict = defaultdict(int)\n",
    "\n",
    "train_rolling_stats_feats_df = add_rolling_stats(train_df)\n",
    "valid_rolling_stats_feats_df = add_rolling_stats(valid_df)\n",
    "\n",
    "# train_df = add_rolling_stats(train_df)\n",
    "# valid_df = add_rolling_stats(valid_df)"
   ]
  },
  {
   "cell_type": "code",
   "execution_count": 11,
   "metadata": {},
   "outputs": [
    {
     "data": {
      "text/html": [
       "<div>\n",
       "<style scoped>\n",
       "    .dataframe tbody tr th:only-of-type {\n",
       "        vertical-align: middle;\n",
       "    }\n",
       "\n",
       "    .dataframe tbody tr th {\n",
       "        vertical-align: top;\n",
       "    }\n",
       "\n",
       "    .dataframe thead th {\n",
       "        text-align: right;\n",
       "    }\n",
       "</style>\n",
       "<table border=\"1\" class=\"dataframe\">\n",
       "  <thead>\n",
       "    <tr style=\"text-align: right;\">\n",
       "      <th></th>\n",
       "      <th>lag1</th>\n",
       "      <th>lag2</th>\n",
       "      <th>lag3</th>\n",
       "      <th>lag4</th>\n",
       "      <th>lag5</th>\n",
       "      <th>rolling5_mean</th>\n",
       "      <th>rolling5_std</th>\n",
       "      <th>rolling15_mean</th>\n",
       "      <th>rolling15_std</th>\n",
       "      <th>rolling30_mean</th>\n",
       "      <th>rolling30_std</th>\n",
       "      <th>wrong_answered_user_count</th>\n",
       "    </tr>\n",
       "  </thead>\n",
       "  <tbody>\n",
       "    <tr>\n",
       "      <th>0</th>\n",
       "      <td>0</td>\n",
       "      <td>0</td>\n",
       "      <td>0</td>\n",
       "      <td>0</td>\n",
       "      <td>0</td>\n",
       "      <td>0.000000</td>\n",
       "      <td>0.000000</td>\n",
       "      <td>0.000000</td>\n",
       "      <td>0.000000</td>\n",
       "      <td>0.000000</td>\n",
       "      <td>0.000000</td>\n",
       "      <td>0</td>\n",
       "    </tr>\n",
       "    <tr>\n",
       "      <th>1</th>\n",
       "      <td>1</td>\n",
       "      <td>0</td>\n",
       "      <td>0</td>\n",
       "      <td>0</td>\n",
       "      <td>0</td>\n",
       "      <td>0.500000</td>\n",
       "      <td>0.500000</td>\n",
       "      <td>0.500000</td>\n",
       "      <td>0.500000</td>\n",
       "      <td>0.500000</td>\n",
       "      <td>0.500000</td>\n",
       "      <td>0</td>\n",
       "    </tr>\n",
       "    <tr>\n",
       "      <th>2</th>\n",
       "      <td>1</td>\n",
       "      <td>1</td>\n",
       "      <td>0</td>\n",
       "      <td>0</td>\n",
       "      <td>0</td>\n",
       "      <td>0.666667</td>\n",
       "      <td>0.471405</td>\n",
       "      <td>0.666667</td>\n",
       "      <td>0.471405</td>\n",
       "      <td>0.666667</td>\n",
       "      <td>0.471405</td>\n",
       "      <td>0</td>\n",
       "    </tr>\n",
       "    <tr>\n",
       "      <th>3</th>\n",
       "      <td>1</td>\n",
       "      <td>1</td>\n",
       "      <td>1</td>\n",
       "      <td>0</td>\n",
       "      <td>0</td>\n",
       "      <td>0.750000</td>\n",
       "      <td>0.433013</td>\n",
       "      <td>0.750000</td>\n",
       "      <td>0.433013</td>\n",
       "      <td>0.750000</td>\n",
       "      <td>0.433013</td>\n",
       "      <td>0</td>\n",
       "    </tr>\n",
       "    <tr>\n",
       "      <th>4</th>\n",
       "      <td>1</td>\n",
       "      <td>1</td>\n",
       "      <td>1</td>\n",
       "      <td>1</td>\n",
       "      <td>0</td>\n",
       "      <td>0.800000</td>\n",
       "      <td>0.400000</td>\n",
       "      <td>0.800000</td>\n",
       "      <td>0.400000</td>\n",
       "      <td>0.800000</td>\n",
       "      <td>0.400000</td>\n",
       "      <td>0</td>\n",
       "    </tr>\n",
       "    <tr>\n",
       "      <th>...</th>\n",
       "      <td>...</td>\n",
       "      <td>...</td>\n",
       "      <td>...</td>\n",
       "      <td>...</td>\n",
       "      <td>...</td>\n",
       "      <td>...</td>\n",
       "      <td>...</td>\n",
       "      <td>...</td>\n",
       "      <td>...</td>\n",
       "      <td>...</td>\n",
       "      <td>...</td>\n",
       "      <td>...</td>\n",
       "    </tr>\n",
       "    <tr>\n",
       "      <th>98730327</th>\n",
       "      <td>0</td>\n",
       "      <td>0</td>\n",
       "      <td>0</td>\n",
       "      <td>0</td>\n",
       "      <td>0</td>\n",
       "      <td>0.000000</td>\n",
       "      <td>0.000000</td>\n",
       "      <td>0.000000</td>\n",
       "      <td>0.000000</td>\n",
       "      <td>0.000000</td>\n",
       "      <td>0.000000</td>\n",
       "      <td>0</td>\n",
       "    </tr>\n",
       "    <tr>\n",
       "      <th>98730328</th>\n",
       "      <td>1</td>\n",
       "      <td>1</td>\n",
       "      <td>1</td>\n",
       "      <td>1</td>\n",
       "      <td>0</td>\n",
       "      <td>0.800000</td>\n",
       "      <td>0.400000</td>\n",
       "      <td>0.733333</td>\n",
       "      <td>0.442217</td>\n",
       "      <td>0.700000</td>\n",
       "      <td>0.458258</td>\n",
       "      <td>0</td>\n",
       "    </tr>\n",
       "    <tr>\n",
       "      <th>98730329</th>\n",
       "      <td>1</td>\n",
       "      <td>1</td>\n",
       "      <td>1</td>\n",
       "      <td>1</td>\n",
       "      <td>1</td>\n",
       "      <td>1.000000</td>\n",
       "      <td>0.000000</td>\n",
       "      <td>0.866667</td>\n",
       "      <td>0.339935</td>\n",
       "      <td>0.733333</td>\n",
       "      <td>0.442217</td>\n",
       "      <td>0</td>\n",
       "    </tr>\n",
       "    <tr>\n",
       "      <th>98730330</th>\n",
       "      <td>0</td>\n",
       "      <td>0</td>\n",
       "      <td>0</td>\n",
       "      <td>0</td>\n",
       "      <td>0</td>\n",
       "      <td>0.000000</td>\n",
       "      <td>0.000000</td>\n",
       "      <td>0.000000</td>\n",
       "      <td>0.000000</td>\n",
       "      <td>0.000000</td>\n",
       "      <td>0.000000</td>\n",
       "      <td>0</td>\n",
       "    </tr>\n",
       "    <tr>\n",
       "      <th>98730331</th>\n",
       "      <td>0</td>\n",
       "      <td>1</td>\n",
       "      <td>0</td>\n",
       "      <td>1</td>\n",
       "      <td>1</td>\n",
       "      <td>0.600000</td>\n",
       "      <td>0.489898</td>\n",
       "      <td>0.800000</td>\n",
       "      <td>0.400000</td>\n",
       "      <td>0.566667</td>\n",
       "      <td>0.495536</td>\n",
       "      <td>1</td>\n",
       "    </tr>\n",
       "  </tbody>\n",
       "</table>\n",
       "<p>98730332 rows × 12 columns</p>\n",
       "</div>"
      ],
      "text/plain": [
       "          lag1  lag2  lag3  lag4  lag5  rolling5_mean  rolling5_std  \\\n",
       "0            0     0     0     0     0       0.000000      0.000000   \n",
       "1            1     0     0     0     0       0.500000      0.500000   \n",
       "2            1     1     0     0     0       0.666667      0.471405   \n",
       "3            1     1     1     0     0       0.750000      0.433013   \n",
       "4            1     1     1     1     0       0.800000      0.400000   \n",
       "...        ...   ...   ...   ...   ...            ...           ...   \n",
       "98730327     0     0     0     0     0       0.000000      0.000000   \n",
       "98730328     1     1     1     1     0       0.800000      0.400000   \n",
       "98730329     1     1     1     1     1       1.000000      0.000000   \n",
       "98730330     0     0     0     0     0       0.000000      0.000000   \n",
       "98730331     0     1     0     1     1       0.600000      0.489898   \n",
       "\n",
       "          rolling15_mean  rolling15_std  rolling30_mean  rolling30_std  \\\n",
       "0               0.000000       0.000000        0.000000       0.000000   \n",
       "1               0.500000       0.500000        0.500000       0.500000   \n",
       "2               0.666667       0.471405        0.666667       0.471405   \n",
       "3               0.750000       0.433013        0.750000       0.433013   \n",
       "4               0.800000       0.400000        0.800000       0.400000   \n",
       "...                  ...            ...             ...            ...   \n",
       "98730327        0.000000       0.000000        0.000000       0.000000   \n",
       "98730328        0.733333       0.442217        0.700000       0.458258   \n",
       "98730329        0.866667       0.339935        0.733333       0.442217   \n",
       "98730330        0.000000       0.000000        0.000000       0.000000   \n",
       "98730331        0.800000       0.400000        0.566667       0.495536   \n",
       "\n",
       "          wrong_answered_user_count  \n",
       "0                                 0  \n",
       "1                                 0  \n",
       "2                                 0  \n",
       "3                                 0  \n",
       "4                                 0  \n",
       "...                             ...  \n",
       "98730327                          0  \n",
       "98730328                          0  \n",
       "98730329                          0  \n",
       "98730330                          0  \n",
       "98730331                          1  \n",
       "\n",
       "[98730332 rows x 12 columns]"
      ]
     },
     "execution_count": 11,
     "metadata": {},
     "output_type": "execute_result"
    }
   ],
   "source": [
    "train_rolling_stats_feats_df"
   ]
  },
  {
   "cell_type": "code",
   "execution_count": 12,
   "metadata": {},
   "outputs": [
    {
     "name": "stdout",
     "output_type": "stream",
     "text": [
      "CPU times: user 1.24 s, sys: 5.11 s, total: 6.35 s\n",
      "Wall time: 6.34 s\n"
     ]
    }
   ],
   "source": [
    "%%time\n",
    "train_rolling_stats_feats_df.to_pickle('loop_features/train_rolling_stats_feats_df_90M.pkl')\n",
    "valid_rolling_stats_feats_df.to_pickle('loop_features/valid_rolling_stats_feats_df_90M.pkl')"
   ]
  },
  {
   "cell_type": "code",
   "execution_count": 13,
   "metadata": {},
   "outputs": [
    {
     "name": "stdout",
     "output_type": "stream",
     "text": [
      "CPU times: user 39.3 s, sys: 906 ms, total: 40.3 s\n",
      "Wall time: 40.3 s\n"
     ]
    }
   ],
   "source": [
    "%%time\n",
    "dill.dump(lag1_dict, open('dicts/lag1_dict_file', 'wb'))\n",
    "dill.dump(window_dict, open('dicts/window_dict_file', 'wb'))\n",
    "dill.dump(wrong_answered_user_count_dict, open('dicts/wrong_answered_user_count_dict_file', 'wb'))"
   ]
  },
  {
   "cell_type": "markdown",
   "metadata": {},
   "source": [
    "## add_content_part"
   ]
  },
  {
   "cell_type": "code",
   "execution_count": null,
   "metadata": {},
   "outputs": [],
   "source": [
    "def add_content_part(df):\n",
    "    # lag1_part_arr = np.zeros(len(df), dtype=np.int8)\n",
    "    answered_user_part1_count_arr = np.zeros(len(df), dtype=np.int16)\n",
    "    answered_user_part2_count_arr = np.zeros(len(df), dtype=np.int16)\n",
    "    answered_user_part3_count_arr = np.zeros(len(df), dtype=np.int16)\n",
    "    answered_user_part4_count_arr = np.zeros(len(df), dtype=np.int16)\n",
    "    answered_user_part5_count_arr = np.zeros(len(df), dtype=np.int16)\n",
    "    answered_user_part6_count_arr = np.zeros(len(df), dtype=np.int16)\n",
    "    answered_user_part7_count_arr = np.zeros(len(df), dtype=np.int16)\n",
    "    answered_correctly_user_part1_sum_arr = np.zeros(len(df), dtype=np.int16)\n",
    "    answered_correctly_user_part2_sum_arr = np.zeros(len(df), dtype=np.int16)\n",
    "    answered_correctly_user_part3_sum_arr = np.zeros(len(df), dtype=np.int16)\n",
    "    answered_correctly_user_part4_sum_arr = np.zeros(len(df), dtype=np.int16)\n",
    "    answered_correctly_user_part5_sum_arr = np.zeros(len(df), dtype=np.int16)\n",
    "    answered_correctly_user_part6_sum_arr = np.zeros(len(df), dtype=np.int16)\n",
    "    answered_correctly_user_part7_sum_arr = np.zeros(len(df), dtype=np.int16)\n",
    "    answered_correctly_user_part_mean_arr = np.zeros(len(df), dtype=np.float32)\n",
    "    # answered_correctly_user_part_std_arr = np.zeros(len(df), dtype=np.float32)\n",
    "\n",
    "    for idx, (user_id, content_type_id, content_id, answered_correctly) in enumerate(tqdm(df[['user_id', 'content_type_id', 'content_id', 'answered_correctly']].values)):\n",
    "        if content_type_id == 0:\n",
    "            part_id = content_part_dict[content_id]\n",
    "            # add feature\n",
    "            # lag1_part_arr[idx] = lag1_part_dict[user_id][part_id]\n",
    "            answered_user_part1_count_arr[idx] = answered_user_part_count_dict[user_id][1]\n",
    "            answered_user_part2_count_arr[idx] = answered_user_part_count_dict[user_id][2]\n",
    "            answered_user_part3_count_arr[idx] = answered_user_part_count_dict[user_id][3]\n",
    "            answered_user_part4_count_arr[idx] = answered_user_part_count_dict[user_id][4]\n",
    "            answered_user_part5_count_arr[idx] = answered_user_part_count_dict[user_id][5]\n",
    "            answered_user_part6_count_arr[idx] = answered_user_part_count_dict[user_id][6]\n",
    "            answered_user_part7_count_arr[idx] = answered_user_part_count_dict[user_id][7]\n",
    "            answered_correctly_user_part1_sum_arr[idx] = answered_correctly_user_part_sum_dict[user_id][1]\n",
    "            answered_correctly_user_part2_sum_arr[idx] = answered_correctly_user_part_sum_dict[user_id][2]\n",
    "            answered_correctly_user_part3_sum_arr[idx] = answered_correctly_user_part_sum_dict[user_id][3]\n",
    "            answered_correctly_user_part4_sum_arr[idx] = answered_correctly_user_part_sum_dict[user_id][4]\n",
    "            answered_correctly_user_part5_sum_arr[idx] = answered_correctly_user_part_sum_dict[user_id][5]\n",
    "            answered_correctly_user_part6_sum_arr[idx] = answered_correctly_user_part_sum_dict[user_id][6]\n",
    "            answered_correctly_user_part7_sum_arr[idx] = answered_correctly_user_part_sum_dict[user_id][7]\n",
    "            if answered_user_part_count_dict[user_id][part_id] != 0:\n",
    "                answered_correctly_user_part_mean_arr[idx] = answered_correctly_user_part_sum_dict[user_id][part_id] / answered_user_part_count_dict[user_id][part_id]\n",
    "            # answered_correctly_user_part_std_arr[idx] = np.sqrt((lag1_part_arr[idx] - answered_correctly_user_part_mean_arr[idx])**2)\n",
    "            \n",
    "            # update dict\n",
    "            # lag1_part_dict[user_id][part_id] = answered_correctly\n",
    "            answered_user_part_count_dict[user_id][part_id] += 1\n",
    "            answered_correctly_user_part_sum_dict[user_id][part_id] += answered_correctly\n",
    "        else:\n",
    "            pass\n",
    "\n",
    "    # lag1_part_arr = lag1_part_arr[-train_size:]\n",
    "    answered_user_part1_count_arr = answered_user_part1_count_arr[-train_size:]\n",
    "    answered_user_part2_count_arr = answered_user_part2_count_arr[-train_size:]\n",
    "    answered_user_part3_count_arr = answered_user_part3_count_arr[-train_size:]\n",
    "    answered_user_part4_count_arr = answered_user_part4_count_arr[-train_size:]\n",
    "    answered_user_part5_count_arr = answered_user_part5_count_arr[-train_size:]\n",
    "    answered_user_part6_count_arr = answered_user_part6_count_arr[-train_size:]\n",
    "    answered_user_part7_count_arr = answered_user_part7_count_arr[-train_size:]\n",
    "    answered_correctly_user_part1_sum_arr = answered_correctly_user_part1_sum_arr[-train_size:]\n",
    "    answered_correctly_user_part2_sum_arr = answered_correctly_user_part2_sum_arr[-train_size:]\n",
    "    answered_correctly_user_part3_sum_arr = answered_correctly_user_part3_sum_arr[-train_size:]\n",
    "    answered_correctly_user_part4_sum_arr = answered_correctly_user_part4_sum_arr[-train_size:]\n",
    "    answered_correctly_user_part5_sum_arr = answered_correctly_user_part5_sum_arr[-train_size:]\n",
    "    answered_correctly_user_part6_sum_arr = answered_correctly_user_part6_sum_arr[-train_size:]\n",
    "    answered_correctly_user_part7_sum_arr = answered_correctly_user_part7_sum_arr[-train_size:]\n",
    "    answered_correctly_user_part_mean_arr = answered_correctly_user_part_mean_arr[-train_size:]\n",
    "    # answered_correctly_user_part_std_arr = answered_correctly_user_part_std_arr[-train_size:]\n",
    "\n",
    "    user_feats_df = pd.DataFrame({\n",
    "        # 'lag1_part': lag1_part_arr,\n",
    "        'answered_user_part1_count': answered_user_part1_count_arr,\n",
    "        'answered_user_part2_count': answered_user_part2_count_arr,\n",
    "        'answered_user_part3_count': answered_user_part3_count_arr,\n",
    "        'answered_user_part4_count': answered_user_part4_count_arr,\n",
    "        'answered_user_part5_count': answered_user_part5_count_arr,\n",
    "        'answered_user_part6_count': answered_user_part6_count_arr,\n",
    "        'answered_user_part7_count': answered_user_part7_count_arr,\n",
    "        'answered_correctly_user_part1_sum': answered_correctly_user_part1_sum_arr,\n",
    "        'answered_correctly_user_part2_sum': answered_correctly_user_part2_sum_arr,\n",
    "        'answered_correctly_user_part3_sum': answered_correctly_user_part3_sum_arr,\n",
    "        'answered_correctly_user_part4_sum': answered_correctly_user_part4_sum_arr,\n",
    "        'answered_correctly_user_part5_sum': answered_correctly_user_part5_sum_arr,\n",
    "        'answered_correctly_user_part6_sum': answered_correctly_user_part6_sum_arr,\n",
    "        'answered_correctly_user_part7_sum': answered_correctly_user_part7_sum_arr,\n",
    "        'answered_correctly_user_part_mean': answered_correctly_user_part_mean_arr,\n",
    "        # 'answered_correctly_user_part_std': answered_correctly_user_part_std_arr\n",
    "    })\n",
    "\n",
    "    del answered_user_part1_count_arr, answered_user_part2_count_arr, answered_user_part3_count_arr, answered_user_part4_count_arr, answered_user_part5_count_arr, answered_user_part6_count_arr, answered_user_part7_count_arr, answered_correctly_user_part1_sum_arr, answered_correctly_user_part2_sum_arr, answered_correctly_user_part3_sum_arr, answered_correctly_user_part4_sum_arr, answered_correctly_user_part5_sum_arr, answered_correctly_user_part6_sum_arr, answered_correctly_user_part7_sum_arr, answered_correctly_user_part_mean_arr\n",
    "    gc.collect()\n",
    "\n",
    "    # df = df.reset_index(drop=True)\n",
    "    # df = pd.concat([df, user_feats_df], axis=1)\n",
    "\n",
    "    return user_feats_df"
   ]
  },
  {
   "cell_type": "code",
   "execution_count": null,
   "metadata": {},
   "outputs": [],
   "source": [
    "%%time\n",
    "answered_user_part_count_dict = defaultdict(lambda: defaultdict(int))\n",
    "answered_correctly_user_part_sum_dict = defaultdict(lambda: defaultdict(int))\n",
    "\n",
    "train_user_content_part_feats_df = add_content_part(train_df)\n",
    "valid_user_content_part_feats_df = add_content_part(valid_df)\n",
    "\n",
    "# train_df = add_content_part(train_df)\n",
    "# valid_df = add_content_part(valid_df)"
   ]
  },
  {
   "cell_type": "code",
   "execution_count": null,
   "metadata": {},
   "outputs": [],
   "source": [
    "train_user_content_part_feats_df"
   ]
  },
  {
   "cell_type": "code",
   "execution_count": null,
   "metadata": {},
   "outputs": [],
   "source": [
    "%%time\n",
    "train_user_content_part_feats_df.to_pickle('loop_features/train_user_content_part_feats_df_90M.pkl')\n",
    "valid_user_content_part_feats_df.to_pickle('loop_features/valid_user_content_part_feats_df_90M.pkl')"
   ]
  },
  {
   "cell_type": "code",
   "execution_count": null,
   "metadata": {},
   "outputs": [],
   "source": [
    "%%time\n",
    "dill.dump(answered_user_part_count_dict, open('dicts/answered_user_part_count_dict_file', 'wb'))\n",
    "dill.dump(answered_correctly_user_part_sum_dict, open('dicts/answered_correctly_user_part_sum_dict_file', 'wb'))"
   ]
  },
  {
   "cell_type": "markdown",
   "metadata": {},
   "source": [
    "## add_content_bundle (new)"
   ]
  },
  {
   "cell_type": "code",
   "execution_count": 8,
   "metadata": {},
   "outputs": [],
   "source": [
    "def add_content_bundle(df):\n",
    "    bundle_user_count_arr = np.zeros(len(df), dtype=np.int32)\n",
    "    bundle_user_count_bins_arr = np.zeros(len(df), dtype=np.int8)\n",
    "\n",
    "    for idx, (user_id, content_type_id, content_id) in enumerate(tqdm(df[['user_id', 'content_type_id', 'content_id']].values)):\n",
    "        if content_type_id == 0:\n",
    "            # add feature\n",
    "            bundle_user_count_arr[idx] = bundle_user_count_dict[user_id]\n",
    "            if bundle_user_count_arr[idx] > 30 and bundle_user_count_arr[idx] <= 125:\n",
    "                bundle_user_count_bins_arr[idx] = 1\n",
    "            if bundle_user_count_arr[idx] > 125 and bundle_user_count_arr[idx] <= 487:\n",
    "                bundle_user_count_bins_arr[idx] = 2\n",
    "            if bundle_user_count_arr[idx] > 487 and bundle_user_count_arr[idx] <= 1451:\n",
    "                bundle_user_count_bins_arr[idx] = 3\n",
    "            if bundle_user_count_arr[idx] > 1451:\n",
    "                bundle_user_count_bins_arr[idx] = 4\n",
    "\n",
    "            # update dict\n",
    "            bundle_user_count_dict[user_id] += 1\n",
    "        else:\n",
    "            pass\n",
    "    \n",
    "    bundle_user_count_arr = bundle_user_count_arr[-train_size:]\n",
    "    bundle_user_count_bins_arr = bundle_user_count_bins_arr[-train_size:]\n",
    "\n",
    "    user_feats_df = pd.DataFrame({\n",
    "        # 'bundle_user_count': bundle_user_count_arr,\n",
    "        'bundle_user_count_bins': bundle_user_count_bins_arr\n",
    "    })\n",
    "\n",
    "    del bundle_user_count_arr, bundle_user_count_bins_arr\n",
    "    gc.collect()\n",
    "\n",
    "    # df = df.reset_index(drop=True)\n",
    "    # df = pd.concat([df, user_feats_df], axis=1)\n",
    "\n",
    "    return user_feats_df"
   ]
  },
  {
   "cell_type": "code",
   "execution_count": 12,
   "metadata": {},
   "outputs": [
    {
     "data": {
      "application/vnd.jupyter.widget-view+json": {
       "model_id": "5f8bee05cbbd49898dc12a82bc2b0f76",
       "version_major": 2,
       "version_minor": 0
      },
      "text/plain": [
       "HBox(children=(HTML(value=''), FloatProgress(value=0.0, max=98730332.0), HTML(value='')))"
      ]
     },
     "metadata": {},
     "output_type": "display_data"
    },
    {
     "name": "stdout",
     "output_type": "stream",
     "text": [
      "\n"
     ]
    },
    {
     "data": {
      "application/vnd.jupyter.widget-view+json": {
       "model_id": "8ac126f916b248cd9e12e5e62fda4103",
       "version_major": 2,
       "version_minor": 0
      },
      "text/plain": [
       "HBox(children=(HTML(value=''), FloatProgress(value=0.0, max=2500000.0), HTML(value='')))"
      ]
     },
     "metadata": {},
     "output_type": "display_data"
    },
    {
     "name": "stdout",
     "output_type": "stream",
     "text": [
      "\n",
      "CPU times: user 19min 58s, sys: 5.82 s, total: 20min 3s\n",
      "Wall time: 19min 57s\n"
     ]
    }
   ],
   "source": [
    "%%time\n",
    "bundle_user_count_dict = defaultdict(int)\n",
    "\n",
    "train_user_content_bundle_feats_df = add_content_bundle(train_df)\n",
    "valid_user_content_bundle_feats_df = add_content_bundle(valid_df)\n",
    "\n",
    "# train_df = add_content_bundle(train_df)\n",
    "# valid_df = add_content_bundle(valid_df)"
   ]
  },
  {
   "cell_type": "code",
   "execution_count": 13,
   "metadata": {},
   "outputs": [
    {
     "data": {
      "text/html": [
       "<div>\n",
       "<style scoped>\n",
       "    .dataframe tbody tr th:only-of-type {\n",
       "        vertical-align: middle;\n",
       "    }\n",
       "\n",
       "    .dataframe tbody tr th {\n",
       "        vertical-align: top;\n",
       "    }\n",
       "\n",
       "    .dataframe thead th {\n",
       "        text-align: right;\n",
       "    }\n",
       "</style>\n",
       "<table border=\"1\" class=\"dataframe\">\n",
       "  <thead>\n",
       "    <tr style=\"text-align: right;\">\n",
       "      <th></th>\n",
       "      <th>bundle_user_count_bins</th>\n",
       "    </tr>\n",
       "  </thead>\n",
       "  <tbody>\n",
       "    <tr>\n",
       "      <th>0</th>\n",
       "      <td>0</td>\n",
       "    </tr>\n",
       "    <tr>\n",
       "      <th>1</th>\n",
       "      <td>0</td>\n",
       "    </tr>\n",
       "    <tr>\n",
       "      <th>2</th>\n",
       "      <td>0</td>\n",
       "    </tr>\n",
       "    <tr>\n",
       "      <th>3</th>\n",
       "      <td>0</td>\n",
       "    </tr>\n",
       "    <tr>\n",
       "      <th>4</th>\n",
       "      <td>0</td>\n",
       "    </tr>\n",
       "    <tr>\n",
       "      <th>...</th>\n",
       "      <td>...</td>\n",
       "    </tr>\n",
       "    <tr>\n",
       "      <th>98730327</th>\n",
       "      <td>0</td>\n",
       "    </tr>\n",
       "    <tr>\n",
       "      <th>98730328</th>\n",
       "      <td>4</td>\n",
       "    </tr>\n",
       "    <tr>\n",
       "      <th>98730329</th>\n",
       "      <td>3</td>\n",
       "    </tr>\n",
       "    <tr>\n",
       "      <th>98730330</th>\n",
       "      <td>0</td>\n",
       "    </tr>\n",
       "    <tr>\n",
       "      <th>98730331</th>\n",
       "      <td>4</td>\n",
       "    </tr>\n",
       "  </tbody>\n",
       "</table>\n",
       "<p>98730332 rows × 1 columns</p>\n",
       "</div>"
      ],
      "text/plain": [
       "          bundle_user_count_bins\n",
       "0                              0\n",
       "1                              0\n",
       "2                              0\n",
       "3                              0\n",
       "4                              0\n",
       "...                          ...\n",
       "98730327                       0\n",
       "98730328                       4\n",
       "98730329                       3\n",
       "98730330                       0\n",
       "98730331                       4\n",
       "\n",
       "[98730332 rows x 1 columns]"
      ]
     },
     "execution_count": 13,
     "metadata": {},
     "output_type": "execute_result"
    }
   ],
   "source": [
    "train_user_content_bundle_feats_df"
   ]
  },
  {
   "cell_type": "code",
   "execution_count": 14,
   "metadata": {},
   "outputs": [
    {
     "name": "stdout",
     "output_type": "stream",
     "text": [
      "CPU times: user 48.9 ms, sys: 172 ms, total: 221 ms\n",
      "Wall time: 221 ms\n"
     ]
    }
   ],
   "source": [
    "%%time\n",
    "train_user_content_bundle_feats_df.to_pickle('loop_features/train_user_content_bundle_feats_df_90M.pkl')\n",
    "valid_user_content_bundle_feats_df.to_pickle('loop_features/valid_user_content_bundle_feats_df_90M.pkl')"
   ]
  },
  {
   "cell_type": "code",
   "execution_count": 15,
   "metadata": {},
   "outputs": [
    {
     "name": "stdout",
     "output_type": "stream",
     "text": [
      "CPU times: user 6.73 s, sys: 148 ms, total: 6.87 s\n",
      "Wall time: 6.87 s\n"
     ]
    }
   ],
   "source": [
    "%%time\n",
    "dill.dump(bundle_user_count_dict, open('dicts/bundle_user_count_dict_file', 'wb'))"
   ]
  },
  {
   "cell_type": "markdown",
   "metadata": {},
   "source": [
    "## add_attempts"
   ]
  },
  {
   "cell_type": "code",
   "execution_count": 19,
   "metadata": {},
   "outputs": [],
   "source": [
    "def add_attempts(df):\n",
    "    attempts_arr = np.zeros(len(df), dtype=np.int8)\n",
    "\n",
    "    for idx, (user_id, content_type_id, content_id) in enumerate(tqdm(df[['user_id', 'content_type_id', 'content_id']].values)):\n",
    "        if content_type_id == 0:\n",
    "            # add feature\n",
    "            attempts_arr[idx] = attempts_dict[user_id][content_id]\n",
    "            # update dict\n",
    "            attempts_dict[user_id][content_id] += 1\n",
    "        else:\n",
    "            pass\n",
    "\n",
    "    attempts_arr = attempts_arr[-train_size:]\n",
    "\n",
    "    user_feats_df = pd.DataFrame({\n",
    "        'attempts': attempts_arr\n",
    "    })\n",
    "\n",
    "    del attempts_arr\n",
    "    gc.collect()\n",
    "\n",
    "    # df = df.reset_index(drop=True)\n",
    "    # df = pd.concat([df, user_feats_df], axis=1)\n",
    "\n",
    "    return user_feats_df"
   ]
  },
  {
   "cell_type": "code",
   "execution_count": 20,
   "metadata": {},
   "outputs": [
    {
     "data": {
      "application/vnd.jupyter.widget-view+json": {
       "model_id": "856e41667bef4ab086154f2b6af23c89",
       "version_major": 2,
       "version_minor": 0
      },
      "text/plain": [
       "HBox(children=(HTML(value=''), FloatProgress(value=0.0, max=98730332.0), HTML(value='')))"
      ]
     },
     "metadata": {},
     "output_type": "display_data"
    },
    {
     "name": "stdout",
     "output_type": "stream",
     "text": [
      "\n"
     ]
    },
    {
     "data": {
      "application/vnd.jupyter.widget-view+json": {
       "model_id": "1de95b1e780544b9b28d14a0760c67b8",
       "version_major": 2,
       "version_minor": 0
      },
      "text/plain": [
       "HBox(children=(HTML(value=''), FloatProgress(value=0.0, max=2500000.0), HTML(value='')))"
      ]
     },
     "metadata": {},
     "output_type": "display_data"
    },
    {
     "name": "stdout",
     "output_type": "stream",
     "text": [
      "\n",
      "CPU times: user 5min 39s, sys: 2.26 s, total: 5min 41s\n",
      "Wall time: 5min 40s\n"
     ]
    }
   ],
   "source": [
    "%%time\n",
    "attempts_dict = defaultdict(lambda: defaultdict(int))\n",
    "\n",
    "train_user_attempts_feats_df = add_attempts(train_df)\n",
    "valid_user_attempts_feats_df = add_attempts(valid_df)\n",
    "\n",
    "# train_df = add_attempts(train_df)\n",
    "# valid_df = add_attempts(valid_df)"
   ]
  },
  {
   "cell_type": "code",
   "execution_count": 21,
   "metadata": {},
   "outputs": [
    {
     "data": {
      "text/html": [
       "<div>\n",
       "<style scoped>\n",
       "    .dataframe tbody tr th:only-of-type {\n",
       "        vertical-align: middle;\n",
       "    }\n",
       "\n",
       "    .dataframe tbody tr th {\n",
       "        vertical-align: top;\n",
       "    }\n",
       "\n",
       "    .dataframe thead th {\n",
       "        text-align: right;\n",
       "    }\n",
       "</style>\n",
       "<table border=\"1\" class=\"dataframe\">\n",
       "  <thead>\n",
       "    <tr style=\"text-align: right;\">\n",
       "      <th></th>\n",
       "      <th>attempts</th>\n",
       "    </tr>\n",
       "  </thead>\n",
       "  <tbody>\n",
       "    <tr>\n",
       "      <th>0</th>\n",
       "      <td>0</td>\n",
       "    </tr>\n",
       "    <tr>\n",
       "      <th>1</th>\n",
       "      <td>0</td>\n",
       "    </tr>\n",
       "    <tr>\n",
       "      <th>2</th>\n",
       "      <td>0</td>\n",
       "    </tr>\n",
       "    <tr>\n",
       "      <th>3</th>\n",
       "      <td>0</td>\n",
       "    </tr>\n",
       "    <tr>\n",
       "      <th>4</th>\n",
       "      <td>0</td>\n",
       "    </tr>\n",
       "    <tr>\n",
       "      <th>...</th>\n",
       "      <td>...</td>\n",
       "    </tr>\n",
       "    <tr>\n",
       "      <th>98730327</th>\n",
       "      <td>0</td>\n",
       "    </tr>\n",
       "    <tr>\n",
       "      <th>98730328</th>\n",
       "      <td>0</td>\n",
       "    </tr>\n",
       "    <tr>\n",
       "      <th>98730329</th>\n",
       "      <td>0</td>\n",
       "    </tr>\n",
       "    <tr>\n",
       "      <th>98730330</th>\n",
       "      <td>0</td>\n",
       "    </tr>\n",
       "    <tr>\n",
       "      <th>98730331</th>\n",
       "      <td>0</td>\n",
       "    </tr>\n",
       "  </tbody>\n",
       "</table>\n",
       "<p>98730332 rows × 1 columns</p>\n",
       "</div>"
      ],
      "text/plain": [
       "          attempts\n",
       "0                0\n",
       "1                0\n",
       "2                0\n",
       "3                0\n",
       "4                0\n",
       "...            ...\n",
       "98730327         0\n",
       "98730328         0\n",
       "98730329         0\n",
       "98730330         0\n",
       "98730331         0\n",
       "\n",
       "[98730332 rows x 1 columns]"
      ]
     },
     "execution_count": 21,
     "metadata": {},
     "output_type": "execute_result"
    }
   ],
   "source": [
    "train_user_attempts_feats_df"
   ]
  },
  {
   "cell_type": "code",
   "execution_count": 22,
   "metadata": {},
   "outputs": [
    {
     "name": "stdout",
     "output_type": "stream",
     "text": [
      "CPU times: user 39.5 ms, sys: 171 ms, total: 210 ms\n",
      "Wall time: 210 ms\n"
     ]
    }
   ],
   "source": [
    "%%time\n",
    "train_user_attempts_feats_df.to_pickle('loop_features/train_user_attempts_feats_df_90M.pkl')\n",
    "valid_user_attempts_feats_df.to_pickle('loop_features/valid_user_attempts_feats_df_90M.pkl')"
   ]
  },
  {
   "cell_type": "code",
   "execution_count": 23,
   "metadata": {},
   "outputs": [
    {
     "name": "stdout",
     "output_type": "stream",
     "text": [
      "CPU times: user 32min 34s, sys: 29 s, total: 33min 3s\n",
      "Wall time: 33min 2s\n"
     ]
    }
   ],
   "source": [
    "%%time\n",
    "dill.dump(attempts_dict, open('dicts/attempts_dict_file', 'wb'))"
   ]
  },
  {
   "cell_type": "markdown",
   "metadata": {},
   "source": [
    "## add_lecture"
   ]
  },
  {
   "cell_type": "code",
   "execution_count": 5,
   "metadata": {},
   "outputs": [],
   "source": [
    "def add_lecture(df):\n",
    "    lecture_user_count_arr = np.zeros(len(df), dtype=np.int16)\n",
    "\n",
    "    for idx, (user_id, content_id, content_type_id) in enumerate(tqdm(df[['user_id', 'content_id', 'content_type_id']].values)):\n",
    "        # add feature\n",
    "        lecture_user_count_arr[idx] = lecture_user_count_dict[user_id]\n",
    "        if content_type_id == 0:\n",
    "            pass\n",
    "        else:\n",
    "            # update dict\n",
    "            lecture_user_count_dict[user_id] += 1\n",
    "\n",
    "    lecture_user_count_arr = lecture_user_count_arr[-train_size:]\n",
    "\n",
    "    user_feats_df = pd.DataFrame({\n",
    "        'lecture_user_count': lecture_user_count_arr\n",
    "    })\n",
    "\n",
    "    del lecture_user_count_arr\n",
    "    gc.collect()\n",
    "\n",
    "    # df = df.reset_index(drop=True)\n",
    "    # df = pd.concat([df, user_feats_df], axis=1)\n",
    "\n",
    "    return user_feats_df"
   ]
  },
  {
   "cell_type": "code",
   "execution_count": 6,
   "metadata": {},
   "outputs": [
    {
     "data": {
      "application/vnd.jupyter.widget-view+json": {
       "model_id": "f0ffa9019a424bd9b505f3c47599cad7",
       "version_major": 2,
       "version_minor": 0
      },
      "text/plain": [
       "HBox(children=(HTML(value=''), FloatProgress(value=0.0, max=98730332.0), HTML(value='')))"
      ]
     },
     "metadata": {},
     "output_type": "display_data"
    },
    {
     "name": "stdout",
     "output_type": "stream",
     "text": [
      "\n"
     ]
    },
    {
     "data": {
      "application/vnd.jupyter.widget-view+json": {
       "model_id": "7227f5d629cb451a92defd6ac772115a",
       "version_major": 2,
       "version_minor": 0
      },
      "text/plain": [
       "HBox(children=(HTML(value=''), FloatProgress(value=0.0, max=2500000.0), HTML(value='')))"
      ]
     },
     "metadata": {},
     "output_type": "display_data"
    },
    {
     "name": "stdout",
     "output_type": "stream",
     "text": [
      "\n",
      "CPU times: user 5min 21s, sys: 1.39 s, total: 5min 22s\n",
      "Wall time: 5min 21s\n"
     ]
    }
   ],
   "source": [
    "%%time\n",
    "lecture_user_count_dict = defaultdict(int)\n",
    "\n",
    "train_user_lecture_feats_df = add_lecture(train_df)\n",
    "valid_user_lecture_feats_df = add_lecture(valid_df)\n",
    "\n",
    "# train_df = add_lecture(train_df)\n",
    "# valid_df = add_lecture(valid_df)"
   ]
  },
  {
   "cell_type": "code",
   "execution_count": 7,
   "metadata": {},
   "outputs": [
    {
     "data": {
      "text/html": [
       "<div>\n",
       "<style scoped>\n",
       "    .dataframe tbody tr th:only-of-type {\n",
       "        vertical-align: middle;\n",
       "    }\n",
       "\n",
       "    .dataframe tbody tr th {\n",
       "        vertical-align: top;\n",
       "    }\n",
       "\n",
       "    .dataframe thead th {\n",
       "        text-align: right;\n",
       "    }\n",
       "</style>\n",
       "<table border=\"1\" class=\"dataframe\">\n",
       "  <thead>\n",
       "    <tr style=\"text-align: right;\">\n",
       "      <th></th>\n",
       "      <th>lecture_user_count</th>\n",
       "    </tr>\n",
       "  </thead>\n",
       "  <tbody>\n",
       "    <tr>\n",
       "      <th>0</th>\n",
       "      <td>0</td>\n",
       "    </tr>\n",
       "    <tr>\n",
       "      <th>1</th>\n",
       "      <td>0</td>\n",
       "    </tr>\n",
       "    <tr>\n",
       "      <th>2</th>\n",
       "      <td>0</td>\n",
       "    </tr>\n",
       "    <tr>\n",
       "      <th>3</th>\n",
       "      <td>0</td>\n",
       "    </tr>\n",
       "    <tr>\n",
       "      <th>4</th>\n",
       "      <td>0</td>\n",
       "    </tr>\n",
       "    <tr>\n",
       "      <th>...</th>\n",
       "      <td>...</td>\n",
       "    </tr>\n",
       "    <tr>\n",
       "      <th>98730327</th>\n",
       "      <td>44</td>\n",
       "    </tr>\n",
       "    <tr>\n",
       "      <th>98730328</th>\n",
       "      <td>82</td>\n",
       "    </tr>\n",
       "    <tr>\n",
       "      <th>98730329</th>\n",
       "      <td>1</td>\n",
       "    </tr>\n",
       "    <tr>\n",
       "      <th>98730330</th>\n",
       "      <td>24</td>\n",
       "    </tr>\n",
       "    <tr>\n",
       "      <th>98730331</th>\n",
       "      <td>88</td>\n",
       "    </tr>\n",
       "  </tbody>\n",
       "</table>\n",
       "<p>98730332 rows × 1 columns</p>\n",
       "</div>"
      ],
      "text/plain": [
       "          lecture_user_count\n",
       "0                          0\n",
       "1                          0\n",
       "2                          0\n",
       "3                          0\n",
       "4                          0\n",
       "...                      ...\n",
       "98730327                  44\n",
       "98730328                  82\n",
       "98730329                   1\n",
       "98730330                  24\n",
       "98730331                  88\n",
       "\n",
       "[98730332 rows x 1 columns]"
      ]
     },
     "execution_count": 7,
     "metadata": {},
     "output_type": "execute_result"
    }
   ],
   "source": [
    "train_user_lecture_feats_df"
   ]
  },
  {
   "cell_type": "code",
   "execution_count": 8,
   "metadata": {},
   "outputs": [
    {
     "name": "stdout",
     "output_type": "stream",
     "text": [
      "CPU times: user 129 ms, sys: 325 ms, total: 453 ms\n",
      "Wall time: 452 ms\n"
     ]
    }
   ],
   "source": [
    "%%time\n",
    "train_user_lecture_feats_df.to_pickle('loop_features/train_user_lecture_feats_df_90M.pkl')\n",
    "valid_user_lecture_feats_df.to_pickle('loop_features/valid_user_lecture_feats_df_90M.pkl')"
   ]
  },
  {
   "cell_type": "code",
   "execution_count": 9,
   "metadata": {},
   "outputs": [
    {
     "name": "stdout",
     "output_type": "stream",
     "text": [
      "CPU times: user 6.54 s, sys: 144 ms, total: 6.68 s\n",
      "Wall time: 6.68 s\n"
     ]
    }
   ],
   "source": [
    "%%time\n",
    "dill.dump(lecture_user_count_dict, open('dicts/lecture_user_count_dict_file', 'wb'))"
   ]
  },
  {
   "cell_type": "markdown",
   "metadata": {},
   "source": [
    "## add_lecture_part"
   ]
  },
  {
   "cell_type": "code",
   "execution_count": 13,
   "metadata": {},
   "outputs": [],
   "source": [
    "def add_lecture_part(df):\n",
    "    lecture_user_part1_count_arr = np.zeros(len(df), dtype=np.int8)\n",
    "    lecture_user_part2_count_arr = np.zeros(len(df), dtype=np.int8)\n",
    "    lecture_user_part3_count_arr = np.zeros(len(df), dtype=np.int8)\n",
    "    lecture_user_part4_count_arr = np.zeros(len(df), dtype=np.int8)\n",
    "    lecture_user_part5_count_arr = np.zeros(len(df), dtype=np.int8)\n",
    "    lecture_user_part6_count_arr = np.zeros(len(df), dtype=np.int8)\n",
    "    lecture_user_part7_count_arr = np.zeros(len(df), dtype=np.int8)\n",
    "    \n",
    "    for idx, (user_id, content_id, content_type_id) in enumerate(tqdm(df[['user_id', 'content_id', 'content_type_id']].values)):\n",
    "        # add feature\n",
    "        lecture_user_part1_count_arr[idx] = lecture_user_part_count_dict[user_id][1]\n",
    "        lecture_user_part2_count_arr[idx] = lecture_user_part_count_dict[user_id][2]\n",
    "        lecture_user_part3_count_arr[idx] = lecture_user_part_count_dict[user_id][3]\n",
    "        lecture_user_part4_count_arr[idx] = lecture_user_part_count_dict[user_id][4]\n",
    "        lecture_user_part5_count_arr[idx] = lecture_user_part_count_dict[user_id][5]\n",
    "        lecture_user_part6_count_arr[idx] = lecture_user_part_count_dict[user_id][6]\n",
    "        lecture_user_part7_count_arr[idx] = lecture_user_part_count_dict[user_id][7]\n",
    "        \n",
    "        if content_type_id == 0:\n",
    "            pass\n",
    "        else:\n",
    "            lect_part_id = lecture_part_dict[content_id]\n",
    "            # update dict\n",
    "            lecture_user_part_count_dict[user_id][lect_part_id] += 1\n",
    "\n",
    "    lecture_user_part1_count_arr = lecture_user_part1_count_arr[-train_size:]\n",
    "    lecture_user_part2_count_arr = lecture_user_part2_count_arr[-train_size:]\n",
    "    lecture_user_part3_count_arr = lecture_user_part3_count_arr[-train_size:]\n",
    "    lecture_user_part4_count_arr = lecture_user_part4_count_arr[-train_size:]\n",
    "    lecture_user_part5_count_arr = lecture_user_part5_count_arr[-train_size:]\n",
    "    lecture_user_part6_count_arr = lecture_user_part6_count_arr[-train_size:]\n",
    "    lecture_user_part7_count_arr = lecture_user_part7_count_arr[-train_size:]\n",
    "\n",
    "    user_feats_df = pd.DataFrame({\n",
    "        'lecture_user_part1_count': lecture_user_part1_count_arr,\n",
    "        'lecture_user_part2_count': lecture_user_part2_count_arr,\n",
    "        'lecture_user_part3_count': lecture_user_part3_count_arr,\n",
    "        'lecture_user_part4_count': lecture_user_part4_count_arr,\n",
    "        'lecture_user_part5_count': lecture_user_part5_count_arr,\n",
    "        'lecture_user_part6_count': lecture_user_part6_count_arr,\n",
    "        'lecture_user_part7_count': lecture_user_part7_count_arr\n",
    "    })\n",
    "\n",
    "    del lecture_user_part1_count_arr, lecture_user_part2_count_arr, lecture_user_part3_count_arr, lecture_user_part4_count_arr, lecture_user_part5_count_arr, lecture_user_part6_count_arr, lecture_user_part7_count_arr\n",
    "    gc.collect()\n",
    "\n",
    "    # df = df.reset_index(drop=True)\n",
    "    # df = pd.concat([df, user_feats_df], axis=1)\n",
    "\n",
    "    return user_feats_df"
   ]
  },
  {
   "cell_type": "code",
   "execution_count": 14,
   "metadata": {},
   "outputs": [
    {
     "data": {
      "application/vnd.jupyter.widget-view+json": {
       "model_id": "056316b171d24fd5acf4da842ed7ff23",
       "version_major": 2,
       "version_minor": 0
      },
      "text/plain": [
       "HBox(children=(HTML(value=''), FloatProgress(value=0.0, max=98730332.0), HTML(value='')))"
      ]
     },
     "metadata": {},
     "output_type": "display_data"
    },
    {
     "name": "stdout",
     "output_type": "stream",
     "text": [
      "\n"
     ]
    },
    {
     "data": {
      "application/vnd.jupyter.widget-view+json": {
       "model_id": "92e76acf34e14a0bae33c9d965ee4844",
       "version_major": 2,
       "version_minor": 0
      },
      "text/plain": [
       "HBox(children=(HTML(value=''), FloatProgress(value=0.0, max=2500000.0), HTML(value='')))"
      ]
     },
     "metadata": {},
     "output_type": "display_data"
    },
    {
     "name": "stdout",
     "output_type": "stream",
     "text": [
      "\n",
      "CPU times: user 6min 57s, sys: 2.75 s, total: 7min\n",
      "Wall time: 6min 58s\n"
     ]
    }
   ],
   "source": [
    "%%time\n",
    "lecture_user_part_count_dict = defaultdict(lambda: defaultdict(int))\n",
    "\n",
    "train_user_lecture_part_feats_df = add_lecture_part(train_df)\n",
    "valid_user_lecture_part_feats_df = add_lecture_part(valid_df)\n",
    "\n",
    "# train_df = add_lecture_part(train_df)\n",
    "# valid_df = add_lecture_part(valid_df)"
   ]
  },
  {
   "cell_type": "code",
   "execution_count": 15,
   "metadata": {},
   "outputs": [
    {
     "data": {
      "text/html": [
       "<div>\n",
       "<style scoped>\n",
       "    .dataframe tbody tr th:only-of-type {\n",
       "        vertical-align: middle;\n",
       "    }\n",
       "\n",
       "    .dataframe tbody tr th {\n",
       "        vertical-align: top;\n",
       "    }\n",
       "\n",
       "    .dataframe thead th {\n",
       "        text-align: right;\n",
       "    }\n",
       "</style>\n",
       "<table border=\"1\" class=\"dataframe\">\n",
       "  <thead>\n",
       "    <tr style=\"text-align: right;\">\n",
       "      <th></th>\n",
       "      <th>lecture_user_part1_count</th>\n",
       "      <th>lecture_user_part2_count</th>\n",
       "      <th>lecture_user_part3_count</th>\n",
       "      <th>lecture_user_part4_count</th>\n",
       "      <th>lecture_user_part5_count</th>\n",
       "      <th>lecture_user_part6_count</th>\n",
       "      <th>lecture_user_part7_count</th>\n",
       "    </tr>\n",
       "  </thead>\n",
       "  <tbody>\n",
       "    <tr>\n",
       "      <th>0</th>\n",
       "      <td>0</td>\n",
       "      <td>0</td>\n",
       "      <td>0</td>\n",
       "      <td>0</td>\n",
       "      <td>0</td>\n",
       "      <td>0</td>\n",
       "      <td>0</td>\n",
       "    </tr>\n",
       "    <tr>\n",
       "      <th>1</th>\n",
       "      <td>0</td>\n",
       "      <td>0</td>\n",
       "      <td>0</td>\n",
       "      <td>0</td>\n",
       "      <td>0</td>\n",
       "      <td>0</td>\n",
       "      <td>0</td>\n",
       "    </tr>\n",
       "    <tr>\n",
       "      <th>2</th>\n",
       "      <td>0</td>\n",
       "      <td>0</td>\n",
       "      <td>0</td>\n",
       "      <td>0</td>\n",
       "      <td>0</td>\n",
       "      <td>0</td>\n",
       "      <td>0</td>\n",
       "    </tr>\n",
       "    <tr>\n",
       "      <th>3</th>\n",
       "      <td>0</td>\n",
       "      <td>0</td>\n",
       "      <td>0</td>\n",
       "      <td>0</td>\n",
       "      <td>0</td>\n",
       "      <td>0</td>\n",
       "      <td>0</td>\n",
       "    </tr>\n",
       "    <tr>\n",
       "      <th>4</th>\n",
       "      <td>0</td>\n",
       "      <td>0</td>\n",
       "      <td>0</td>\n",
       "      <td>0</td>\n",
       "      <td>0</td>\n",
       "      <td>0</td>\n",
       "      <td>0</td>\n",
       "    </tr>\n",
       "    <tr>\n",
       "      <th>...</th>\n",
       "      <td>...</td>\n",
       "      <td>...</td>\n",
       "      <td>...</td>\n",
       "      <td>...</td>\n",
       "      <td>...</td>\n",
       "      <td>...</td>\n",
       "      <td>...</td>\n",
       "    </tr>\n",
       "    <tr>\n",
       "      <th>98730327</th>\n",
       "      <td>4</td>\n",
       "      <td>2</td>\n",
       "      <td>1</td>\n",
       "      <td>3</td>\n",
       "      <td>21</td>\n",
       "      <td>12</td>\n",
       "      <td>1</td>\n",
       "    </tr>\n",
       "    <tr>\n",
       "      <th>98730328</th>\n",
       "      <td>1</td>\n",
       "      <td>2</td>\n",
       "      <td>5</td>\n",
       "      <td>1</td>\n",
       "      <td>36</td>\n",
       "      <td>37</td>\n",
       "      <td>0</td>\n",
       "    </tr>\n",
       "    <tr>\n",
       "      <th>98730329</th>\n",
       "      <td>0</td>\n",
       "      <td>0</td>\n",
       "      <td>0</td>\n",
       "      <td>0</td>\n",
       "      <td>1</td>\n",
       "      <td>0</td>\n",
       "      <td>0</td>\n",
       "    </tr>\n",
       "    <tr>\n",
       "      <th>98730330</th>\n",
       "      <td>1</td>\n",
       "      <td>0</td>\n",
       "      <td>0</td>\n",
       "      <td>4</td>\n",
       "      <td>18</td>\n",
       "      <td>1</td>\n",
       "      <td>0</td>\n",
       "    </tr>\n",
       "    <tr>\n",
       "      <th>98730331</th>\n",
       "      <td>0</td>\n",
       "      <td>34</td>\n",
       "      <td>0</td>\n",
       "      <td>0</td>\n",
       "      <td>54</td>\n",
       "      <td>0</td>\n",
       "      <td>0</td>\n",
       "    </tr>\n",
       "  </tbody>\n",
       "</table>\n",
       "<p>98730332 rows × 7 columns</p>\n",
       "</div>"
      ],
      "text/plain": [
       "          lecture_user_part1_count  lecture_user_part2_count  \\\n",
       "0                                0                         0   \n",
       "1                                0                         0   \n",
       "2                                0                         0   \n",
       "3                                0                         0   \n",
       "4                                0                         0   \n",
       "...                            ...                       ...   \n",
       "98730327                         4                         2   \n",
       "98730328                         1                         2   \n",
       "98730329                         0                         0   \n",
       "98730330                         1                         0   \n",
       "98730331                         0                        34   \n",
       "\n",
       "          lecture_user_part3_count  lecture_user_part4_count  \\\n",
       "0                                0                         0   \n",
       "1                                0                         0   \n",
       "2                                0                         0   \n",
       "3                                0                         0   \n",
       "4                                0                         0   \n",
       "...                            ...                       ...   \n",
       "98730327                         1                         3   \n",
       "98730328                         5                         1   \n",
       "98730329                         0                         0   \n",
       "98730330                         0                         4   \n",
       "98730331                         0                         0   \n",
       "\n",
       "          lecture_user_part5_count  lecture_user_part6_count  \\\n",
       "0                                0                         0   \n",
       "1                                0                         0   \n",
       "2                                0                         0   \n",
       "3                                0                         0   \n",
       "4                                0                         0   \n",
       "...                            ...                       ...   \n",
       "98730327                        21                        12   \n",
       "98730328                        36                        37   \n",
       "98730329                         1                         0   \n",
       "98730330                        18                         1   \n",
       "98730331                        54                         0   \n",
       "\n",
       "          lecture_user_part7_count  \n",
       "0                                0  \n",
       "1                                0  \n",
       "2                                0  \n",
       "3                                0  \n",
       "4                                0  \n",
       "...                            ...  \n",
       "98730327                         1  \n",
       "98730328                         0  \n",
       "98730329                         0  \n",
       "98730330                         0  \n",
       "98730331                         0  \n",
       "\n",
       "[98730332 rows x 7 columns]"
      ]
     },
     "execution_count": 15,
     "metadata": {},
     "output_type": "execute_result"
    }
   ],
   "source": [
    "train_user_lecture_part_feats_df"
   ]
  },
  {
   "cell_type": "code",
   "execution_count": 16,
   "metadata": {},
   "outputs": [
    {
     "name": "stdout",
     "output_type": "stream",
     "text": [
      "CPU times: user 349 ms, sys: 1.19 s, total: 1.54 s\n",
      "Wall time: 1.54 s\n"
     ]
    }
   ],
   "source": [
    "%%time\n",
    "train_user_lecture_part_feats_df.to_pickle('loop_features/train_user_lecture_part_feats_df_90M.pkl')\n",
    "valid_user_lecture_part_feats_df.to_pickle('loop_features/valid_user_lecture_part_feats_df_90M.pkl')"
   ]
  },
  {
   "cell_type": "code",
   "execution_count": 17,
   "metadata": {},
   "outputs": [
    {
     "name": "stdout",
     "output_type": "stream",
     "text": [
      "CPU times: user 19.6 s, sys: 288 ms, total: 19.9 s\n",
      "Wall time: 19.9 s\n"
     ]
    }
   ],
   "source": [
    "%%time\n",
    "dill.dump(lecture_user_part_count_dict, open('dicts/lecture_user_part_count_dict_file', 'wb'))"
   ]
  },
  {
   "cell_type": "markdown",
   "metadata": {},
   "source": [
    "## add_lecture_type"
   ]
  },
  {
   "cell_type": "code",
   "execution_count": 19,
   "metadata": {},
   "outputs": [],
   "source": [
    "def add_lecture_type(df):\n",
    "    lecture_user_concept_count_arr = np.zeros(len(df), dtype=np.int8)\n",
    "    lecture_user_solving_question_count_arr = np.zeros(len(df), dtype=np.int8)\n",
    "    lecture_user_intention_count_arr = np.zeros(len(df), dtype=np.int8)\n",
    "    lecture_user_starter_count_arr = np.zeros(len(df), dtype=np.int8)\n",
    "\n",
    "    for idx, (user_id, content_id, content_type_id) in enumerate(tqdm(df[['user_id', 'content_id', 'content_type_id']].values)):\n",
    "        # add feature\n",
    "        lecture_user_concept_count_arr[idx] = lecture_user_type_count_dict[user_id]['concept']\n",
    "        lecture_user_solving_question_count_arr[idx] = lecture_user_type_count_dict[user_id]['solving_question']\n",
    "        lecture_user_intention_count_arr[idx] = lecture_user_type_count_dict[user_id]['intention']\n",
    "        lecture_user_starter_count_arr[idx] = lecture_user_type_count_dict[user_id]['starter']\n",
    "\n",
    "        if content_type_id == 0:\n",
    "            pass\n",
    "        else:\n",
    "            type_id = lecture_type_dict[content_id]\n",
    "            # update dict\n",
    "            lecture_user_type_count_dict[user_id][type_id] += 1\n",
    "        \n",
    "    lecture_user_concept_count_arr = lecture_user_concept_count_arr[-train_size:]\n",
    "    lecture_user_solving_question_count_arr = lecture_user_solving_question_count_arr[-train_size:]\n",
    "    lecture_user_intention_count_arr = lecture_user_intention_count_arr[-train_size:]\n",
    "    lecture_user_starter_count_arr = lecture_user_starter_count_arr[-train_size:]\n",
    "\n",
    "    user_feats_df = pd.DataFrame({\n",
    "        'lecture_user_concept_count': lecture_user_concept_count_arr,\n",
    "        'lecture_user_solving_question_count': lecture_user_solving_question_count_arr,\n",
    "        'lecture_user_intention_count': lecture_user_intention_count_arr,\n",
    "        # 'lecture_user_starter_count': lecture_user_starter_count_arr\n",
    "    })\n",
    "\n",
    "    del lecture_user_concept_count_arr, lecture_user_solving_question_count_arr, lecture_user_intention_count_arr, lecture_user_starter_count_arr\n",
    "    gc.collect()\n",
    "\n",
    "    # df = df.reset_index(drop=True)\n",
    "    # df = pd.concat([df, user_feats_df], axis=1)\n",
    "\n",
    "    return user_feats_df"
   ]
  },
  {
   "cell_type": "code",
   "execution_count": 20,
   "metadata": {},
   "outputs": [
    {
     "data": {
      "application/vnd.jupyter.widget-view+json": {
       "model_id": "976c8d594d46437d8f7de1f7a5d0eb09",
       "version_major": 2,
       "version_minor": 0
      },
      "text/plain": [
       "HBox(children=(HTML(value=''), FloatProgress(value=0.0, max=98730332.0), HTML(value='')))"
      ]
     },
     "metadata": {},
     "output_type": "display_data"
    },
    {
     "name": "stdout",
     "output_type": "stream",
     "text": [
      "\n"
     ]
    },
    {
     "data": {
      "application/vnd.jupyter.widget-view+json": {
       "model_id": "818a8569c5ce4042bfcaef0967625d60",
       "version_major": 2,
       "version_minor": 0
      },
      "text/plain": [
       "HBox(children=(HTML(value=''), FloatProgress(value=0.0, max=2500000.0), HTML(value='')))"
      ]
     },
     "metadata": {},
     "output_type": "display_data"
    },
    {
     "name": "stdout",
     "output_type": "stream",
     "text": [
      "\n",
      "CPU times: user 6min 12s, sys: 2.24 s, total: 6min 15s\n",
      "Wall time: 6min 13s\n"
     ]
    }
   ],
   "source": [
    "%%time\n",
    "lecture_user_type_count_dict = defaultdict(lambda: defaultdict(int))\n",
    "\n",
    "train_user_lecture_type_feats_df = add_lecture_type(train_df)\n",
    "valid_user_lecture_type_feats_df = add_lecture_type(valid_df)\n",
    "\n",
    "# train_df = add_lecture_type(train_df)\n",
    "# valid_df = add_lecture_type(valid_df)"
   ]
  },
  {
   "cell_type": "code",
   "execution_count": 21,
   "metadata": {},
   "outputs": [
    {
     "data": {
      "text/html": [
       "<div>\n",
       "<style scoped>\n",
       "    .dataframe tbody tr th:only-of-type {\n",
       "        vertical-align: middle;\n",
       "    }\n",
       "\n",
       "    .dataframe tbody tr th {\n",
       "        vertical-align: top;\n",
       "    }\n",
       "\n",
       "    .dataframe thead th {\n",
       "        text-align: right;\n",
       "    }\n",
       "</style>\n",
       "<table border=\"1\" class=\"dataframe\">\n",
       "  <thead>\n",
       "    <tr style=\"text-align: right;\">\n",
       "      <th></th>\n",
       "      <th>lecture_user_concept_count</th>\n",
       "      <th>lecture_user_solving_question_count</th>\n",
       "      <th>lecture_user_intention_count</th>\n",
       "    </tr>\n",
       "  </thead>\n",
       "  <tbody>\n",
       "    <tr>\n",
       "      <th>0</th>\n",
       "      <td>0</td>\n",
       "      <td>0</td>\n",
       "      <td>0</td>\n",
       "    </tr>\n",
       "    <tr>\n",
       "      <th>1</th>\n",
       "      <td>0</td>\n",
       "      <td>0</td>\n",
       "      <td>0</td>\n",
       "    </tr>\n",
       "    <tr>\n",
       "      <th>2</th>\n",
       "      <td>0</td>\n",
       "      <td>0</td>\n",
       "      <td>0</td>\n",
       "    </tr>\n",
       "    <tr>\n",
       "      <th>3</th>\n",
       "      <td>0</td>\n",
       "      <td>0</td>\n",
       "      <td>0</td>\n",
       "    </tr>\n",
       "    <tr>\n",
       "      <th>4</th>\n",
       "      <td>0</td>\n",
       "      <td>0</td>\n",
       "      <td>0</td>\n",
       "    </tr>\n",
       "    <tr>\n",
       "      <th>...</th>\n",
       "      <td>...</td>\n",
       "      <td>...</td>\n",
       "      <td>...</td>\n",
       "    </tr>\n",
       "    <tr>\n",
       "      <th>98730327</th>\n",
       "      <td>30</td>\n",
       "      <td>13</td>\n",
       "      <td>1</td>\n",
       "    </tr>\n",
       "    <tr>\n",
       "      <th>98730328</th>\n",
       "      <td>61</td>\n",
       "      <td>19</td>\n",
       "      <td>2</td>\n",
       "    </tr>\n",
       "    <tr>\n",
       "      <th>98730329</th>\n",
       "      <td>1</td>\n",
       "      <td>0</td>\n",
       "      <td>0</td>\n",
       "    </tr>\n",
       "    <tr>\n",
       "      <th>98730330</th>\n",
       "      <td>23</td>\n",
       "      <td>1</td>\n",
       "      <td>0</td>\n",
       "    </tr>\n",
       "    <tr>\n",
       "      <th>98730331</th>\n",
       "      <td>43</td>\n",
       "      <td>38</td>\n",
       "      <td>7</td>\n",
       "    </tr>\n",
       "  </tbody>\n",
       "</table>\n",
       "<p>98730332 rows × 3 columns</p>\n",
       "</div>"
      ],
      "text/plain": [
       "          lecture_user_concept_count  lecture_user_solving_question_count  \\\n",
       "0                                  0                                    0   \n",
       "1                                  0                                    0   \n",
       "2                                  0                                    0   \n",
       "3                                  0                                    0   \n",
       "4                                  0                                    0   \n",
       "...                              ...                                  ...   \n",
       "98730327                          30                                   13   \n",
       "98730328                          61                                   19   \n",
       "98730329                           1                                    0   \n",
       "98730330                          23                                    1   \n",
       "98730331                          43                                   38   \n",
       "\n",
       "          lecture_user_intention_count  \n",
       "0                                    0  \n",
       "1                                    0  \n",
       "2                                    0  \n",
       "3                                    0  \n",
       "4                                    0  \n",
       "...                                ...  \n",
       "98730327                             1  \n",
       "98730328                             2  \n",
       "98730329                             0  \n",
       "98730330                             0  \n",
       "98730331                             7  \n",
       "\n",
       "[98730332 rows x 3 columns]"
      ]
     },
     "execution_count": 21,
     "metadata": {},
     "output_type": "execute_result"
    }
   ],
   "source": [
    "train_user_lecture_type_feats_df"
   ]
  },
  {
   "cell_type": "code",
   "execution_count": 22,
   "metadata": {},
   "outputs": [
    {
     "name": "stdout",
     "output_type": "stream",
     "text": [
      "CPU times: user 147 ms, sys: 509 ms, total: 656 ms\n",
      "Wall time: 654 ms\n"
     ]
    }
   ],
   "source": [
    "%%time\n",
    "train_user_lecture_type_feats_df.to_pickle('loop_features/train_user_lecture_type_feats_df_90M.pkl')\n",
    "valid_user_lecture_type_feats_df.to_pickle('loop_features/valid_user_lecture_type_feats_df_90M.pkl')"
   ]
  },
  {
   "cell_type": "code",
   "execution_count": 23,
   "metadata": {},
   "outputs": [
    {
     "name": "stdout",
     "output_type": "stream",
     "text": [
      "CPU times: user 16.1 s, sys: 256 ms, total: 16.4 s\n",
      "Wall time: 16.4 s\n"
     ]
    }
   ],
   "source": [
    "%%time\n",
    "dill.dump(lecture_user_type_count_dict, open('dicts/lecture_user_type_count_dict_file', 'wb'))"
   ]
  },
  {
   "cell_type": "markdown",
   "metadata": {},
   "source": [
    "## add_elapsed_time"
   ]
  },
  {
   "cell_type": "code",
   "execution_count": 24,
   "metadata": {},
   "outputs": [],
   "source": [
    "def add_elapsed_time(df):\n",
    "    prior_elapsed_time_sum_arr = np.zeros(len(df), dtype=np.float32)\n",
    "    prior_elapsed_time_diff_arr = np.zeros(len(df), dtype=np.float32)\n",
    "\n",
    "    for idx, (user_id, content_type_id, prior_question_elapsed_time) in enumerate(tqdm(df[['user_id', 'content_type_id', 'prior_question_elapsed_time']].values)):\n",
    "        if content_type_id == 0:\n",
    "            if prior_question_elapsed_time != prior_question_elapsed_time: # check nan\n",
    "                # add feature\n",
    "                prior_elapsed_time_sum_arr[idx] = prior_elapsed_time_sum_dict[user_id]\n",
    "                prior_elapsed_time_diff_arr[idx] = prior_elapsed_time_dict[user_id]\n",
    "            else:\n",
    "                # add feature\n",
    "                prior_elapsed_time_sum_arr[idx] = prior_question_elapsed_time/(1000*60) + prior_elapsed_time_sum_dict[user_id]\n",
    "                prior_elapsed_time_diff_arr[idx] = prior_question_elapsed_time/(1000*60) - prior_elapsed_time_dict[user_id]\n",
    "                # update dict\n",
    "                prior_elapsed_time_sum_dict[user_id] += prior_question_elapsed_time/(1000*60)\n",
    "                prior_elapsed_time_dict[user_id] = prior_question_elapsed_time/(1000*60)\n",
    "        else:\n",
    "            pass\n",
    "    \n",
    "    prior_elapsed_time_sum_arr = prior_elapsed_time_sum_arr[-train_size:]\n",
    "    prior_elapsed_time_diff_arr = prior_elapsed_time_diff_arr[-train_size:]\n",
    "\n",
    "    user_feats_df = pd.DataFrame({\n",
    "        'prior_elapsed_time_sum': prior_elapsed_time_sum_arr,\n",
    "        'prior_elapsed_time_diff': prior_elapsed_time_diff_arr\n",
    "    })\n",
    "\n",
    "    del prior_elapsed_time_sum_arr, prior_elapsed_time_diff_arr\n",
    "    gc.collect()\n",
    "\n",
    "    # df = df.reset_index(drop=True)\n",
    "    # df = pd.concat([df, user_feats_df], axis=1)\n",
    "\n",
    "    return user_feats_df"
   ]
  },
  {
   "cell_type": "code",
   "execution_count": 25,
   "metadata": {},
   "outputs": [
    {
     "data": {
      "application/vnd.jupyter.widget-view+json": {
       "model_id": "5e44c744a43b483ba91e85f54026952f",
       "version_major": 2,
       "version_minor": 0
      },
      "text/plain": [
       "HBox(children=(HTML(value=''), FloatProgress(value=0.0, max=98730332.0), HTML(value='')))"
      ]
     },
     "metadata": {},
     "output_type": "display_data"
    },
    {
     "name": "stdout",
     "output_type": "stream",
     "text": [
      "\n"
     ]
    },
    {
     "data": {
      "application/vnd.jupyter.widget-view+json": {
       "model_id": "f59917c9665f4f67b4059a6bb794d854",
       "version_major": 2,
       "version_minor": 0
      },
      "text/plain": [
       "HBox(children=(HTML(value=''), FloatProgress(value=0.0, max=2500000.0), HTML(value='')))"
      ]
     },
     "metadata": {},
     "output_type": "display_data"
    },
    {
     "name": "stdout",
     "output_type": "stream",
     "text": [
      "\n",
      "CPU times: user 7min, sys: 2.43 s, total: 7min 2s\n",
      "Wall time: 7min 1s\n"
     ]
    }
   ],
   "source": [
    "%%time\n",
    "prior_elapsed_time_sum_dict = defaultdict(float)\n",
    "prior_elapsed_time_dict = defaultdict(float)\n",
    "\n",
    "train_user_elapsed_time_feats_df = add_elapsed_time(train_df)\n",
    "valid_user_elapsed_time_feats_df = add_elapsed_time(valid_df)\n",
    "\n",
    "# train_df = add_elapsed_time(train_df)\n",
    "# valid_df = add_elapsed_time(valid_df)"
   ]
  },
  {
   "cell_type": "code",
   "execution_count": 26,
   "metadata": {},
   "outputs": [
    {
     "data": {
      "text/html": [
       "<div>\n",
       "<style scoped>\n",
       "    .dataframe tbody tr th:only-of-type {\n",
       "        vertical-align: middle;\n",
       "    }\n",
       "\n",
       "    .dataframe tbody tr th {\n",
       "        vertical-align: top;\n",
       "    }\n",
       "\n",
       "    .dataframe thead th {\n",
       "        text-align: right;\n",
       "    }\n",
       "</style>\n",
       "<table border=\"1\" class=\"dataframe\">\n",
       "  <thead>\n",
       "    <tr style=\"text-align: right;\">\n",
       "      <th></th>\n",
       "      <th>prior_elapsed_time_sum</th>\n",
       "      <th>prior_elapsed_time_diff</th>\n",
       "    </tr>\n",
       "  </thead>\n",
       "  <tbody>\n",
       "    <tr>\n",
       "      <th>0</th>\n",
       "      <td>0.000000</td>\n",
       "      <td>0.000000</td>\n",
       "    </tr>\n",
       "    <tr>\n",
       "      <th>1</th>\n",
       "      <td>0.266667</td>\n",
       "      <td>0.266667</td>\n",
       "    </tr>\n",
       "    <tr>\n",
       "      <th>2</th>\n",
       "      <td>0.583333</td>\n",
       "      <td>0.050000</td>\n",
       "    </tr>\n",
       "    <tr>\n",
       "      <th>3</th>\n",
       "      <td>0.866667</td>\n",
       "      <td>-0.033333</td>\n",
       "    </tr>\n",
       "    <tr>\n",
       "      <th>4</th>\n",
       "      <td>1.150000</td>\n",
       "      <td>0.000000</td>\n",
       "    </tr>\n",
       "    <tr>\n",
       "      <th>...</th>\n",
       "      <td>...</td>\n",
       "      <td>...</td>\n",
       "    </tr>\n",
       "    <tr>\n",
       "      <th>98730327</th>\n",
       "      <td>0.000000</td>\n",
       "      <td>0.000000</td>\n",
       "    </tr>\n",
       "    <tr>\n",
       "      <th>98730328</th>\n",
       "      <td>1374.573853</td>\n",
       "      <td>-0.050000</td>\n",
       "    </tr>\n",
       "    <tr>\n",
       "      <th>98730329</th>\n",
       "      <td>475.664490</td>\n",
       "      <td>-0.033333</td>\n",
       "    </tr>\n",
       "    <tr>\n",
       "      <th>98730330</th>\n",
       "      <td>0.000000</td>\n",
       "      <td>0.000000</td>\n",
       "    </tr>\n",
       "    <tr>\n",
       "      <th>98730331</th>\n",
       "      <td>744.561096</td>\n",
       "      <td>0.000000</td>\n",
       "    </tr>\n",
       "  </tbody>\n",
       "</table>\n",
       "<p>98730332 rows × 2 columns</p>\n",
       "</div>"
      ],
      "text/plain": [
       "          prior_elapsed_time_sum  prior_elapsed_time_diff\n",
       "0                       0.000000                 0.000000\n",
       "1                       0.266667                 0.266667\n",
       "2                       0.583333                 0.050000\n",
       "3                       0.866667                -0.033333\n",
       "4                       1.150000                 0.000000\n",
       "...                          ...                      ...\n",
       "98730327                0.000000                 0.000000\n",
       "98730328             1374.573853                -0.050000\n",
       "98730329              475.664490                -0.033333\n",
       "98730330                0.000000                 0.000000\n",
       "98730331              744.561096                 0.000000\n",
       "\n",
       "[98730332 rows x 2 columns]"
      ]
     },
     "execution_count": 26,
     "metadata": {},
     "output_type": "execute_result"
    }
   ],
   "source": [
    "train_user_elapsed_time_feats_df"
   ]
  },
  {
   "cell_type": "code",
   "execution_count": 27,
   "metadata": {},
   "outputs": [
    {
     "name": "stdout",
     "output_type": "stream",
     "text": [
      "CPU times: user 443 ms, sys: 1.31 s, total: 1.75 s\n",
      "Wall time: 1.75 s\n"
     ]
    }
   ],
   "source": [
    "%%time\n",
    "train_user_elapsed_time_feats_df.to_pickle('loop_features/train_user_elapsed_time_feats_df_90M.pkl')\n",
    "valid_user_elapsed_time_feats_df.to_pickle('loop_features/valid_user_elapsed_time_feats_df_90M.pkl')"
   ]
  },
  {
   "cell_type": "code",
   "execution_count": 28,
   "metadata": {},
   "outputs": [
    {
     "name": "stdout",
     "output_type": "stream",
     "text": [
      "CPU times: user 24.8 s, sys: 516 ms, total: 25.3 s\n",
      "Wall time: 25.3 s\n"
     ]
    }
   ],
   "source": [
    "%%time\n",
    "dill.dump(prior_elapsed_time_sum_dict, open('dicts/prior_elapsed_time_sum_dict_file', 'wb'))\n",
    "dill.dump(prior_elapsed_time_dict, open('dicts/prior_elapsed_time_dict_file', 'wb'))"
   ]
  },
  {
   "cell_type": "markdown",
   "metadata": {},
   "source": [
    "## add_explanation"
   ]
  },
  {
   "cell_type": "code",
   "execution_count": 29,
   "metadata": {},
   "outputs": [],
   "source": [
    "def add_explanation(df):\n",
    "    df['prior_question_had_explanation'] = df['prior_question_had_explanation'].fillna(False).astype(np.int8)\n",
    "    prior_explanation_sum_arr = np.zeros(len(df), dtype=np.int32)\n",
    "\n",
    "    for idx, (user_id, content_type_id, prior_question_had_explanation) in enumerate(tqdm(df[['user_id', 'content_type_id', 'prior_question_had_explanation']].values)):\n",
    "        if content_type_id == 0:\n",
    "            # add feature\n",
    "            prior_explanation_sum_arr[idx] = prior_explanation_sum_dict[user_id]\n",
    "            # update dict\n",
    "            prior_explanation_sum_dict[user_id] += prior_question_had_explanation\n",
    "        else:\n",
    "            pass\n",
    "    \n",
    "    prior_explanation_sum_arr = prior_explanation_sum_arr[-train_size:]\n",
    "\n",
    "    user_feats_df = pd.DataFrame({\n",
    "        'prior_explanation_sum': prior_explanation_sum_arr\n",
    "    })\n",
    "\n",
    "    del prior_explanation_sum_arr\n",
    "    gc.collect()\n",
    "\n",
    "    # df = df.reset_index(drop=True)\n",
    "    # df = pd.concat([df, user_feats_df], axis=1)\n",
    "\n",
    "    return user_feats_df"
   ]
  },
  {
   "cell_type": "code",
   "execution_count": 30,
   "metadata": {},
   "outputs": [
    {
     "data": {
      "application/vnd.jupyter.widget-view+json": {
       "model_id": "a8c052fb21e84a00aac1f66eee4f2c44",
       "version_major": 2,
       "version_minor": 0
      },
      "text/plain": [
       "HBox(children=(HTML(value=''), FloatProgress(value=0.0, max=98730332.0), HTML(value='')))"
      ]
     },
     "metadata": {},
     "output_type": "display_data"
    },
    {
     "name": "stdout",
     "output_type": "stream",
     "text": [
      "\n"
     ]
    },
    {
     "data": {
      "application/vnd.jupyter.widget-view+json": {
       "model_id": "566bef4e609948bfb516b83fa4f81fdb",
       "version_major": 2,
       "version_minor": 0
      },
      "text/plain": [
       "HBox(children=(HTML(value=''), FloatProgress(value=0.0, max=2500000.0), HTML(value='')))"
      ]
     },
     "metadata": {},
     "output_type": "display_data"
    },
    {
     "name": "stdout",
     "output_type": "stream",
     "text": [
      "\n",
      "CPU times: user 6min 16s, sys: 2.19 s, total: 6min 19s\n",
      "Wall time: 6min 17s\n"
     ]
    }
   ],
   "source": [
    "%%time\n",
    "prior_explanation_sum_dict = defaultdict(int)\n",
    "\n",
    "train_user_explanation_feats_df = add_explanation(train_df)\n",
    "valid_user_explanation_feats_df = add_explanation(valid_df)\n",
    "\n",
    "# train_df = add_explanation(train_df)\n",
    "# valid_df = add_explanation(valid_df)"
   ]
  },
  {
   "cell_type": "code",
   "execution_count": 31,
   "metadata": {},
   "outputs": [
    {
     "data": {
      "text/html": [
       "<div>\n",
       "<style scoped>\n",
       "    .dataframe tbody tr th:only-of-type {\n",
       "        vertical-align: middle;\n",
       "    }\n",
       "\n",
       "    .dataframe tbody tr th {\n",
       "        vertical-align: top;\n",
       "    }\n",
       "\n",
       "    .dataframe thead th {\n",
       "        text-align: right;\n",
       "    }\n",
       "</style>\n",
       "<table border=\"1\" class=\"dataframe\">\n",
       "  <thead>\n",
       "    <tr style=\"text-align: right;\">\n",
       "      <th></th>\n",
       "      <th>prior_explanation_sum</th>\n",
       "    </tr>\n",
       "  </thead>\n",
       "  <tbody>\n",
       "    <tr>\n",
       "      <th>0</th>\n",
       "      <td>0</td>\n",
       "    </tr>\n",
       "    <tr>\n",
       "      <th>1</th>\n",
       "      <td>0</td>\n",
       "    </tr>\n",
       "    <tr>\n",
       "      <th>2</th>\n",
       "      <td>0</td>\n",
       "    </tr>\n",
       "    <tr>\n",
       "      <th>3</th>\n",
       "      <td>0</td>\n",
       "    </tr>\n",
       "    <tr>\n",
       "      <th>4</th>\n",
       "      <td>0</td>\n",
       "    </tr>\n",
       "    <tr>\n",
       "      <th>...</th>\n",
       "      <td>...</td>\n",
       "    </tr>\n",
       "    <tr>\n",
       "      <th>98730327</th>\n",
       "      <td>0</td>\n",
       "    </tr>\n",
       "    <tr>\n",
       "      <th>98730328</th>\n",
       "      <td>1906</td>\n",
       "    </tr>\n",
       "    <tr>\n",
       "      <th>98730329</th>\n",
       "      <td>1280</td>\n",
       "    </tr>\n",
       "    <tr>\n",
       "      <th>98730330</th>\n",
       "      <td>0</td>\n",
       "    </tr>\n",
       "    <tr>\n",
       "      <th>98730331</th>\n",
       "      <td>2039</td>\n",
       "    </tr>\n",
       "  </tbody>\n",
       "</table>\n",
       "<p>98730332 rows × 1 columns</p>\n",
       "</div>"
      ],
      "text/plain": [
       "          prior_explanation_sum\n",
       "0                             0\n",
       "1                             0\n",
       "2                             0\n",
       "3                             0\n",
       "4                             0\n",
       "...                         ...\n",
       "98730327                      0\n",
       "98730328                   1906\n",
       "98730329                   1280\n",
       "98730330                      0\n",
       "98730331                   2039\n",
       "\n",
       "[98730332 rows x 1 columns]"
      ]
     },
     "execution_count": 31,
     "metadata": {},
     "output_type": "execute_result"
    }
   ],
   "source": [
    "train_user_explanation_feats_df"
   ]
  },
  {
   "cell_type": "code",
   "execution_count": 32,
   "metadata": {},
   "outputs": [
    {
     "name": "stdout",
     "output_type": "stream",
     "text": [
      "CPU times: user 175 ms, sys: 697 ms, total: 872 ms\n",
      "Wall time: 870 ms\n"
     ]
    }
   ],
   "source": [
    "%%time\n",
    "train_user_explanation_feats_df.to_pickle('loop_features/train_user_explanation_feats_df_90M.pkl')\n",
    "valid_user_explanation_feats_df.to_pickle('loop_features/valid_user_explanation_feats_df_90M.pkl')"
   ]
  },
  {
   "cell_type": "code",
   "execution_count": 33,
   "metadata": {},
   "outputs": [
    {
     "name": "stdout",
     "output_type": "stream",
     "text": [
      "CPU times: user 12.7 s, sys: 334 ms, total: 13 s\n",
      "Wall time: 13 s\n"
     ]
    }
   ],
   "source": [
    "%%time\n",
    "dill.dump(prior_explanation_sum_dict, open('dicts/prior_explanation_sum_dict_file', 'wb'))"
   ]
  },
  {
   "cell_type": "markdown",
   "metadata": {},
   "source": [
    "## add_task"
   ]
  },
  {
   "cell_type": "code",
   "execution_count": 15,
   "metadata": {},
   "outputs": [],
   "source": [
    "def add_task(df):\n",
    "    task_count_arr = np.zeros(len(df), dtype=np.int32)\n",
    "    task_content_number_arr = np.zeros(len(df), dtype=np.int8)\n",
    "\n",
    "    for idx, (task_container_id, user_id) in enumerate(tqdm(df[['task_container_id', 'user_id']].values)):\n",
    "        if task_container_id == task_dict[user_id]:\n",
    "            if task_count_arr_dict[user_id] > 0:\n",
    "                # add feature\n",
    "                task_count_arr[idx] = task_count_arr_dict[user_id] - 1\n",
    "                task_content_number_arr[idx] = task_content_number_dict[user_id] + 1\n",
    "                # update dict\n",
    "                task_content_number_dict[user_id] += 1\n",
    "        else:\n",
    "            # add feature\n",
    "            task_count_arr[idx] = task_count_arr_dict[user_id]\n",
    "            task_content_number_arr[idx] = 1\n",
    "            # update dict\n",
    "            task_count_arr_dict[user_id] += 1\n",
    "            task_content_number_dict[user_id] = 1\n",
    "        # update dict\n",
    "        task_dict[user_id] = task_container_id\n",
    "\n",
    "    task_count_arr = task_count_arr[-train_size:]\n",
    "    task_content_number_arr = task_content_number_arr[-train_size:]\n",
    "\n",
    "    user_feats_df = pd.DataFrame({\n",
    "        'task_count': task_count_arr,\n",
    "        'task_content_number': task_content_number_arr\n",
    "    })\n",
    "\n",
    "    del task_count_arr, task_content_number_arr\n",
    "    gc.collect()\n",
    "\n",
    "    # df = df.reset_index(drop=True)\n",
    "    # df = pd.concat([df, user_feats_df], axis=1)\n",
    "\n",
    "    return user_feats_df"
   ]
  },
  {
   "cell_type": "code",
   "execution_count": 16,
   "metadata": {},
   "outputs": [
    {
     "data": {
      "application/vnd.jupyter.widget-view+json": {
       "model_id": "7f30c25f26f342b1a58be16748564dbf",
       "version_major": 2,
       "version_minor": 0
      },
      "text/plain": [
       "HBox(children=(HTML(value=''), FloatProgress(value=0.0, max=98730332.0), HTML(value='')))"
      ]
     },
     "metadata": {},
     "output_type": "display_data"
    },
    {
     "name": "stdout",
     "output_type": "stream",
     "text": [
      "\n"
     ]
    },
    {
     "data": {
      "application/vnd.jupyter.widget-view+json": {
       "model_id": "c7d9c95c3bd04b818c25604a70205db0",
       "version_major": 2,
       "version_minor": 0
      },
      "text/plain": [
       "HBox(children=(HTML(value=''), FloatProgress(value=0.0, max=2500000.0), HTML(value='')))"
      ]
     },
     "metadata": {},
     "output_type": "display_data"
    },
    {
     "name": "stdout",
     "output_type": "stream",
     "text": [
      "\n",
      "CPU times: user 3min 10s, sys: 1.41 s, total: 3min 12s\n",
      "Wall time: 3min 11s\n"
     ]
    }
   ],
   "source": [
    "%%time\n",
    "task_dict = defaultdict(int)\n",
    "task_count_arr_dict = defaultdict(int)\n",
    "task_content_number_dict = defaultdict(int)\n",
    "\n",
    "train_user_task_feats_df = add_task(train_df)\n",
    "valid_user_task_feats_df = add_task(valid_df)\n",
    "\n",
    "# train_df = add_task(train_df)\n",
    "# valid_df = add_task(valid_df)"
   ]
  },
  {
   "cell_type": "code",
   "execution_count": 17,
   "metadata": {},
   "outputs": [
    {
     "data": {
      "text/html": [
       "<div>\n",
       "<style scoped>\n",
       "    .dataframe tbody tr th:only-of-type {\n",
       "        vertical-align: middle;\n",
       "    }\n",
       "\n",
       "    .dataframe tbody tr th {\n",
       "        vertical-align: top;\n",
       "    }\n",
       "\n",
       "    .dataframe thead th {\n",
       "        text-align: right;\n",
       "    }\n",
       "</style>\n",
       "<table border=\"1\" class=\"dataframe\">\n",
       "  <thead>\n",
       "    <tr style=\"text-align: right;\">\n",
       "      <th></th>\n",
       "      <th>task_count</th>\n",
       "      <th>task_content_number</th>\n",
       "    </tr>\n",
       "  </thead>\n",
       "  <tbody>\n",
       "    <tr>\n",
       "      <th>0</th>\n",
       "      <td>0</td>\n",
       "      <td>0</td>\n",
       "    </tr>\n",
       "    <tr>\n",
       "      <th>1</th>\n",
       "      <td>0</td>\n",
       "      <td>1</td>\n",
       "    </tr>\n",
       "    <tr>\n",
       "      <th>2</th>\n",
       "      <td>1</td>\n",
       "      <td>1</td>\n",
       "    </tr>\n",
       "    <tr>\n",
       "      <th>3</th>\n",
       "      <td>2</td>\n",
       "      <td>1</td>\n",
       "    </tr>\n",
       "    <tr>\n",
       "      <th>4</th>\n",
       "      <td>3</td>\n",
       "      <td>1</td>\n",
       "    </tr>\n",
       "    <tr>\n",
       "      <th>...</th>\n",
       "      <td>...</td>\n",
       "      <td>...</td>\n",
       "    </tr>\n",
       "    <tr>\n",
       "      <th>98730327</th>\n",
       "      <td>828</td>\n",
       "      <td>1</td>\n",
       "    </tr>\n",
       "    <tr>\n",
       "      <th>98730328</th>\n",
       "      <td>1338</td>\n",
       "      <td>1</td>\n",
       "    </tr>\n",
       "    <tr>\n",
       "      <th>98730329</th>\n",
       "      <td>1122</td>\n",
       "      <td>1</td>\n",
       "    </tr>\n",
       "    <tr>\n",
       "      <th>98730330</th>\n",
       "      <td>887</td>\n",
       "      <td>1</td>\n",
       "    </tr>\n",
       "    <tr>\n",
       "      <th>98730331</th>\n",
       "      <td>1881</td>\n",
       "      <td>1</td>\n",
       "    </tr>\n",
       "  </tbody>\n",
       "</table>\n",
       "<p>98730332 rows × 2 columns</p>\n",
       "</div>"
      ],
      "text/plain": [
       "          task_count  task_content_number\n",
       "0                  0                    0\n",
       "1                  0                    1\n",
       "2                  1                    1\n",
       "3                  2                    1\n",
       "4                  3                    1\n",
       "...              ...                  ...\n",
       "98730327         828                    1\n",
       "98730328        1338                    1\n",
       "98730329        1122                    1\n",
       "98730330         887                    1\n",
       "98730331        1881                    1\n",
       "\n",
       "[98730332 rows x 2 columns]"
      ]
     },
     "execution_count": 17,
     "metadata": {},
     "output_type": "execute_result"
    }
   ],
   "source": [
    "train_user_task_feats_df"
   ]
  },
  {
   "cell_type": "code",
   "execution_count": 18,
   "metadata": {},
   "outputs": [
    {
     "name": "stdout",
     "output_type": "stream",
     "text": [
      "CPU times: user 188 ms, sys: 860 ms, total: 1.05 s\n",
      "Wall time: 1.05 s\n"
     ]
    }
   ],
   "source": [
    "%%time\n",
    "train_user_task_feats_df.to_pickle('loop_features/train_user_task_feats_df_90M.pkl')\n",
    "valid_user_task_feats_df.to_pickle('loop_features/valid_user_task_feats_df_90M.pkl')"
   ]
  },
  {
   "cell_type": "code",
   "execution_count": 19,
   "metadata": {},
   "outputs": [
    {
     "name": "stdout",
     "output_type": "stream",
     "text": [
      "CPU times: user 25.5 s, sys: 396 ms, total: 25.9 s\n",
      "Wall time: 25.9 s\n"
     ]
    }
   ],
   "source": [
    "%%time\n",
    "dill.dump(task_dict, open('dicts/task_dict_file', 'wb'))\n",
    "dill.dump(task_count_arr_dict, open('dicts/task_count_arr_dict_file', 'wb'))\n",
    "dill.dump(task_content_number_dict, open('dicts/task_content_number_dict_file', 'wb'))"
   ]
  },
  {
   "cell_type": "markdown",
   "metadata": {},
   "source": [
    "## add_timestamp_diffs"
   ]
  },
  {
   "cell_type": "code",
   "execution_count": 14,
   "metadata": {},
   "outputs": [],
   "source": [
    "def add_timestamp_diffs(df):\n",
    "    df = df[-train_size:].reset_index(drop=True) # only features needed in train_size\n",
    "    \n",
    "    timestamp_lag1_arr = np.zeros(len(df), dtype=np.float32)\n",
    "    timestamp_lag2_arr = np.zeros(len(df), dtype=np.float32)\n",
    "    timestamp_lag3_arr = np.zeros(len(df), dtype=np.float32)\n",
    "    timestamp_lag4_arr = np.zeros(len(df), dtype=np.float32)\n",
    "    timestamp_lag5_arr = np.zeros(len(df), dtype=np.float32)\n",
    "    timestamp_diff_arr = np.zeros(len(df), dtype=np.float32)\n",
    "    timestamp_diff2_arr = np.zeros(len(df), dtype=np.float32)\n",
    "    timestamp_diff3_arr = np.zeros(len(df), dtype=np.float32)\n",
    "    timestamp_diff4_arr = np.zeros(len(df), dtype=np.float32)\n",
    "    timestamp_diff5_arr = np.zeros(len(df), dtype=np.float32)\n",
    "\n",
    "    for idx, (timestamp, user_id) in enumerate(tqdm(df[['timestamp', 'user_id']].values)):\n",
    "        # add feature\n",
    "        timestamp_lag1_arr[idx] = timestamp_lag1_dict[user_id]\n",
    "        timestamp_window_id = np.append(timestamp_window_dict[user_id], timestamp_lag1_dict[user_id])\n",
    "        timestamp_window_id = timestamp_window_id[-5:]\n",
    "        \n",
    "        if len(timestamp_window_id) > 1:\n",
    "            timestamp_diff_arr[idx] = timestamp/(1000*60) - timestamp_lag1_arr[idx]\n",
    "        if len(timestamp_window_id) > 2:\n",
    "            timestamp_lag2_arr[idx] = timestamp_window_id[-2]\n",
    "            timestamp_diff2_arr[idx] = timestamp/(1000*60) - timestamp_lag2_arr[idx]\n",
    "        if len(timestamp_window_id) > 3:\n",
    "            timestamp_lag3_arr[idx] = timestamp_window_id[-3]\n",
    "            timestamp_diff3_arr[idx] = timestamp/(1000*60) - timestamp_lag3_arr[idx]\n",
    "        if len(timestamp_window_id) > 4:\n",
    "            timestamp_lag4_arr[idx] = timestamp_window_id[-4]\n",
    "            timestamp_diff4_arr[idx] = timestamp/(1000*60) - timestamp_lag4_arr[idx]\n",
    "            if timestamp_window_id[-5] != 0:\n",
    "                timestamp_lag5_arr[idx] = timestamp_window_id[-5]\n",
    "                timestamp_diff5_arr[idx] = timestamp/(1000*60) - timestamp_lag5_arr[idx]\n",
    "\n",
    "        # update dict\n",
    "        timestamp_window_dict[user_id] = timestamp_window_id\n",
    "        timestamp_lag1_dict[user_id] = timestamp/(1000*60)\n",
    "\n",
    "    user_feats_df = pd.DataFrame({\n",
    "        'timestamp_lag1': timestamp_lag1_arr,\n",
    "        'timestamp_lag2': timestamp_lag2_arr,\n",
    "        'timestamp_lag3': timestamp_lag3_arr,\n",
    "        'timestamp_lag4': timestamp_lag4_arr,\n",
    "        'timestamp_lag5': timestamp_lag5_arr,\n",
    "        'timestamp_diff': timestamp_diff_arr,\n",
    "        'timestamp_diff2': timestamp_diff2_arr,\n",
    "        'timestamp_diff3': timestamp_diff3_arr,\n",
    "        'timestamp_diff4': timestamp_diff4_arr,\n",
    "        'timestamp_diff5': timestamp_diff5_arr\n",
    "    })\n",
    "\n",
    "    del timestamp_lag1_arr, timestamp_lag2_arr, timestamp_lag3_arr, timestamp_lag4_arr, timestamp_lag5_arr, timestamp_diff_arr, timestamp_diff2_arr, timestamp_diff3_arr, timestamp_diff4_arr, timestamp_diff5_arr\n",
    "    gc.collect()\n",
    "\n",
    "    # df = df.reset_index(drop=True)\n",
    "    # df = pd.concat([df, user_feats_df], axis=1)\n",
    "\n",
    "    return user_feats_df"
   ]
  },
  {
   "cell_type": "code",
   "execution_count": 15,
   "metadata": {},
   "outputs": [
    {
     "data": {
      "application/vnd.jupyter.widget-view+json": {
       "model_id": "f6099891161a4172b8009a3499c06ef6",
       "version_major": 2,
       "version_minor": 0
      },
      "text/plain": [
       "HBox(children=(HTML(value=''), FloatProgress(value=0.0, max=98730332.0), HTML(value='')))"
      ]
     },
     "metadata": {},
     "output_type": "display_data"
    },
    {
     "name": "stdout",
     "output_type": "stream",
     "text": [
      "\n"
     ]
    },
    {
     "data": {
      "application/vnd.jupyter.widget-view+json": {
       "model_id": "f03b1a8c89ba40edaf572bba818aaaff",
       "version_major": 2,
       "version_minor": 0
      },
      "text/plain": [
       "HBox(children=(HTML(value=''), FloatProgress(value=0.0, max=2500000.0), HTML(value='')))"
      ]
     },
     "metadata": {},
     "output_type": "display_data"
    },
    {
     "name": "stdout",
     "output_type": "stream",
     "text": [
      "\n",
      "CPU times: user 33min 31s, sys: 10min 2s, total: 43min 34s\n",
      "Wall time: 30min 19s\n"
     ]
    }
   ],
   "source": [
    "%%time\n",
    "timestamp_lag1_dict = defaultdict(float)\n",
    "timestamp_window_dict = defaultdict(list)\n",
    "\n",
    "train_user_timestamp_diffs_feats_df = add_timestamp_diffs(train_df)\n",
    "valid_user_timestamp_diffs_feats_df = add_timestamp_diffs(valid_df)\n",
    "\n",
    "# train_df = add_timestamp_diffs(train_df)\n",
    "# valid_df = add_timestamp_diffs(valid_df)"
   ]
  },
  {
   "cell_type": "code",
   "execution_count": 16,
   "metadata": {},
   "outputs": [
    {
     "data": {
      "text/html": [
       "<div>\n",
       "<style scoped>\n",
       "    .dataframe tbody tr th:only-of-type {\n",
       "        vertical-align: middle;\n",
       "    }\n",
       "\n",
       "    .dataframe tbody tr th {\n",
       "        vertical-align: top;\n",
       "    }\n",
       "\n",
       "    .dataframe thead th {\n",
       "        text-align: right;\n",
       "    }\n",
       "</style>\n",
       "<table border=\"1\" class=\"dataframe\">\n",
       "  <thead>\n",
       "    <tr style=\"text-align: right;\">\n",
       "      <th></th>\n",
       "      <th>timestamp_lag1</th>\n",
       "      <th>timestamp_lag2</th>\n",
       "      <th>timestamp_lag3</th>\n",
       "      <th>timestamp_lag4</th>\n",
       "      <th>timestamp_lag5</th>\n",
       "      <th>timestamp_diff</th>\n",
       "      <th>timestamp_diff2</th>\n",
       "      <th>timestamp_diff3</th>\n",
       "      <th>timestamp_diff4</th>\n",
       "      <th>timestamp_diff5</th>\n",
       "    </tr>\n",
       "  </thead>\n",
       "  <tbody>\n",
       "    <tr>\n",
       "      <th>0</th>\n",
       "      <td>0.000000</td>\n",
       "      <td>0.000000</td>\n",
       "      <td>0.000000</td>\n",
       "      <td>0.000000</td>\n",
       "      <td>0.000000</td>\n",
       "      <td>0.000000</td>\n",
       "      <td>0.000000</td>\n",
       "      <td>0.000000</td>\n",
       "      <td>0.000000</td>\n",
       "      <td>0.000000</td>\n",
       "    </tr>\n",
       "    <tr>\n",
       "      <th>1</th>\n",
       "      <td>0.000000</td>\n",
       "      <td>0.000000</td>\n",
       "      <td>0.000000</td>\n",
       "      <td>0.000000</td>\n",
       "      <td>0.000000</td>\n",
       "      <td>0.344433</td>\n",
       "      <td>0.000000</td>\n",
       "      <td>0.000000</td>\n",
       "      <td>0.000000</td>\n",
       "      <td>0.000000</td>\n",
       "    </tr>\n",
       "    <tr>\n",
       "      <th>2</th>\n",
       "      <td>0.344433</td>\n",
       "      <td>0.000000</td>\n",
       "      <td>0.000000</td>\n",
       "      <td>0.000000</td>\n",
       "      <td>0.000000</td>\n",
       "      <td>0.308433</td>\n",
       "      <td>0.652867</td>\n",
       "      <td>0.000000</td>\n",
       "      <td>0.000000</td>\n",
       "      <td>0.000000</td>\n",
       "    </tr>\n",
       "    <tr>\n",
       "      <th>3</th>\n",
       "      <td>0.652867</td>\n",
       "      <td>0.344433</td>\n",
       "      <td>0.000000</td>\n",
       "      <td>0.000000</td>\n",
       "      <td>0.000000</td>\n",
       "      <td>0.317250</td>\n",
       "      <td>0.625683</td>\n",
       "      <td>0.970117</td>\n",
       "      <td>0.000000</td>\n",
       "      <td>0.000000</td>\n",
       "    </tr>\n",
       "    <tr>\n",
       "      <th>4</th>\n",
       "      <td>0.970117</td>\n",
       "      <td>0.652867</td>\n",
       "      <td>0.344433</td>\n",
       "      <td>0.000000</td>\n",
       "      <td>0.000000</td>\n",
       "      <td>0.292867</td>\n",
       "      <td>0.610117</td>\n",
       "      <td>0.918550</td>\n",
       "      <td>1.262983</td>\n",
       "      <td>0.000000</td>\n",
       "    </tr>\n",
       "    <tr>\n",
       "      <th>...</th>\n",
       "      <td>...</td>\n",
       "      <td>...</td>\n",
       "      <td>...</td>\n",
       "      <td>...</td>\n",
       "      <td>...</td>\n",
       "      <td>...</td>\n",
       "      <td>...</td>\n",
       "      <td>...</td>\n",
       "      <td>...</td>\n",
       "      <td>...</td>\n",
       "    </tr>\n",
       "    <tr>\n",
       "      <th>98730327</th>\n",
       "      <td>49742.679688</td>\n",
       "      <td>49741.917969</td>\n",
       "      <td>49741.191406</td>\n",
       "      <td>49735.648438</td>\n",
       "      <td>49734.382812</td>\n",
       "      <td>580.924683</td>\n",
       "      <td>581.686401</td>\n",
       "      <td>582.412964</td>\n",
       "      <td>587.955933</td>\n",
       "      <td>589.221558</td>\n",
       "    </tr>\n",
       "    <tr>\n",
       "      <th>98730328</th>\n",
       "      <td>893666.437500</td>\n",
       "      <td>893666.062500</td>\n",
       "      <td>893665.500000</td>\n",
       "      <td>893664.750000</td>\n",
       "      <td>893664.250000</td>\n",
       "      <td>0.820283</td>\n",
       "      <td>1.195283</td>\n",
       "      <td>1.757783</td>\n",
       "      <td>2.507783</td>\n",
       "      <td>3.007783</td>\n",
       "    </tr>\n",
       "    <tr>\n",
       "      <th>98730329</th>\n",
       "      <td>17764.958984</td>\n",
       "      <td>17764.453125</td>\n",
       "      <td>17763.734375</td>\n",
       "      <td>17762.912109</td>\n",
       "      <td>17762.626953</td>\n",
       "      <td>0.850232</td>\n",
       "      <td>1.356092</td>\n",
       "      <td>2.074842</td>\n",
       "      <td>2.897107</td>\n",
       "      <td>3.182264</td>\n",
       "    </tr>\n",
       "    <tr>\n",
       "      <th>98730330</th>\n",
       "      <td>51983.140625</td>\n",
       "      <td>51977.945312</td>\n",
       "      <td>51898.992188</td>\n",
       "      <td>51897.347656</td>\n",
       "      <td>51895.324219</td>\n",
       "      <td>0.805792</td>\n",
       "      <td>6.001104</td>\n",
       "      <td>84.954231</td>\n",
       "      <td>86.598763</td>\n",
       "      <td>88.622200</td>\n",
       "    </tr>\n",
       "    <tr>\n",
       "      <th>98730331</th>\n",
       "      <td>339665.437500</td>\n",
       "      <td>339664.875000</td>\n",
       "      <td>339664.281250</td>\n",
       "      <td>339663.343750</td>\n",
       "      <td>339662.812500</td>\n",
       "      <td>0.487383</td>\n",
       "      <td>1.049883</td>\n",
       "      <td>1.643633</td>\n",
       "      <td>2.581133</td>\n",
       "      <td>3.112383</td>\n",
       "    </tr>\n",
       "  </tbody>\n",
       "</table>\n",
       "<p>98730332 rows × 10 columns</p>\n",
       "</div>"
      ],
      "text/plain": [
       "          timestamp_lag1  timestamp_lag2  timestamp_lag3  timestamp_lag4  \\\n",
       "0               0.000000        0.000000        0.000000        0.000000   \n",
       "1               0.000000        0.000000        0.000000        0.000000   \n",
       "2               0.344433        0.000000        0.000000        0.000000   \n",
       "3               0.652867        0.344433        0.000000        0.000000   \n",
       "4               0.970117        0.652867        0.344433        0.000000   \n",
       "...                  ...             ...             ...             ...   \n",
       "98730327    49742.679688    49741.917969    49741.191406    49735.648438   \n",
       "98730328   893666.437500   893666.062500   893665.500000   893664.750000   \n",
       "98730329    17764.958984    17764.453125    17763.734375    17762.912109   \n",
       "98730330    51983.140625    51977.945312    51898.992188    51897.347656   \n",
       "98730331   339665.437500   339664.875000   339664.281250   339663.343750   \n",
       "\n",
       "          timestamp_lag5  timestamp_diff  timestamp_diff2  timestamp_diff3  \\\n",
       "0               0.000000        0.000000         0.000000         0.000000   \n",
       "1               0.000000        0.344433         0.000000         0.000000   \n",
       "2               0.000000        0.308433         0.652867         0.000000   \n",
       "3               0.000000        0.317250         0.625683         0.970117   \n",
       "4               0.000000        0.292867         0.610117         0.918550   \n",
       "...                  ...             ...              ...              ...   \n",
       "98730327    49734.382812      580.924683       581.686401       582.412964   \n",
       "98730328   893664.250000        0.820283         1.195283         1.757783   \n",
       "98730329    17762.626953        0.850232         1.356092         2.074842   \n",
       "98730330    51895.324219        0.805792         6.001104        84.954231   \n",
       "98730331   339662.812500        0.487383         1.049883         1.643633   \n",
       "\n",
       "          timestamp_diff4  timestamp_diff5  \n",
       "0                0.000000         0.000000  \n",
       "1                0.000000         0.000000  \n",
       "2                0.000000         0.000000  \n",
       "3                0.000000         0.000000  \n",
       "4                1.262983         0.000000  \n",
       "...                   ...              ...  \n",
       "98730327       587.955933       589.221558  \n",
       "98730328         2.507783         3.007783  \n",
       "98730329         2.897107         3.182264  \n",
       "98730330        86.598763        88.622200  \n",
       "98730331         2.581133         3.112383  \n",
       "\n",
       "[98730332 rows x 10 columns]"
      ]
     },
     "execution_count": 16,
     "metadata": {},
     "output_type": "execute_result"
    }
   ],
   "source": [
    "train_user_timestamp_diffs_feats_df"
   ]
  },
  {
   "cell_type": "code",
   "execution_count": 17,
   "metadata": {},
   "outputs": [
    {
     "name": "stdout",
     "output_type": "stream",
     "text": [
      "CPU times: user 1.65 s, sys: 6.96 s, total: 8.61 s\n",
      "Wall time: 8.59 s\n"
     ]
    }
   ],
   "source": [
    "%%time\n",
    "train_user_timestamp_diffs_feats_df.to_pickle('loop_features/train_user_timestamp_diffs_feats_df_90M.pkl')\n",
    "valid_user_timestamp_diffs_feats_df.to_pickle('loop_features/valid_user_timestamp_diffs_feats_df_90M.pkl')"
   ]
  },
  {
   "cell_type": "code",
   "execution_count": 18,
   "metadata": {},
   "outputs": [
    {
     "name": "stdout",
     "output_type": "stream",
     "text": [
      "CPU times: user 33 s, sys: 565 ms, total: 33.5 s\n",
      "Wall time: 33.6 s\n"
     ]
    }
   ],
   "source": [
    "%%time\n",
    "dill.dump(timestamp_lag1_dict, open('dicts/timestamp_lag1_dict_file', 'wb'))\n",
    "dill.dump(timestamp_window_dict, open('dicts/timestamp_window_dict_file', 'wb'))"
   ]
  },
  {
   "cell_type": "code",
   "execution_count": null,
   "metadata": {},
   "outputs": [],
   "source": []
  }
 ],
 "metadata": {
  "kernelspec": {
   "display_name": "Python 3",
   "language": "python",
   "name": "python3"
  },
  "language_info": {
   "codemirror_mode": {
    "name": "ipython",
    "version": 3
   },
   "file_extension": ".py",
   "mimetype": "text/x-python",
   "name": "python",
   "nbconvert_exporter": "python",
   "pygments_lexer": "ipython3",
   "version": "3.6.9"
  }
 },
 "nbformat": 4,
 "nbformat_minor": 4
}

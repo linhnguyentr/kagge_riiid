{
 "cells": [
  {
   "cell_type": "code",
   "execution_count": 1,
   "metadata": {
    "_cell_guid": "b1076dfc-b9ad-4769-8c92-a6c4dae69d19",
    "_uuid": "8f2839f25d086af736a60e9eeb907d3b93b6e0e5",
    "execution": {
     "iopub.execute_input": "2020-12-31T08:14:31.956497Z",
     "iopub.status.busy": "2020-12-31T08:14:31.955762Z",
     "iopub.status.idle": "2020-12-31T08:14:33.762117Z",
     "shell.execute_reply": "2020-12-31T08:14:33.761499Z"
    },
    "papermill": {
     "duration": 1.865088,
     "end_time": "2020-12-31T08:14:33.762250",
     "exception": false,
     "start_time": "2020-12-31T08:14:31.897162",
     "status": "completed"
    },
    "tags": []
   },
   "outputs": [
    {
     "data": {
      "text/html": [
       "<style type='text/css'>\n",
       ".datatable table.frame { margin-bottom: 0; }\n",
       ".datatable table.frame thead { border-bottom: none; }\n",
       ".datatable table.frame tr.coltypes td {  color: #FFFFFF;  line-height: 6px;  padding: 0 0.5em;}\n",
       ".datatable .bool    { background: #DDDD99; }\n",
       ".datatable .object  { background: #565656; }\n",
       ".datatable .int     { background: #5D9E5D; }\n",
       ".datatable .float   { background: #4040CC; }\n",
       ".datatable .str     { background: #CC4040; }\n",
       ".datatable .row_index {  background: var(--jp-border-color3);  border-right: 1px solid var(--jp-border-color0);  color: var(--jp-ui-font-color3);  font-size: 9px;}\n",
       ".datatable .frame tr.coltypes .row_index {  background: var(--jp-border-color0);}\n",
       ".datatable th:nth-child(2) { padding-left: 12px; }\n",
       ".datatable .hellipsis {  color: var(--jp-cell-editor-border-color);}\n",
       ".datatable .vellipsis {  background: var(--jp-layout-color0);  color: var(--jp-cell-editor-border-color);}\n",
       ".datatable .na {  color: var(--jp-cell-editor-border-color);  font-size: 80%;}\n",
       ".datatable .footer { font-size: 9px; }\n",
       ".datatable .frame_dimensions {  background: var(--jp-border-color3);  border-top: 1px solid var(--jp-border-color0);  color: var(--jp-ui-font-color3);  display: inline-block;  opacity: 0.6;  padding: 1px 10px 1px 5px;}\n",
       ".datatable .frame thead tr.colnames {  background-image: url('data:image/png;base64,iVBORw0KGgoAAAANSUhEUgAAABwAAAA4CAYAAADuMJi0AAAGR0lEQVR42rVZ21IbRxBtCbQrkIR2dQVjsLmDLBsET3nTQ8ouYRkQVf6e/E9+Im958qMfkgoXAaKSSj6C9Jnd2R2NeiRSRaZqitVOT5+Z6dNnWoKGlN94JFp8Ipofkb/7SOXjGyp8wF+z35K3f0uUp/GW4XfLQ8v2gefj3ZCCzojoNfue+43o1Q3l3xB/yA3JO7jnF2pCLnI+pNyx/qw7L+SQ7T2N9p2f8c60QcfcK6KGXsAd+ZvA4LlZYuSSAoOhMs5vwJkEGDlbPMaJoA+FcQ0IH38QLWkbAFLkOOhoMF5tU6/eBRhNjro0ZgKiPRAt3FLhCO/vqdgmNTm32LkmKpvBmQY4q5uAaAgbwDBG2BVv3bfI8KKAMWj2kfw9+pkZREIbEql4ST1x7hgHIANkbJ//MF8mAH/ilTCJ2tIi4ASr1IC3VNqXHKOxjy34mgoImnOQtx1g81fkqTiMOBVGcTogNhiT5iBHET8R8C+iApJUmgim3SQAXhsLQz7ee2G8gOAQNtJckBEplADiAxtX+G9NmhDl0qJKnTvyWlAMPYZnvIviGXRg6/Dh824DBXhP/tbfREXJEIvQ+aaPGjG7pvw6r3xdx+9hqb4dgZaP2XmdHO2K/B0c1+oUph6k8kShBryl/Ft0DYgjTlOieOACHFFpVyUl72T9V3cM1jUoYvxIC2vpCSys/ck70mDYuYvdvKjlMdKAUThneWVU1aAsyjv6PURDiwNsHGBZzY+JtAAgE2TFxdRHJdyIp/f+zqu09M5cDP2F08Ukkpj4YNSdX950HY2pNCCUK/Hhx5ZMBfjNSEzdsIihVzzAMdn9dz4eDYhnyQb9SSCiAryiJcQk82LiTbJ4x2FZJaUenpKnzP95WyDf4Y+QN9EFHHSeDLGdBjjKNQ5vKHf4XMA7KrY0y0GEObBOO/8e1ywuQExOHXktuQyJALEBpcEqhwtHqgiDuCK5b6i0p2MQpcckIIoh+6hYgTZtO8xlMi6O4tKCF/kOGHEg/W0UUpHW0ZoGNZ1ExZWcn7EErgwt4uj50E/sFBjXXIayWvh7WryjasxarZKssXon0zxvvkc32Q0bqbBCuZiKt9dWFysfQefeL29JYFaeztX6tePaZdz5mYx8+6Zq3Mk0wXECQxlhdzgS2wjBHju3j1RIgKyOMdNUE8X0+RAdbSapS11MRCv1SzUXmO6wGZe2SQYrv2MvCSWEv2VODE6DN7bz8ufypgQKW7uQskFTQHULLKyaEyrnlZbgOGLrV5qrn9U79jjm2HJmgkaVN98AfBub91lGPLZBqdroN5LYgjSu4zYZDDHXZOIPC691HqrWI1900I8qLzgKP4ft8DxEWigprPfrO+KcXno9gZz4jjGewWdUcpGCj0qVFuGPYbl2VturndZ2qRvlL8acDO6lF/DY/VjsFesiUK+ypJ+r/ep+cJkSQxEK4PG4WozgA75TYrDDqStE69K8/mzGEM+JXTeqvmedEElMmwCMm2SLd6bNNF9su02zEtoW6nAQtpMj5Gd7fKa//wqonF7UdtHFsVn+6hf1o7AfriPH7M6EeIUEF5zKVxXbYo7kS/OEtOqDYZKPoBsETIixn0uYrasThmzDkhdKPkz2EnaX0HdQbIgr59vAdGYDqjHrxkjS7WOxkTD8sqEqhiwcJETgBYigrBqF08KyDaje9SZ/I1A7MzaTzMGDEulPtZUkuKcyIRAjxEJPVrnVlb/9wkfij31D/pQt1IN+iL8bGJcstBIO7Y5VI/cwDqURbXhMuJxBqD0KLoK3esWFs0Jz5i5ZvJUAfFJMFb9XmGIOnzGpijpcWYCaMqXSQWp8EnCABepQ0Elyi4wfKfsw78ikIqif1pe1AGPlLmojl1SKxHHXp1L+Ut7AmDQHvhI5xHGi4EooO2BR7k78PEkJOdL7cAxQUZ/Tyclu9gnfwGgOmm2lNHGNmZXsq4Pqgc1EG1ATrvKl8s4R9ywwnqulGUnaRLVhxy8v3ieUwy2hbooT68uscW++DCDH0WSzuoyN2D4LUJ/tLECbcSKznwMIFs0ChF4mRTCnQbIIfk4SHJo6A9BMuTnXTs3Ku/KxsgZWqzuSe+Os8cEUfnMBY6UF5gi3SUbd5K7vDjq5WW0UENJlRsWn4sy21Er/E/AvPQSFHy1p4fgAAAAASUVORK5CYII=');  background-repeat: repeat-x;  background-size: 14px;  height: 28px;}\n",
       "</style>\n"
      ],
      "text/plain": [
       "<IPython.core.display.HTML object>"
      ]
     },
     "metadata": {},
     "output_type": "display_data"
    }
   ],
   "source": [
    "import numpy as np\n",
    "import pandas as pd\n",
    "import matplotlib.pyplot as plt\n",
    "import pickle\n",
    "from collections import defaultdict\n",
    "import dill\n",
    "# import datatable as dt\n",
    "import lightgbm as lgb\n",
    "import os\n",
    "import riiideducation\n",
    "from catboost import CatBoostClassifier, Pool\n",
    "from tqdm.notebook import tqdm\n",
    "from bitarray import bitarray\n",
    "import gc\n",
    "\n",
    "_ = np.seterr(divide='ignore', invalid='ignore')\n",
    "\n",
    "import psutil, time\n",
    "start_time = time.time()\n",
    "GB = pow(1024, 3)\n",
    "mem_total = psutil.virtual_memory().total / GB\n",
    "def show_mem_usage():\n",
    "  percent_used = psutil.virtual_memory().percent\n",
    "  mem_avail = psutil.virtual_memory().available / GB\n",
    "  mem_used = mem_total - mem_avail\n",
    "  cur_time = time.time()\n",
    "  print(\"Elapsed time {:.2f} seconds\".format(cur_time - start_time))\n",
    "  print(\"Mem used: {:.2f}, percent used: {} mem avail {:.2f}\".format(mem_used, percent_used, mem_avail))\n",
    "\n",
    "DATA_PATH = '../input/riiid-submit'\n",
    "target = 'answered_correctly'"
   ]
  },
  {
   "cell_type": "markdown",
   "metadata": {
    "papermill": {
     "duration": 0.042827,
     "end_time": "2020-12-31T08:14:33.849200",
     "exception": false,
     "start_time": "2020-12-31T08:14:33.806373",
     "status": "completed"
    },
    "tags": []
   },
   "source": [
    "# I. Son's model"
   ]
  },
  {
   "cell_type": "markdown",
   "metadata": {
    "papermill": {
     "duration": 0.041972,
     "end_time": "2020-12-31T08:14:33.933758",
     "exception": false,
     "start_time": "2020-12-31T08:14:33.891786",
     "status": "completed"
    },
    "tags": []
   },
   "source": [
    "## 1. Load dicts"
   ]
  },
  {
   "cell_type": "code",
   "execution_count": 2,
   "metadata": {
    "_cell_guid": "79c7e3d0-c299-4dcb-8224-4455121ee9b0",
    "_uuid": "d629ff2d2480ee46fbb7e2d37f6b5fab8052498a",
    "execution": {
     "iopub.execute_input": "2020-12-31T08:14:34.027880Z",
     "iopub.status.busy": "2020-12-31T08:14:34.027054Z",
     "iopub.status.idle": "2020-12-31T08:14:34.223578Z",
     "shell.execute_reply": "2020-12-31T08:14:34.224446Z"
    },
    "papermill": {
     "duration": 0.247023,
     "end_time": "2020-12-31T08:14:34.224661",
     "exception": false,
     "start_time": "2020-12-31T08:14:33.977638",
     "status": "completed"
    },
    "tags": []
   },
   "outputs": [
    {
     "name": "stderr",
     "output_type": "stream",
     "text": [
      "/opt/conda/lib/python3.7/site-packages/sklearn/base.py:334: UserWarning: Trying to unpickle estimator QuantileTransformer from version 0.22.2.post1 when using version 0.23.2. This might lead to breaking code or invalid results. Use at your own risk.\n",
      "  UserWarning)\n"
     ]
    }
   ],
   "source": [
    "questions_df = pd.read_parquet(DATA_PATH + '/questions_df.parquet')\n",
    "ts_quantile = pickle.load(open(DATA_PATH + '/' + 'ts_quantile.pkl', 'rb'))\n",
    "task_quantile = pickle.load(open(DATA_PATH + '/' + 'task_quantile.pkl', 'rb'))"
   ]
  },
  {
   "cell_type": "code",
   "execution_count": 3,
   "metadata": {
    "execution": {
     "iopub.execute_input": "2020-12-31T08:14:34.350613Z",
     "iopub.status.busy": "2020-12-31T08:14:34.349562Z",
     "iopub.status.idle": "2020-12-31T08:14:39.615950Z",
     "shell.execute_reply": "2020-12-31T08:14:39.615144Z"
    },
    "papermill": {
     "duration": 5.329714,
     "end_time": "2020-12-31T08:14:39.616081",
     "exception": false,
     "start_time": "2020-12-31T08:14:34.286367",
     "status": "completed"
    },
    "tags": []
   },
   "outputs": [],
   "source": [
    "loop_feat = pickle.load(open(DATA_PATH+'/loop_feat.pickle', \"rb\"))\n",
    "\n",
    "user_sum_dict = loop_feat['user_sum_dict']\n",
    "user_count_dict = loop_feat['user_count_dict']\n",
    "content_sum_dict = loop_feat['content_sum_dict']\n",
    "content_count_dict = loop_feat['content_count_dict']\n",
    "user_part_sum_dict = loop_feat['user_part_sum_dict']\n",
    "user_part_count_dict = loop_feat['user_part_count_dict']\n",
    "user_lecture_part_count_dict = loop_feat['user_lecture_part_count_dict']\n",
    "user_solving_count_dict = loop_feat['user_solving_count_dict']\n",
    "user_concept_count_dict = loop_feat['user_concept_count_dict']\n",
    "user_lecture_count_dict = loop_feat['user_lecture_count_dict']\n",
    "user_rolling_sum_dict = loop_feat['user_rolling_sum_dict']\n",
    "user_explanation_sum_dict = loop_feat['user_explanation_sum_dict']\n",
    "user_explanation_count_dict = loop_feat['user_explanation_count_dict']"
   ]
  },
  {
   "cell_type": "code",
   "execution_count": 4,
   "metadata": {
    "execution": {
     "iopub.execute_input": "2020-12-31T08:14:39.711313Z",
     "iopub.status.busy": "2020-12-31T08:14:39.710597Z",
     "iopub.status.idle": "2020-12-31T08:14:39.760626Z",
     "shell.execute_reply": "2020-12-31T08:14:39.759328Z"
    },
    "papermill": {
     "duration": 0.100921,
     "end_time": "2020-12-31T08:14:39.760798",
     "exception": false,
     "start_time": "2020-12-31T08:14:39.659877",
     "status": "completed"
    },
    "tags": []
   },
   "outputs": [],
   "source": [
    "metadata = pickle.load(open(DATA_PATH+'/metadata.pickle', \"rb\"))\n",
    "\n",
    "questions_part_dict = metadata['questions_part_dict']\n",
    "lectures_part_dict = metadata['lectures_part_dict']\n",
    "lectures_type_dict = metadata['lectures_type_dict']\n",
    "\n",
    "questions_df = pd.read_parquet(DATA_PATH+'/questions_df.parquet')\n",
    "content_agg = pd.read_parquet(DATA_PATH+'/content_agg.parquet')"
   ]
  },
  {
   "cell_type": "code",
   "execution_count": 5,
   "metadata": {
    "execution": {
     "iopub.execute_input": "2020-12-31T08:14:39.854930Z",
     "iopub.status.busy": "2020-12-31T08:14:39.853890Z",
     "iopub.status.idle": "2020-12-31T08:14:40.060490Z",
     "shell.execute_reply": "2020-12-31T08:14:40.059759Z"
    },
    "papermill": {
     "duration": 0.255367,
     "end_time": "2020-12-31T08:14:40.060605",
     "exception": false,
     "start_time": "2020-12-31T08:14:39.805238",
     "status": "completed"
    },
    "tags": []
   },
   "outputs": [],
   "source": [
    "time_lag_max_dict = pickle.load(open(DATA_PATH+'/time_lag_max_dict.pickle', \"rb\"))"
   ]
  },
  {
   "cell_type": "code",
   "execution_count": 6,
   "metadata": {
    "execution": {
     "iopub.execute_input": "2020-12-31T08:14:40.153853Z",
     "iopub.status.busy": "2020-12-31T08:14:40.153042Z",
     "iopub.status.idle": "2020-12-31T08:14:41.013090Z",
     "shell.execute_reply": "2020-12-31T08:14:41.012341Z"
    },
    "papermill": {
     "duration": 0.909501,
     "end_time": "2020-12-31T08:14:41.013213",
     "exception": false,
     "start_time": "2020-12-31T08:14:40.103712",
     "status": "completed"
    },
    "tags": []
   },
   "outputs": [],
   "source": [
    "user_explanation_dict = pickle.load(open(DATA_PATH+'/user_explanation_dict.pickle', \"rb\"))\n",
    "\n",
    "explanation_agg_sum_dict = user_explanation_dict['explanation_agg_sum_dict']\n",
    "explanation_agg_count_dict = user_explanation_dict['explanation_agg_count_dict']"
   ]
  },
  {
   "cell_type": "code",
   "execution_count": 7,
   "metadata": {
    "execution": {
     "iopub.execute_input": "2020-12-31T08:14:41.125415Z",
     "iopub.status.busy": "2020-12-31T08:14:41.123678Z",
     "iopub.status.idle": "2020-12-31T08:14:47.334671Z",
     "shell.execute_reply": "2020-12-31T08:14:47.333775Z"
    },
    "papermill": {
     "duration": 6.274175,
     "end_time": "2020-12-31T08:14:47.334820",
     "exception": false,
     "start_time": "2020-12-31T08:14:41.060645",
     "status": "completed"
    },
    "tags": []
   },
   "outputs": [],
   "source": [
    "elapsed_time_dict = pickle.load(open(DATA_PATH+'/elapsed_time_dict.pickle', \"rb\"))\n",
    "\n",
    "last_bundle_dict = elapsed_time_dict['last_bundle_dict']\n",
    "last_result_dict = elapsed_time_dict['last_result_dict']\n",
    "elapsed_time_user_sum_dict = elapsed_time_dict['elapsed_time_user_sum_dict']\n",
    "elapsed_time_user_count_dict = elapsed_time_dict['elapsed_time_user_count_dict']"
   ]
  },
  {
   "cell_type": "code",
   "execution_count": 8,
   "metadata": {
    "execution": {
     "iopub.execute_input": "2020-12-31T08:14:47.427977Z",
     "iopub.status.busy": "2020-12-31T08:14:47.427207Z",
     "iopub.status.idle": "2020-12-31T08:14:47.475146Z",
     "shell.execute_reply": "2020-12-31T08:14:47.474481Z"
    },
    "papermill": {
     "duration": 0.096897,
     "end_time": "2020-12-31T08:14:47.475299",
     "exception": false,
     "start_time": "2020-12-31T08:14:47.378402",
     "status": "completed"
    },
    "tags": []
   },
   "outputs": [],
   "source": [
    "question_time = pd.read_parquet(DATA_PATH+'/'+'question_time.parquet')\n",
    "part_time = pd.read_parquet(DATA_PATH+'/'+'part_time.parquet')"
   ]
  },
  {
   "cell_type": "code",
   "execution_count": 9,
   "metadata": {
    "execution": {
     "iopub.execute_input": "2020-12-31T08:14:47.574769Z",
     "iopub.status.busy": "2020-12-31T08:14:47.574051Z",
     "iopub.status.idle": "2020-12-31T08:14:47.647595Z",
     "shell.execute_reply": "2020-12-31T08:14:47.646906Z"
    },
    "papermill": {
     "duration": 0.126526,
     "end_time": "2020-12-31T08:14:47.647710",
     "exception": false,
     "start_time": "2020-12-31T08:14:47.521184",
     "status": "completed"
    },
    "tags": []
   },
   "outputs": [],
   "source": [
    "content_part_bin_dict = pickle.load(open(DATA_PATH+'/content_part_bin_dict.pickle', \"rb\"))\n",
    "\n",
    "content_bin_mean_dict = content_part_bin_dict['content_bin_mean_dict']\n",
    "content_bin_sum_dict = content_part_bin_dict['content_bin_sum_dict']\n",
    "content_bin_count_dict = content_part_bin_dict['content_bin_count_dict']\n",
    "content_bin_std_dict = content_part_bin_dict['content_bin_std_dict']\n",
    "\n",
    "part_bin_mean_dict = content_part_bin_dict['part_bin_mean_dict']\n",
    "part_bin_sum_dict = content_part_bin_dict['part_bin_sum_dict']\n",
    "part_bin_count_dict = content_part_bin_dict['part_bin_count_dict']\n",
    "part_bin_std_dict = content_part_bin_dict['part_bin_std_dict']"
   ]
  },
  {
   "cell_type": "code",
   "execution_count": 10,
   "metadata": {
    "execution": {
     "iopub.execute_input": "2020-12-31T08:14:47.744097Z",
     "iopub.status.busy": "2020-12-31T08:14:47.743266Z",
     "iopub.status.idle": "2020-12-31T08:14:55.598878Z",
     "shell.execute_reply": "2020-12-31T08:14:55.599475Z"
    },
    "papermill": {
     "duration": 7.905688,
     "end_time": "2020-12-31T08:14:55.599645",
     "exception": false,
     "start_time": "2020-12-31T08:14:47.693957",
     "status": "completed"
    },
    "tags": []
   },
   "outputs": [],
   "source": [
    "users_dict = pickle.load(open(DATA_PATH+'/users_dict.pickle', \"rb\"))"
   ]
  },
  {
   "cell_type": "code",
   "execution_count": 11,
   "metadata": {
    "execution": {
     "iopub.execute_input": "2020-12-31T08:14:55.729247Z",
     "iopub.status.busy": "2020-12-31T08:14:55.714570Z",
     "iopub.status.idle": "2020-12-31T08:14:56.365720Z",
     "shell.execute_reply": "2020-12-31T08:14:56.366291Z"
    },
    "papermill": {
     "duration": 0.720351,
     "end_time": "2020-12-31T08:14:56.366455",
     "exception": false,
     "start_time": "2020-12-31T08:14:55.646104",
     "status": "completed"
    },
    "tags": []
   },
   "outputs": [],
   "source": [
    "user_question_part_attempt_dict = pickle.load(open(DATA_PATH+'/user_question_part_attempt_dict.pickle', \"rb\"))\n",
    "\n",
    "user_attempt_sum_dict = user_question_part_attempt_dict['user_attempt_sum_dict']\n",
    "user_attempt_count_dict = user_question_part_attempt_dict['user_attempt_count_dict']\n",
    "content_attempt_sum_dict = user_question_part_attempt_dict['content_attempt_sum_dict']\n",
    "content_attempt_count_dict = user_question_part_attempt_dict['content_attempt_count_dict']\n",
    "part_attempt_sum_dict = user_question_part_attempt_dict['part_attempt_sum_dict']\n",
    "part_attempt_count_dict = user_question_part_attempt_dict['part_attempt_count_dict']"
   ]
  },
  {
   "cell_type": "code",
   "execution_count": 12,
   "metadata": {
    "execution": {
     "iopub.execute_input": "2020-12-31T08:14:56.458943Z",
     "iopub.status.busy": "2020-12-31T08:14:56.458221Z",
     "iopub.status.idle": "2020-12-31T08:14:56.473728Z",
     "shell.execute_reply": "2020-12-31T08:14:56.474271Z"
    },
    "papermill": {
     "duration": 0.063798,
     "end_time": "2020-12-31T08:14:56.474440",
     "exception": false,
     "start_time": "2020-12-31T08:14:56.410642",
     "status": "completed"
    },
    "tags": []
   },
   "outputs": [],
   "source": [
    "woe_dict = pickle.load(open(DATA_PATH+'/woe_dict.pickle', \"rb\"))\n",
    "\n",
    "woe_content_dict = woe_dict['woe_content_dict']\n",
    "woe_part_dict = woe_dict['woe_part_dict']"
   ]
  },
  {
   "cell_type": "code",
   "execution_count": 13,
   "metadata": {
    "execution": {
     "iopub.execute_input": "2020-12-31T08:14:56.567557Z",
     "iopub.status.busy": "2020-12-31T08:14:56.566881Z",
     "iopub.status.idle": "2020-12-31T08:14:56.589491Z",
     "shell.execute_reply": "2020-12-31T08:14:56.587944Z"
    },
    "papermill": {
     "duration": 0.070734,
     "end_time": "2020-12-31T08:14:56.589628",
     "exception": false,
     "start_time": "2020-12-31T08:14:56.518894",
     "status": "completed"
    },
    "tags": []
   },
   "outputs": [],
   "source": [
    "df = pd.DataFrame(pd.cut(list(range(10000)),[0,30] + list(range(500,10001,500)),labels = list(range(0,21)),include_lowest=True), columns=['bin'])\n",
    "task_bin_dict = df['bin'].astype('int8').to_dict(defaultdict(int))"
   ]
  },
  {
   "cell_type": "code",
   "execution_count": 14,
   "metadata": {
    "execution": {
     "iopub.execute_input": "2020-12-31T08:14:56.684362Z",
     "iopub.status.busy": "2020-12-31T08:14:56.683362Z",
     "iopub.status.idle": "2020-12-31T08:14:56.687266Z",
     "shell.execute_reply": "2020-12-31T08:14:56.686527Z"
    },
    "papermill": {
     "duration": 0.052697,
     "end_time": "2020-12-31T08:14:56.687384",
     "exception": false,
     "start_time": "2020-12-31T08:14:56.634687",
     "status": "completed"
    },
    "tags": []
   },
   "outputs": [],
   "source": [
    "# prior_question_elapsed_time_mean = train_df.prior_question_elapsed_time.dropna().values.mean()\n",
    "# prior_question_elapsed_time_mean = 25526.652\n",
    "prior_question_elapsed_time_mean = 25462.191"
   ]
  },
  {
   "cell_type": "code",
   "execution_count": 15,
   "metadata": {
    "execution": {
     "iopub.execute_input": "2020-12-31T08:14:56.783312Z",
     "iopub.status.busy": "2020-12-31T08:14:56.782573Z",
     "iopub.status.idle": "2020-12-31T08:14:58.034097Z",
     "shell.execute_reply": "2020-12-31T08:14:58.033375Z"
    },
    "papermill": {
     "duration": 1.301431,
     "end_time": "2020-12-31T08:14:58.034248",
     "exception": false,
     "start_time": "2020-12-31T08:14:56.732817",
     "status": "completed"
    },
    "tags": []
   },
   "outputs": [],
   "source": [
    "timestamp_user_dict = pickle.load(open(DATA_PATH+'/timestamp_user_dict.pickle', \"rb\"))"
   ]
  },
  {
   "cell_type": "code",
   "execution_count": 16,
   "metadata": {
    "execution": {
     "iopub.execute_input": "2020-12-31T08:14:58.132687Z",
     "iopub.status.busy": "2020-12-31T08:14:58.131984Z",
     "iopub.status.idle": "2020-12-31T08:14:58.280046Z",
     "shell.execute_reply": "2020-12-31T08:14:58.279420Z"
    },
    "papermill": {
     "duration": 0.200991,
     "end_time": "2020-12-31T08:14:58.280174",
     "exception": false,
     "start_time": "2020-12-31T08:14:58.079183",
     "status": "completed"
    },
    "tags": []
   },
   "outputs": [],
   "source": [
    "last_task_dict = pickle.load(open(DATA_PATH+'/last_task_dict.pickle', \"rb\"))"
   ]
  },
  {
   "cell_type": "code",
   "execution_count": 17,
   "metadata": {
    "execution": {
     "iopub.execute_input": "2020-12-31T08:14:58.375502Z",
     "iopub.status.busy": "2020-12-31T08:14:58.374835Z",
     "iopub.status.idle": "2020-12-31T08:14:58.388927Z",
     "shell.execute_reply": "2020-12-31T08:14:58.388336Z"
    },
    "papermill": {
     "duration": 0.064156,
     "end_time": "2020-12-31T08:14:58.389056",
     "exception": false,
     "start_time": "2020-12-31T08:14:58.324900",
     "status": "completed"
    },
    "tags": []
   },
   "outputs": [],
   "source": [
    "is_bundle_dict = pickle.load(open(DATA_PATH+'/is_bundle_dict.pickle', \"rb\"))"
   ]
  },
  {
   "cell_type": "code",
   "execution_count": 18,
   "metadata": {
    "execution": {
     "iopub.execute_input": "2020-12-31T08:14:58.485831Z",
     "iopub.status.busy": "2020-12-31T08:14:58.485127Z",
     "iopub.status.idle": "2020-12-31T08:14:58.531810Z",
     "shell.execute_reply": "2020-12-31T08:14:58.531217Z"
    },
    "papermill": {
     "duration": 0.09744,
     "end_time": "2020-12-31T08:14:58.531925",
     "exception": false,
     "start_time": "2020-12-31T08:14:58.434485",
     "status": "completed"
    },
    "tags": []
   },
   "outputs": [],
   "source": [
    "question_timelag_dict = pickle.load(open(DATA_PATH+'/question_timelag_dict.pickle', \"rb\"))\n",
    "bundle_count = pickle.load(open(DATA_PATH+'/bundle_count.pickle', \"rb\"))\n",
    "question_bundle = pickle.load(open(DATA_PATH+'/question_bundle.pickle', \"rb\"))"
   ]
  },
  {
   "cell_type": "code",
   "execution_count": 19,
   "metadata": {
    "execution": {
     "iopub.execute_input": "2020-12-31T08:14:58.627783Z",
     "iopub.status.busy": "2020-12-31T08:14:58.626996Z",
     "iopub.status.idle": "2020-12-31T08:15:01.248129Z",
     "shell.execute_reply": "2020-12-31T08:15:01.248654Z"
    },
    "papermill": {
     "duration": 2.671482,
     "end_time": "2020-12-31T08:15:01.248835",
     "exception": false,
     "start_time": "2020-12-31T08:14:58.577353",
     "status": "completed"
    },
    "tags": []
   },
   "outputs": [],
   "source": [
    "user_bundle_count_dict = pickle.load(open(DATA_PATH+'/user_bundle_count_dict.pickle', \"rb\"))\n",
    "user_last_iteraction = pickle.load(open(DATA_PATH+'/user_last_iteraction.pickle', \"rb\"))"
   ]
  },
  {
   "cell_type": "code",
   "execution_count": 20,
   "metadata": {
    "execution": {
     "iopub.execute_input": "2020-12-31T08:15:01.343090Z",
     "iopub.status.busy": "2020-12-31T08:15:01.342374Z",
     "iopub.status.idle": "2020-12-31T08:15:07.485172Z",
     "shell.execute_reply": "2020-12-31T08:15:07.485892Z"
    },
    "papermill": {
     "duration": 6.191512,
     "end_time": "2020-12-31T08:15:07.486061",
     "exception": false,
     "start_time": "2020-12-31T08:15:01.294549",
     "status": "completed"
    },
    "tags": []
   },
   "outputs": [],
   "source": [
    "user_part_lag_dict = pickle.load(open(DATA_PATH+'/user_part_lag_dict.pickle', \"rb\"))"
   ]
  },
  {
   "cell_type": "code",
   "execution_count": 21,
   "metadata": {
    "execution": {
     "iopub.execute_input": "2020-12-31T08:15:07.584686Z",
     "iopub.status.busy": "2020-12-31T08:15:07.584032Z",
     "iopub.status.idle": "2020-12-31T08:15:13.805600Z",
     "shell.execute_reply": "2020-12-31T08:15:13.806195Z"
    },
    "papermill": {
     "duration": 6.272498,
     "end_time": "2020-12-31T08:15:13.806346",
     "exception": false,
     "start_time": "2020-12-31T08:15:07.533848",
     "status": "completed"
    },
    "tags": []
   },
   "outputs": [],
   "source": [
    "timestamp_part_user_dict = pickle.load(open(DATA_PATH+'/timestamp_part_user_dict.pickle', \"rb\"))"
   ]
  },
  {
   "cell_type": "code",
   "execution_count": 22,
   "metadata": {
    "execution": {
     "iopub.execute_input": "2020-12-31T08:15:13.901375Z",
     "iopub.status.busy": "2020-12-31T08:15:13.900695Z",
     "iopub.status.idle": "2020-12-31T08:15:14.255402Z",
     "shell.execute_reply": "2020-12-31T08:15:14.255983Z"
    },
    "papermill": {
     "duration": 0.4043,
     "end_time": "2020-12-31T08:15:14.256135",
     "exception": false,
     "start_time": "2020-12-31T08:15:13.851835",
     "status": "completed"
    },
    "tags": []
   },
   "outputs": [],
   "source": [
    "last_session_dict = pickle.load(open(DATA_PATH+'/last_session_dict.pickle', \"rb\"))\n",
    "user_time_accumulate_dict = pickle.load(open(DATA_PATH+'/user_time_accumulate_dict.pickle', \"rb\"))\n",
    "\n",
    "# last_session_sum_dict = pickle.load(open(DATA_PATH+'kaggle_submit/last_session_sum_dict.pickle', \"rb\"))\n",
    "# last_session_count_dict = pickle.load(open(DATA_PATH+'kaggle_submit/last_session_count_dict.pickle', \"rb\"))\n",
    "# last_2_session_sum_dict = pickle.load(open(DATA_PATH+'kaggle_submit/last_2_session_sum_dict.pickle', \"rb\"))\n",
    "# last_2_session_count_dict = pickle.load(open(DATA_PATH+'kaggle_submit/last_2_session_count_dict.pickle', \"rb\"))"
   ]
  },
  {
   "cell_type": "markdown",
   "metadata": {
    "papermill": {
     "duration": 0.045924,
     "end_time": "2020-12-31T08:15:14.348107",
     "exception": false,
     "start_time": "2020-12-31T08:15:14.302183",
     "status": "completed"
    },
    "tags": []
   },
   "source": [
    "## 2. Load model"
   ]
  },
  {
   "cell_type": "code",
   "execution_count": 23,
   "metadata": {
    "execution": {
     "iopub.execute_input": "2020-12-31T08:15:14.443917Z",
     "iopub.status.busy": "2020-12-31T08:15:14.443156Z",
     "iopub.status.idle": "2020-12-31T08:15:14.468506Z",
     "shell.execute_reply": "2020-12-31T08:15:14.469107Z"
    },
    "papermill": {
     "duration": 0.075558,
     "end_time": "2020-12-31T08:15:14.469265",
     "exception": false,
     "start_time": "2020-12-31T08:15:14.393707",
     "status": "completed"
    },
    "tags": []
   },
   "outputs": [],
   "source": [
    "features = ['ts_bins',\n",
    " 'task_bins',\n",
    " 'prior_question_elapsed_time',\n",
    " 'part',\n",
    " 'prior_question_had_explanation',\n",
    " 'WOE_content_id',\n",
    " 'WOE_part',\n",
    " 'content_id',\n",
    " 'part_correct',\n",
    " 'correct_answer_mean',\n",
    " 'content_count',\n",
    " 'content_std',\n",
    " 'attempt_binary',\n",
    " 'timelag_update',\n",
    " 'tags_0',\n",
    " 'tags_1',\n",
    " 'tags_2',\n",
    " 'lag_1',\n",
    " 'lag_2',\n",
    " 'lag_3',\n",
    " 'user_correctness',\n",
    " 'user_count',\n",
    " 'user_sum',\n",
    " 'user_part_correctness',\n",
    " 'user_part_count',\n",
    " 'user_lecture_part_count',\n",
    " 'user_solving_count',\n",
    " 'user_concept_count',\n",
    " 'user_roll15_correctness',\n",
    " 'user_roll15_std',\n",
    " 'user_roll15_count',\n",
    " 'user_roll30_correctness',\n",
    " 'user_roll30_std',\n",
    " 'user_roll30_count',\n",
    " 'correct_ircorrect_roll15_ratio',\n",
    " 'correct_ircorrect_roll30_ratio',\n",
    " 'hmean_user_content_accuracy',\n",
    " 'skip_task',\n",
    " 'timelag_2',\n",
    " 'timelag_3',\n",
    " 'timelag_4',\n",
    " 'timelag_5',\n",
    " 'timelag_6',\n",
    " 'is_bundle',\n",
    " 'content_bin_mean',\n",
    " 'content_bin_count',\n",
    " 'content_bin_std',\n",
    " 'part_bin_mean',\n",
    " 'part_bin_count',\n",
    " 'part_bin_std',\n",
    " 'elapsed_time_user_mean',\n",
    " 'elapsed_time_user_diff',\n",
    " 'question_timelag_diff',\n",
    " 'question_timelag_median',\n",
    " 'explanation_sum',\n",
    " 'explanation_count',\n",
    " 'user_explanation_correctness',\n",
    " 'question_time_mean_false_diff',\n",
    " 'question_time_mean_true_diff',\n",
    " 'question_time_median_false_diff',\n",
    " 'question_time_median_true_diff',\n",
    " 'part_time_mean_false_diff',\n",
    " 'part_time_mean_true_diff',\n",
    " 'part_time_median_false_diff',\n",
    " 'part_time_median_true_diff',\n",
    "\n",
    " 'user_attempt_sum',\n",
    " 'user_attempt_count',\n",
    " 'content_attempt_sum',\n",
    " 'content_attempt_count',\n",
    " 'part_attempt_sum',\n",
    " 'part_attempt_count',\n",
    " 'user_attempt_mean',\n",
    " 'content_attempt_mean',\n",
    " 'part_attempt_mean',\n",
    "\n",
    " 'n_tags',\n",
    " 'user_lecture_count',\n",
    " 'user_explanation_mean',\n",
    " 'tags_0_pct',\n",
    " 'tags_1_pct',\n",
    " 'tags_2_pct',\n",
    " 'tags_mean',\n",
    " 'tags_min',\n",
    " 'tags_max',\n",
    " \n",
    " 'timelag_part_1',\n",
    " 'timelag_part_2',\n",
    " 'timelag_part_3',\n",
    " 'lag_part_1',\n",
    " 'lag_part_2',\n",
    " 'lag_part_3',\n",
    " 'lag_part_mean',\n",
    " 'user_bundle_count',\n",
    " 'user_bundle_question_ratio',\n",
    " \n",
    " \"user_session\",\n",
    " \"user_time_accumulate\"]"
   ]
  },
  {
   "cell_type": "code",
   "execution_count": 24,
   "metadata": {
    "execution": {
     "iopub.execute_input": "2020-12-31T08:15:14.564850Z",
     "iopub.status.busy": "2020-12-31T08:15:14.564062Z",
     "iopub.status.idle": "2020-12-31T08:15:14.569512Z",
     "shell.execute_reply": "2020-12-31T08:15:14.570198Z"
    },
    "papermill": {
     "duration": 0.055041,
     "end_time": "2020-12-31T08:15:14.570352",
     "exception": false,
     "start_time": "2020-12-31T08:15:14.515311",
     "status": "completed"
    },
    "tags": []
   },
   "outputs": [
    {
     "data": {
      "text/plain": [
       "94"
      ]
     },
     "execution_count": 24,
     "metadata": {},
     "output_type": "execute_result"
    }
   ],
   "source": [
    "len(features)"
   ]
  },
  {
   "cell_type": "code",
   "execution_count": 25,
   "metadata": {
    "execution": {
     "iopub.execute_input": "2020-12-31T08:15:14.666811Z",
     "iopub.status.busy": "2020-12-31T08:15:14.666143Z",
     "iopub.status.idle": "2020-12-31T08:15:37.776299Z",
     "shell.execute_reply": "2020-12-31T08:15:37.777024Z"
    },
    "papermill": {
     "duration": 23.160482,
     "end_time": "2020-12-31T08:15:37.777196",
     "exception": false,
     "start_time": "2020-12-31T08:15:14.616714",
     "status": "completed"
    },
    "tags": []
   },
   "outputs": [],
   "source": [
    "# model = CatBoostClassifier().load_model(fname='../input/riiid-model/catboost_tr0.7844256_va0.7801372')\n",
    "model_Son = lgb.Booster(model_file='../input/riiid-model/lgbm-25-90m_v4.txt')"
   ]
  },
  {
   "cell_type": "markdown",
   "metadata": {
    "papermill": {
     "duration": 0.046087,
     "end_time": "2020-12-31T08:15:37.871060",
     "exception": false,
     "start_time": "2020-12-31T08:15:37.824973",
     "status": "completed"
    },
    "tags": []
   },
   "source": [
    "# II. Linh's model"
   ]
  },
  {
   "cell_type": "markdown",
   "metadata": {
    "papermill": {
     "duration": 0.047164,
     "end_time": "2020-12-31T08:15:37.965676",
     "exception": false,
     "start_time": "2020-12-31T08:15:37.918512",
     "status": "completed"
    },
    "tags": []
   },
   "source": [
    "## 1. Load dicts & features"
   ]
  },
  {
   "cell_type": "markdown",
   "metadata": {
    "papermill": {
     "duration": 0.047356,
     "end_time": "2020-12-31T08:15:38.060551",
     "exception": false,
     "start_time": "2020-12-31T08:15:38.013195",
     "status": "completed"
    },
    "tags": []
   },
   "source": [
    "### Dicts"
   ]
  },
  {
   "cell_type": "code",
   "execution_count": 26,
   "metadata": {
    "execution": {
     "iopub.execute_input": "2020-12-31T08:15:38.158525Z",
     "iopub.status.busy": "2020-12-31T08:15:38.157844Z",
     "iopub.status.idle": "2020-12-31T08:15:38.163904Z",
     "shell.execute_reply": "2020-12-31T08:15:38.164459Z"
    },
    "papermill": {
     "duration": 0.056343,
     "end_time": "2020-12-31T08:15:38.164608",
     "exception": false,
     "start_time": "2020-12-31T08:15:38.108265",
     "status": "completed"
    },
    "tags": []
   },
   "outputs": [],
   "source": [
    "def update_attempts_dict(df):\n",
    "    for (user_id, content_id, content_type_id) in df[['user_id', 'content_id', 'content_type_id']].values:\n",
    "        if content_type_id == 0:\n",
    "            # update dict\n",
    "            attempts_dict[user_id][content_id] += 1\n",
    "        else:\n",
    "            pass"
   ]
  },
  {
   "cell_type": "code",
   "execution_count": 27,
   "metadata": {
    "execution": {
     "iopub.execute_input": "2020-12-31T08:15:38.265088Z",
     "iopub.status.busy": "2020-12-31T08:15:38.264247Z",
     "iopub.status.idle": "2020-12-31T08:27:42.311417Z",
     "shell.execute_reply": "2020-12-31T08:27:42.310577Z"
    },
    "papermill": {
     "duration": 724.099749,
     "end_time": "2020-12-31T08:27:42.311586",
     "exception": false,
     "start_time": "2020-12-31T08:15:38.211837",
     "status": "completed"
    },
    "tags": []
   },
   "outputs": [
    {
     "name": "stdout",
     "output_type": "stream",
     "text": [
      "CPU times: user 10min 48s, sys: 16.1 s, total: 11min 4s\n",
      "Wall time: 12min 3s\n"
     ]
    },
    {
     "data": {
      "text/plain": [
       "11"
      ]
     },
     "execution_count": 27,
     "metadata": {},
     "output_type": "execute_result"
    }
   ],
   "source": [
    "%%time\n",
    "train_df = pd.read_pickle('../input/riiid-cross-validation-files/cv1_train.pickle')[['user_id', 'content_id', 'content_type_id']]\n",
    "valid_df = pd.read_pickle('../input/riiid-cross-validation-files/cv1_valid.pickle')[['user_id', 'content_id', 'content_type_id']]\n",
    "\n",
    "# train_df = train_df[-1000000:]\n",
    "# valid_df = valid_df[:10000]\n",
    "\n",
    "attempts_dict = defaultdict(lambda: defaultdict(int))\n",
    "\n",
    "update_attempts_dict(train_df)\n",
    "del train_df\n",
    "update_attempts_dict(valid_df)\n",
    "del valid_df\n",
    "gc.collect()"
   ]
  },
  {
   "cell_type": "code",
   "execution_count": 28,
   "metadata": {
    "execution": {
     "iopub.execute_input": "2020-12-31T08:27:42.412246Z",
     "iopub.status.busy": "2020-12-31T08:27:42.411564Z",
     "iopub.status.idle": "2020-12-31T08:27:43.667421Z",
     "shell.execute_reply": "2020-12-31T08:27:43.668209Z"
    },
    "papermill": {
     "duration": 1.309128,
     "end_time": "2020-12-31T08:27:43.668413",
     "exception": false,
     "start_time": "2020-12-31T08:27:42.359285",
     "status": "completed"
    },
    "tags": []
   },
   "outputs": [
    {
     "name": "stdout",
     "output_type": "stream",
     "text": [
      "CPU times: user 699 ms, sys: 136 ms, total: 836 ms\n",
      "Wall time: 1.25 s\n"
     ]
    }
   ],
   "source": [
    "%%time\n",
    "answered_user_count_dict = dill.load(open('../input/riiid-dicts/answered_user_count_dict_file', 'rb'))\n",
    "answered_correctly_user_sum_dict = dill.load(open('../input/riiid-dicts/answered_correctly_user_sum_dict_file', 'rb'))"
   ]
  },
  {
   "cell_type": "code",
   "execution_count": 29,
   "metadata": {
    "execution": {
     "iopub.execute_input": "2020-12-31T08:27:43.768927Z",
     "iopub.status.busy": "2020-12-31T08:27:43.768062Z",
     "iopub.status.idle": "2020-12-31T08:27:47.602954Z",
     "shell.execute_reply": "2020-12-31T08:27:47.602118Z"
    },
    "papermill": {
     "duration": 3.887068,
     "end_time": "2020-12-31T08:27:47.603098",
     "exception": false,
     "start_time": "2020-12-31T08:27:43.716030",
     "status": "completed"
    },
    "tags": []
   },
   "outputs": [
    {
     "name": "stdout",
     "output_type": "stream",
     "text": [
      "CPU times: user 2.04 s, sys: 367 ms, total: 2.41 s\n",
      "Wall time: 3.83 s\n"
     ]
    }
   ],
   "source": [
    "%%time\n",
    "lag1_dict = dill.load(open('../input/riiid-dicts/lag1_dict_file', 'rb'))\n",
    "window_dict = dill.load(open('../input/riiid-dicts/window_dict_file', 'rb'))\n",
    "wrong_answered_user_count_dict = dill.load(open('../input/riiid-dicts/wrong_answered_user_count_dict_file', 'rb'))"
   ]
  },
  {
   "cell_type": "code",
   "execution_count": 30,
   "metadata": {
    "execution": {
     "iopub.execute_input": "2020-12-31T08:27:47.714096Z",
     "iopub.status.busy": "2020-12-31T08:27:47.713357Z",
     "iopub.status.idle": "2020-12-31T08:27:51.670000Z",
     "shell.execute_reply": "2020-12-31T08:27:51.670710Z"
    },
    "papermill": {
     "duration": 4.014522,
     "end_time": "2020-12-31T08:27:51.670919",
     "exception": false,
     "start_time": "2020-12-31T08:27:47.656397",
     "status": "completed"
    },
    "tags": []
   },
   "outputs": [
    {
     "name": "stdout",
     "output_type": "stream",
     "text": [
      "CPU times: user 2.5 s, sys: 394 ms, total: 2.89 s\n",
      "Wall time: 3.95 s\n"
     ]
    }
   ],
   "source": [
    "%%time\n",
    "answered_user_part_count_dict = dill.load(open('../input/riiid-dicts/answered_user_part_count_dict_file', 'rb'))\n",
    "answered_correctly_user_part_sum_dict = dill.load(open('../input/riiid-dicts/answered_correctly_user_part_sum_dict_file', 'rb'))"
   ]
  },
  {
   "cell_type": "code",
   "execution_count": 31,
   "metadata": {
    "execution": {
     "iopub.execute_input": "2020-12-31T08:27:51.779729Z",
     "iopub.status.busy": "2020-12-31T08:27:51.779017Z",
     "iopub.status.idle": "2020-12-31T08:27:52.239344Z",
     "shell.execute_reply": "2020-12-31T08:27:52.239961Z"
    },
    "papermill": {
     "duration": 0.51923,
     "end_time": "2020-12-31T08:27:52.240194",
     "exception": false,
     "start_time": "2020-12-31T08:27:51.720964",
     "status": "completed"
    },
    "tags": []
   },
   "outputs": [
    {
     "name": "stdout",
     "output_type": "stream",
     "text": [
      "CPU times: user 294 ms, sys: 28.8 ms, total: 322 ms\n",
      "Wall time: 456 ms\n"
     ]
    }
   ],
   "source": [
    "%%time\n",
    "bundle_user_count_dict = dill.load(open('../input/riiid-dicts/bundle_user_count_dict_file', 'rb'))"
   ]
  },
  {
   "cell_type": "code",
   "execution_count": 32,
   "metadata": {
    "execution": {
     "iopub.execute_input": "2020-12-31T08:27:52.349330Z",
     "iopub.status.busy": "2020-12-31T08:27:52.348269Z",
     "iopub.status.idle": "2020-12-31T08:27:52.773674Z",
     "shell.execute_reply": "2020-12-31T08:27:52.772684Z"
    },
    "papermill": {
     "duration": 0.480862,
     "end_time": "2020-12-31T08:27:52.773888",
     "exception": false,
     "start_time": "2020-12-31T08:27:52.293026",
     "status": "completed"
    },
    "tags": []
   },
   "outputs": [
    {
     "name": "stdout",
     "output_type": "stream",
     "text": [
      "CPU times: user 274 ms, sys: 15 ms, total: 290 ms\n",
      "Wall time: 415 ms\n"
     ]
    }
   ],
   "source": [
    "%%time\n",
    "lecture_user_count_dict = dill.load(open('../input/riiid-dicts/lecture_user_count_dict_file', 'rb'))"
   ]
  },
  {
   "cell_type": "code",
   "execution_count": 33,
   "metadata": {
    "execution": {
     "iopub.execute_input": "2020-12-31T08:27:52.883562Z",
     "iopub.status.busy": "2020-12-31T08:27:52.882501Z",
     "iopub.status.idle": "2020-12-31T08:27:53.988665Z",
     "shell.execute_reply": "2020-12-31T08:27:53.989195Z"
    },
    "papermill": {
     "duration": 1.162817,
     "end_time": "2020-12-31T08:27:53.989347",
     "exception": false,
     "start_time": "2020-12-31T08:27:52.826530",
     "status": "completed"
    },
    "tags": []
   },
   "outputs": [
    {
     "name": "stdout",
     "output_type": "stream",
     "text": [
      "CPU times: user 790 ms, sys: 25.8 ms, total: 816 ms\n",
      "Wall time: 1.1 s\n"
     ]
    }
   ],
   "source": [
    "%%time\n",
    "lecture_user_part_count_dict = dill.load(open('../input/riiid-dicts/lecture_user_part_count_dict_file', 'rb'))"
   ]
  },
  {
   "cell_type": "code",
   "execution_count": 34,
   "metadata": {
    "execution": {
     "iopub.execute_input": "2020-12-31T08:27:54.097052Z",
     "iopub.status.busy": "2020-12-31T08:27:54.096012Z",
     "iopub.status.idle": "2020-12-31T08:28:03.186511Z",
     "shell.execute_reply": "2020-12-31T08:28:03.185407Z"
    },
    "papermill": {
     "duration": 9.144505,
     "end_time": "2020-12-31T08:28:03.187004",
     "exception": false,
     "start_time": "2020-12-31T08:27:54.042499",
     "status": "completed"
    },
    "tags": []
   },
   "outputs": [
    {
     "name": "stdout",
     "output_type": "stream",
     "text": [
      "CPU times: user 8.78 s, sys: 106 ms, total: 8.89 s\n",
      "Wall time: 9.08 s\n"
     ]
    }
   ],
   "source": [
    "%%time\n",
    "lecture_user_type_count_dict = dill.load(open('../input/riiid-dicts/lecture_user_type_count_dict_file', 'rb'))"
   ]
  },
  {
   "cell_type": "code",
   "execution_count": 35,
   "metadata": {
    "execution": {
     "iopub.execute_input": "2020-12-31T08:28:03.295665Z",
     "iopub.status.busy": "2020-12-31T08:28:03.294954Z",
     "iopub.status.idle": "2020-12-31T08:28:04.850116Z",
     "shell.execute_reply": "2020-12-31T08:28:04.849408Z"
    },
    "papermill": {
     "duration": 1.612165,
     "end_time": "2020-12-31T08:28:04.850246",
     "exception": false,
     "start_time": "2020-12-31T08:28:03.238081",
     "status": "completed"
    },
    "tags": []
   },
   "outputs": [
    {
     "name": "stdout",
     "output_type": "stream",
     "text": [
      "CPU times: user 894 ms, sys: 113 ms, total: 1.01 s\n",
      "Wall time: 1.55 s\n"
     ]
    }
   ],
   "source": [
    "%%time\n",
    "prior_elapsed_time_sum_dict = dill.load(open('../input/riiid-dicts/prior_elapsed_time_sum_dict_file', 'rb'))\n",
    "prior_elapsed_time_dict = dill.load(open('../input/riiid-dicts/prior_elapsed_time_dict_file', 'rb'))"
   ]
  },
  {
   "cell_type": "code",
   "execution_count": 36,
   "metadata": {
    "execution": {
     "iopub.execute_input": "2020-12-31T08:28:04.961395Z",
     "iopub.status.busy": "2020-12-31T08:28:04.960454Z",
     "iopub.status.idle": "2020-12-31T08:28:05.750666Z",
     "shell.execute_reply": "2020-12-31T08:28:05.751288Z"
    },
    "papermill": {
     "duration": 0.849164,
     "end_time": "2020-12-31T08:28:05.751440",
     "exception": false,
     "start_time": "2020-12-31T08:28:04.902276",
     "status": "completed"
    },
    "tags": []
   },
   "outputs": [
    {
     "name": "stdout",
     "output_type": "stream",
     "text": [
      "CPU times: user 451 ms, sys: 70.3 ms, total: 521 ms\n",
      "Wall time: 787 ms\n"
     ]
    }
   ],
   "source": [
    "%%time\n",
    "prior_explanation_sum_dict = dill.load(open('../input/riiid-dicts/prior_explanation_sum_dict_file', 'rb'))"
   ]
  },
  {
   "cell_type": "code",
   "execution_count": 37,
   "metadata": {
    "execution": {
     "iopub.execute_input": "2020-12-31T08:28:05.858846Z",
     "iopub.status.busy": "2020-12-31T08:28:05.858043Z",
     "iopub.status.idle": "2020-12-31T08:28:07.482251Z",
     "shell.execute_reply": "2020-12-31T08:28:07.482799Z"
    },
    "papermill": {
     "duration": 1.680022,
     "end_time": "2020-12-31T08:28:07.482953",
     "exception": false,
     "start_time": "2020-12-31T08:28:05.802931",
     "status": "completed"
    },
    "tags": []
   },
   "outputs": [
    {
     "name": "stdout",
     "output_type": "stream",
     "text": [
      "CPU times: user 980 ms, sys: 152 ms, total: 1.13 s\n",
      "Wall time: 1.62 s\n"
     ]
    }
   ],
   "source": [
    "%%time\n",
    "task_dict = dill.load(open('../input/riiid-dicts/task_dict_file', 'rb'))\n",
    "task_count_arr_dict = dill.load(open('../input/riiid-dicts/task_count_arr_dict_file', 'rb'))\n",
    "task_content_number_dict = dill.load(open('../input/riiid-dicts/task_content_number_dict_file', 'rb'))"
   ]
  },
  {
   "cell_type": "code",
   "execution_count": 38,
   "metadata": {
    "execution": {
     "iopub.execute_input": "2020-12-31T08:28:07.596357Z",
     "iopub.status.busy": "2020-12-31T08:28:07.595610Z",
     "iopub.status.idle": "2020-12-31T08:28:10.344453Z",
     "shell.execute_reply": "2020-12-31T08:28:10.343864Z"
    },
    "papermill": {
     "duration": 2.808064,
     "end_time": "2020-12-31T08:28:10.344583",
     "exception": false,
     "start_time": "2020-12-31T08:28:07.536519",
     "status": "completed"
    },
    "tags": []
   },
   "outputs": [
    {
     "name": "stdout",
     "output_type": "stream",
     "text": [
      "CPU times: user 1.74 s, sys: 253 ms, total: 2 s\n",
      "Wall time: 2.74 s\n"
     ]
    }
   ],
   "source": [
    "%%time\n",
    "timestamp_lag1_dict = dill.load(open('../input/riiid-dicts/timestamp_lag1_dict_file', 'rb'))\n",
    "timestamp_window_dict = dill.load(open('../input/riiid-dicts/timestamp_window_dict_file', 'rb'))"
   ]
  },
  {
   "cell_type": "markdown",
   "metadata": {
    "papermill": {
     "duration": 0.052526,
     "end_time": "2020-12-31T08:28:10.450400",
     "exception": false,
     "start_time": "2020-12-31T08:28:10.397874",
     "status": "completed"
    },
    "tags": []
   },
   "source": [
    "### Basic features"
   ]
  },
  {
   "cell_type": "code",
   "execution_count": 39,
   "metadata": {
    "execution": {
     "iopub.execute_input": "2020-12-31T08:28:10.561880Z",
     "iopub.status.busy": "2020-12-31T08:28:10.561134Z",
     "iopub.status.idle": "2020-12-31T08:28:10.565368Z",
     "shell.execute_reply": "2020-12-31T08:28:10.566015Z"
    },
    "papermill": {
     "duration": 0.062626,
     "end_time": "2020-12-31T08:28:10.566170",
     "exception": false,
     "start_time": "2020-12-31T08:28:10.503544",
     "status": "completed"
    },
    "tags": []
   },
   "outputs": [],
   "source": [
    "prior_question_elapsed_time_mean_Linh = 25439.41"
   ]
  },
  {
   "cell_type": "code",
   "execution_count": 40,
   "metadata": {
    "execution": {
     "iopub.execute_input": "2020-12-31T08:28:10.676365Z",
     "iopub.status.busy": "2020-12-31T08:28:10.675328Z",
     "iopub.status.idle": "2020-12-31T08:28:10.695891Z",
     "shell.execute_reply": "2020-12-31T08:28:10.696410Z"
    },
    "papermill": {
     "duration": 0.077557,
     "end_time": "2020-12-31T08:28:10.696569",
     "exception": false,
     "start_time": "2020-12-31T08:28:10.619012",
     "status": "completed"
    },
    "tags": []
   },
   "outputs": [],
   "source": [
    "content_part_dict = dill.load(open('../input/riiid-dicts/content_part_dict_file', 'rb'))"
   ]
  },
  {
   "cell_type": "code",
   "execution_count": 41,
   "metadata": {
    "execution": {
     "iopub.execute_input": "2020-12-31T08:28:10.807434Z",
     "iopub.status.busy": "2020-12-31T08:28:10.806771Z",
     "iopub.status.idle": "2020-12-31T08:28:10.829649Z",
     "shell.execute_reply": "2020-12-31T08:28:10.829031Z"
    },
    "papermill": {
     "duration": 0.080345,
     "end_time": "2020-12-31T08:28:10.829791",
     "exception": false,
     "start_time": "2020-12-31T08:28:10.749446",
     "status": "completed"
    },
    "tags": []
   },
   "outputs": [],
   "source": [
    "lecture_part_dict = dill.load(open('../input/riiid-dicts/lecture_part_dict_file', 'rb'))\n",
    "lecture_type_dict = dill.load(open('../input/riiid-dicts/lecture_type_dict_file', 'rb'))"
   ]
  },
  {
   "cell_type": "markdown",
   "metadata": {
    "papermill": {
     "duration": 0.052558,
     "end_time": "2020-12-31T08:28:10.936460",
     "exception": false,
     "start_time": "2020-12-31T08:28:10.883902",
     "status": "completed"
    },
    "tags": []
   },
   "source": [
    "### General stats features"
   ]
  },
  {
   "cell_type": "code",
   "execution_count": 42,
   "metadata": {
    "execution": {
     "iopub.execute_input": "2020-12-31T08:28:11.049721Z",
     "iopub.status.busy": "2020-12-31T08:28:11.048924Z",
     "iopub.status.idle": "2020-12-31T08:28:11.193293Z",
     "shell.execute_reply": "2020-12-31T08:28:11.192655Z"
    },
    "papermill": {
     "duration": 0.20411,
     "end_time": "2020-12-31T08:28:11.193428",
     "exception": false,
     "start_time": "2020-12-31T08:28:10.989318",
     "status": "completed"
    },
    "tags": []
   },
   "outputs": [
    {
     "name": "stdout",
     "output_type": "stream",
     "text": [
      "CPU times: user 10.7 ms, sys: 3.07 ms, total: 13.8 ms\n",
      "Wall time: 137 ms\n"
     ]
    }
   ],
   "source": [
    "%%time\n",
    "questions_df_Linh = pd.read_pickle('../input/riiid-basic-general-stats-features/questions_df.pkl')\n",
    "content_df = pd.read_pickle('../input/riiid-basic-general-stats-features/content_df.pkl')\n",
    "content_part_df = pd.read_pickle('../input/riiid-basic-general-stats-features/content_part_df.pkl')\n",
    "content_bundle_bins_df = pd.read_pickle('../input/riiid-basic-general-stats-features/content_bundle_bins_df.pkl')\n",
    "content_tags1_df = pd.read_pickle('../input/riiid-basic-general-stats-features/content_tags1_df.pkl')\n",
    "content_prior_explanation_df = pd.read_pickle('../input/riiid-basic-general-stats-features/content_prior_explanation_df.pkl')\n",
    "content_elapsed_time_df = pd.read_pickle('../input/riiid-basic-general-stats-features/content_elapsed_time_df.pkl')"
   ]
  },
  {
   "cell_type": "code",
   "execution_count": 43,
   "metadata": {
    "execution": {
     "iopub.execute_input": "2020-12-31T08:28:11.313428Z",
     "iopub.status.busy": "2020-12-31T08:28:11.312713Z",
     "iopub.status.idle": "2020-12-31T08:28:11.339411Z",
     "shell.execute_reply": "2020-12-31T08:28:11.338643Z"
    },
    "papermill": {
     "duration": 0.092445,
     "end_time": "2020-12-31T08:28:11.339535",
     "exception": false,
     "start_time": "2020-12-31T08:28:11.247090",
     "status": "completed"
    },
    "tags": []
   },
   "outputs": [
    {
     "data": {
      "text/html": [
       "<div>\n",
       "<style scoped>\n",
       "    .dataframe tbody tr th:only-of-type {\n",
       "        vertical-align: middle;\n",
       "    }\n",
       "\n",
       "    .dataframe tbody tr th {\n",
       "        vertical-align: top;\n",
       "    }\n",
       "\n",
       "    .dataframe thead th {\n",
       "        text-align: right;\n",
       "    }\n",
       "</style>\n",
       "<table border=\"1\" class=\"dataframe\">\n",
       "  <thead>\n",
       "    <tr style=\"text-align: right;\">\n",
       "      <th></th>\n",
       "      <th>bundle_id</th>\n",
       "      <th>part</th>\n",
       "      <th>tags_number</th>\n",
       "      <th>tags1</th>\n",
       "      <th>tags2</th>\n",
       "      <th>tags3</th>\n",
       "      <th>tags4</th>\n",
       "      <th>community</th>\n",
       "    </tr>\n",
       "    <tr>\n",
       "      <th>content_id</th>\n",
       "      <th></th>\n",
       "      <th></th>\n",
       "      <th></th>\n",
       "      <th></th>\n",
       "      <th></th>\n",
       "      <th></th>\n",
       "      <th></th>\n",
       "      <th></th>\n",
       "    </tr>\n",
       "  </thead>\n",
       "  <tbody>\n",
       "    <tr>\n",
       "      <th>0</th>\n",
       "      <td>0</td>\n",
       "      <td>1</td>\n",
       "      <td>4</td>\n",
       "      <td>51</td>\n",
       "      <td>131</td>\n",
       "      <td>162</td>\n",
       "      <td>38</td>\n",
       "      <td>2</td>\n",
       "    </tr>\n",
       "    <tr>\n",
       "      <th>1</th>\n",
       "      <td>1</td>\n",
       "      <td>1</td>\n",
       "      <td>3</td>\n",
       "      <td>131</td>\n",
       "      <td>36</td>\n",
       "      <td>81</td>\n",
       "      <td>0</td>\n",
       "      <td>2</td>\n",
       "    </tr>\n",
       "    <tr>\n",
       "      <th>2</th>\n",
       "      <td>2</td>\n",
       "      <td>1</td>\n",
       "      <td>4</td>\n",
       "      <td>131</td>\n",
       "      <td>101</td>\n",
       "      <td>162</td>\n",
       "      <td>92</td>\n",
       "      <td>2</td>\n",
       "    </tr>\n",
       "    <tr>\n",
       "      <th>3</th>\n",
       "      <td>3</td>\n",
       "      <td>1</td>\n",
       "      <td>4</td>\n",
       "      <td>131</td>\n",
       "      <td>149</td>\n",
       "      <td>162</td>\n",
       "      <td>29</td>\n",
       "      <td>2</td>\n",
       "    </tr>\n",
       "    <tr>\n",
       "      <th>4</th>\n",
       "      <td>4</td>\n",
       "      <td>1</td>\n",
       "      <td>4</td>\n",
       "      <td>131</td>\n",
       "      <td>5</td>\n",
       "      <td>162</td>\n",
       "      <td>38</td>\n",
       "      <td>2</td>\n",
       "    </tr>\n",
       "    <tr>\n",
       "      <th>...</th>\n",
       "      <td>...</td>\n",
       "      <td>...</td>\n",
       "      <td>...</td>\n",
       "      <td>...</td>\n",
       "      <td>...</td>\n",
       "      <td>...</td>\n",
       "      <td>...</td>\n",
       "      <td>...</td>\n",
       "    </tr>\n",
       "    <tr>\n",
       "      <th>13518</th>\n",
       "      <td>13518</td>\n",
       "      <td>5</td>\n",
       "      <td>1</td>\n",
       "      <td>14</td>\n",
       "      <td>0</td>\n",
       "      <td>0</td>\n",
       "      <td>0</td>\n",
       "      <td>0</td>\n",
       "    </tr>\n",
       "    <tr>\n",
       "      <th>13519</th>\n",
       "      <td>13519</td>\n",
       "      <td>5</td>\n",
       "      <td>1</td>\n",
       "      <td>8</td>\n",
       "      <td>0</td>\n",
       "      <td>0</td>\n",
       "      <td>0</td>\n",
       "      <td>1</td>\n",
       "    </tr>\n",
       "    <tr>\n",
       "      <th>13520</th>\n",
       "      <td>13520</td>\n",
       "      <td>5</td>\n",
       "      <td>1</td>\n",
       "      <td>73</td>\n",
       "      <td>0</td>\n",
       "      <td>0</td>\n",
       "      <td>0</td>\n",
       "      <td>1</td>\n",
       "    </tr>\n",
       "    <tr>\n",
       "      <th>13521</th>\n",
       "      <td>13521</td>\n",
       "      <td>5</td>\n",
       "      <td>1</td>\n",
       "      <td>125</td>\n",
       "      <td>0</td>\n",
       "      <td>0</td>\n",
       "      <td>0</td>\n",
       "      <td>0</td>\n",
       "    </tr>\n",
       "    <tr>\n",
       "      <th>13522</th>\n",
       "      <td>13522</td>\n",
       "      <td>5</td>\n",
       "      <td>1</td>\n",
       "      <td>55</td>\n",
       "      <td>0</td>\n",
       "      <td>0</td>\n",
       "      <td>0</td>\n",
       "      <td>1</td>\n",
       "    </tr>\n",
       "  </tbody>\n",
       "</table>\n",
       "<p>13523 rows × 8 columns</p>\n",
       "</div>"
      ],
      "text/plain": [
       "            bundle_id  part  tags_number  tags1  tags2  tags3  tags4  \\\n",
       "content_id                                                             \n",
       "0                   0     1            4     51    131    162     38   \n",
       "1                   1     1            3    131     36     81      0   \n",
       "2                   2     1            4    131    101    162     92   \n",
       "3                   3     1            4    131    149    162     29   \n",
       "4                   4     1            4    131      5    162     38   \n",
       "...               ...   ...          ...    ...    ...    ...    ...   \n",
       "13518           13518     5            1     14      0      0      0   \n",
       "13519           13519     5            1      8      0      0      0   \n",
       "13520           13520     5            1     73      0      0      0   \n",
       "13521           13521     5            1    125      0      0      0   \n",
       "13522           13522     5            1     55      0      0      0   \n",
       "\n",
       "            community  \n",
       "content_id             \n",
       "0                   2  \n",
       "1                   2  \n",
       "2                   2  \n",
       "3                   2  \n",
       "4                   2  \n",
       "...               ...  \n",
       "13518               0  \n",
       "13519               1  \n",
       "13520               1  \n",
       "13521               0  \n",
       "13522               1  \n",
       "\n",
       "[13523 rows x 8 columns]"
      ]
     },
     "execution_count": 43,
     "metadata": {},
     "output_type": "execute_result"
    }
   ],
   "source": [
    "questions_df_Linh"
   ]
  },
  {
   "cell_type": "code",
   "execution_count": 44,
   "metadata": {
    "execution": {
     "iopub.execute_input": "2020-12-31T08:28:11.452419Z",
     "iopub.status.busy": "2020-12-31T08:28:11.451769Z",
     "iopub.status.idle": "2020-12-31T08:28:11.468015Z",
     "shell.execute_reply": "2020-12-31T08:28:11.467396Z"
    },
    "papermill": {
     "duration": 0.073707,
     "end_time": "2020-12-31T08:28:11.468129",
     "exception": false,
     "start_time": "2020-12-31T08:28:11.394422",
     "status": "completed"
    },
    "tags": []
   },
   "outputs": [
    {
     "data": {
      "text/html": [
       "<div>\n",
       "<style scoped>\n",
       "    .dataframe tbody tr th:only-of-type {\n",
       "        vertical-align: middle;\n",
       "    }\n",
       "\n",
       "    .dataframe tbody tr th {\n",
       "        vertical-align: top;\n",
       "    }\n",
       "\n",
       "    .dataframe thead th {\n",
       "        text-align: right;\n",
       "    }\n",
       "</style>\n",
       "<table border=\"1\" class=\"dataframe\">\n",
       "  <thead>\n",
       "    <tr style=\"text-align: right;\">\n",
       "      <th></th>\n",
       "      <th>answered_correctly_content_tags1_mean</th>\n",
       "      <th>answered_correctly_content_tags1_std</th>\n",
       "    </tr>\n",
       "    <tr>\n",
       "      <th>tags1</th>\n",
       "      <th></th>\n",
       "      <th></th>\n",
       "    </tr>\n",
       "  </thead>\n",
       "  <tbody>\n",
       "    <tr>\n",
       "      <th>0</th>\n",
       "      <td>1.000000</td>\n",
       "      <td>NaN</td>\n",
       "    </tr>\n",
       "    <tr>\n",
       "      <th>1</th>\n",
       "      <td>0.608464</td>\n",
       "      <td>0.488094</td>\n",
       "    </tr>\n",
       "    <tr>\n",
       "      <th>2</th>\n",
       "      <td>0.690732</td>\n",
       "      <td>0.462192</td>\n",
       "    </tr>\n",
       "    <tr>\n",
       "      <th>4</th>\n",
       "      <td>0.641899</td>\n",
       "      <td>0.479442</td>\n",
       "    </tr>\n",
       "    <tr>\n",
       "      <th>7</th>\n",
       "      <td>0.623096</td>\n",
       "      <td>0.484611</td>\n",
       "    </tr>\n",
       "    <tr>\n",
       "      <th>...</th>\n",
       "      <td>...</td>\n",
       "      <td>...</td>\n",
       "    </tr>\n",
       "    <tr>\n",
       "      <th>179</th>\n",
       "      <td>0.640975</td>\n",
       "      <td>0.479715</td>\n",
       "    </tr>\n",
       "    <tr>\n",
       "      <th>180</th>\n",
       "      <td>0.661048</td>\n",
       "      <td>0.473354</td>\n",
       "    </tr>\n",
       "    <tr>\n",
       "      <th>181</th>\n",
       "      <td>0.630708</td>\n",
       "      <td>0.482613</td>\n",
       "    </tr>\n",
       "    <tr>\n",
       "      <th>182</th>\n",
       "      <td>0.697525</td>\n",
       "      <td>0.459331</td>\n",
       "    </tr>\n",
       "    <tr>\n",
       "      <th>184</th>\n",
       "      <td>0.606861</td>\n",
       "      <td>0.488454</td>\n",
       "    </tr>\n",
       "  </tbody>\n",
       "</table>\n",
       "<p>118 rows × 2 columns</p>\n",
       "</div>"
      ],
      "text/plain": [
       "       answered_correctly_content_tags1_mean  \\\n",
       "tags1                                          \n",
       "0                                   1.000000   \n",
       "1                                   0.608464   \n",
       "2                                   0.690732   \n",
       "4                                   0.641899   \n",
       "7                                   0.623096   \n",
       "...                                      ...   \n",
       "179                                 0.640975   \n",
       "180                                 0.661048   \n",
       "181                                 0.630708   \n",
       "182                                 0.697525   \n",
       "184                                 0.606861   \n",
       "\n",
       "       answered_correctly_content_tags1_std  \n",
       "tags1                                        \n",
       "0                                       NaN  \n",
       "1                                  0.488094  \n",
       "2                                  0.462192  \n",
       "4                                  0.479442  \n",
       "7                                  0.484611  \n",
       "...                                     ...  \n",
       "179                                0.479715  \n",
       "180                                0.473354  \n",
       "181                                0.482613  \n",
       "182                                0.459331  \n",
       "184                                0.488454  \n",
       "\n",
       "[118 rows x 2 columns]"
      ]
     },
     "execution_count": 44,
     "metadata": {},
     "output_type": "execute_result"
    }
   ],
   "source": [
    "content_tags1_df"
   ]
  },
  {
   "cell_type": "markdown",
   "metadata": {
    "papermill": {
     "duration": 0.056642,
     "end_time": "2020-12-31T08:28:11.581600",
     "exception": false,
     "start_time": "2020-12-31T08:28:11.524958",
     "status": "completed"
    },
    "tags": []
   },
   "source": [
    "### Loop features"
   ]
  },
  {
   "cell_type": "code",
   "execution_count": 45,
   "metadata": {
    "execution": {
     "iopub.execute_input": "2020-12-31T08:28:11.778832Z",
     "iopub.status.busy": "2020-12-31T08:28:11.731399Z",
     "iopub.status.idle": "2020-12-31T08:28:11.798422Z",
     "shell.execute_reply": "2020-12-31T08:28:11.799164Z"
    },
    "papermill": {
     "duration": 0.161253,
     "end_time": "2020-12-31T08:28:11.799329",
     "exception": false,
     "start_time": "2020-12-31T08:28:11.638076",
     "status": "completed"
    },
    "tags": []
   },
   "outputs": [],
   "source": [
    "def add_user_features_without_update(df):\n",
    "    answered_user_count_arr = np.zeros(len(df), dtype=np.int32)\n",
    "    answered_correctly_user_sum_arr = np.zeros(len(df), dtype=np.int32)\n",
    "    answered_correctly_user_mean_arr = np.zeros(len(df), dtype=np.float32)\n",
    "\n",
    "    lag1_arr = np.zeros(len(df), dtype=np.int8)\n",
    "    lag2_arr = np.zeros(len(df), dtype=np.int8)\n",
    "    lag3_arr = np.zeros(len(df), dtype=np.int8)\n",
    "    lag4_arr = np.zeros(len(df), dtype=np.int8)\n",
    "    lag5_arr = np.zeros(len(df), dtype=np.int8)\n",
    "    rolling5_mean_arr = np.zeros(len(df), dtype=np.float32)\n",
    "    rolling5_std_arr = np.zeros(len(df), dtype=np.float32)\n",
    "    rolling15_mean_arr = np.zeros(len(df), dtype=np.float32)\n",
    "    rolling15_std_arr = np.zeros(len(df), dtype=np.float32)\n",
    "    rolling30_mean_arr = np.zeros(len(df), dtype=np.float32)\n",
    "    rolling30_std_arr = np.zeros(len(df), dtype=np.float32)\n",
    "    wrong_answered_user_count_arr = np.zeros(len(df), dtype=np.int8)\n",
    "\n",
    "    answered_user_part1_count_arr = np.zeros(len(df), dtype=np.int16)\n",
    "    answered_user_part2_count_arr = np.zeros(len(df), dtype=np.int16)\n",
    "    answered_user_part3_count_arr = np.zeros(len(df), dtype=np.int16)\n",
    "    answered_user_part4_count_arr = np.zeros(len(df), dtype=np.int16)\n",
    "    answered_user_part5_count_arr = np.zeros(len(df), dtype=np.int16)\n",
    "    answered_user_part6_count_arr = np.zeros(len(df), dtype=np.int16)\n",
    "    answered_user_part7_count_arr = np.zeros(len(df), dtype=np.int16)\n",
    "    answered_correctly_user_part1_sum_arr = np.zeros(len(df), dtype=np.int16)\n",
    "    answered_correctly_user_part2_sum_arr = np.zeros(len(df), dtype=np.int16)\n",
    "    answered_correctly_user_part3_sum_arr = np.zeros(len(df), dtype=np.int16)\n",
    "    answered_correctly_user_part4_sum_arr = np.zeros(len(df), dtype=np.int16)\n",
    "    answered_correctly_user_part5_sum_arr = np.zeros(len(df), dtype=np.int16)\n",
    "    answered_correctly_user_part6_sum_arr = np.zeros(len(df), dtype=np.int16)\n",
    "    answered_correctly_user_part7_sum_arr = np.zeros(len(df), dtype=np.int16)\n",
    "    answered_correctly_user_part_mean_arr = np.zeros(len(df), dtype=np.float32)\n",
    "\n",
    "    bundle_user_count_arr = np.zeros(len(df), dtype=np.int32)\n",
    "    bundle_user_count_bins_arr = np.zeros(len(df), dtype=np.int8)\n",
    "    \n",
    "    attempts_arr = np.zeros(len(df), dtype=np.int8)\n",
    "\n",
    "    lecture_user_count_arr = np.zeros(len(df), dtype=np.int16)\n",
    "\n",
    "    lecture_user_part1_count_arr = np.zeros(len(df), dtype=np.int8)\n",
    "    lecture_user_part2_count_arr = np.zeros(len(df), dtype=np.int8)\n",
    "    lecture_user_part3_count_arr = np.zeros(len(df), dtype=np.int8)\n",
    "    lecture_user_part4_count_arr = np.zeros(len(df), dtype=np.int8)\n",
    "    lecture_user_part5_count_arr = np.zeros(len(df), dtype=np.int8)\n",
    "    lecture_user_part6_count_arr = np.zeros(len(df), dtype=np.int8)\n",
    "    lecture_user_part7_count_arr = np.zeros(len(df), dtype=np.int8)\n",
    "\n",
    "    lecture_user_concept_count_arr = np.zeros(len(df), dtype=np.int8)\n",
    "    lecture_user_solving_question_count_arr = np.zeros(len(df), dtype=np.int8)\n",
    "    lecture_user_intention_count_arr = np.zeros(len(df), dtype=np.int8)\n",
    "    lecture_user_starter_count_arr = np.zeros(len(df), dtype=np.int8)\n",
    "\n",
    "    prior_elapsed_time_sum_arr = np.zeros(len(df), dtype=np.float32)\n",
    "    prior_elapsed_time_diff_arr = np.zeros(len(df), dtype=np.float32)\n",
    "\n",
    "    df['prior_question_had_explanation'] = df['prior_question_had_explanation'].fillna(False).astype(np.int8)\n",
    "    prior_explanation_sum_arr = np.zeros(len(df), dtype=np.int32)\n",
    "\n",
    "    task_count_arr = np.zeros(len(df), dtype=np.int32)\n",
    "    task_content_number_arr = np.zeros(len(df), dtype=np.int8)\n",
    "\n",
    "    timestamp_lag1_arr = np.zeros(len(df), dtype=np.float32)\n",
    "    timestamp_lag2_arr = np.zeros(len(df), dtype=np.float32)\n",
    "    timestamp_lag3_arr = np.zeros(len(df), dtype=np.float32)\n",
    "    timestamp_lag4_arr = np.zeros(len(df), dtype=np.float32)\n",
    "    timestamp_lag5_arr = np.zeros(len(df), dtype=np.float32)\n",
    "    timestamp_diff_arr = np.zeros(len(df), dtype=np.float32)\n",
    "    timestamp_diff2_arr = np.zeros(len(df), dtype=np.float32)\n",
    "    timestamp_diff3_arr = np.zeros(len(df), dtype=np.float32)\n",
    "    timestamp_diff4_arr = np.zeros(len(df), dtype=np.float32)\n",
    "    timestamp_diff5_arr = np.zeros(len(df), dtype=np.float32)\n",
    "\n",
    "    for idx, (timestamp, user_id, content_id, content_type_id, task_container_id, prior_question_elapsed_time) in enumerate(df[['timestamp', 'user_id', 'content_id', 'content_type_id', 'task_container_id', 'prior_question_elapsed_time']].values):\n",
    "        # add feature\n",
    "        lecture_user_count_arr[idx] = lecture_user_count_dict[user_id]\n",
    "\n",
    "        # add feature\n",
    "        lecture_user_part1_count_arr[idx] = lecture_user_part_count_dict[user_id][1]\n",
    "        lecture_user_part2_count_arr[idx] = lecture_user_part_count_dict[user_id][2]\n",
    "        lecture_user_part3_count_arr[idx] = lecture_user_part_count_dict[user_id][3]\n",
    "        lecture_user_part4_count_arr[idx] = lecture_user_part_count_dict[user_id][4]\n",
    "        lecture_user_part5_count_arr[idx] = lecture_user_part_count_dict[user_id][5]\n",
    "        lecture_user_part6_count_arr[idx] = lecture_user_part_count_dict[user_id][6]\n",
    "        lecture_user_part7_count_arr[idx] = lecture_user_part_count_dict[user_id][7]\n",
    "\n",
    "        # add feature\n",
    "        lecture_user_concept_count_arr[idx] = lecture_user_type_count_dict[user_id]['concept']\n",
    "        lecture_user_solving_question_count_arr[idx] = lecture_user_type_count_dict[user_id]['solving_question']\n",
    "        lecture_user_intention_count_arr[idx] = lecture_user_type_count_dict[user_id]['intention']\n",
    "        lecture_user_starter_count_arr[idx] = lecture_user_type_count_dict[user_id]['starter']\n",
    "        \n",
    "        if content_type_id == 0:\n",
    "            # add feature\n",
    "            answered_user_count_arr[idx] = answered_user_count_dict[user_id]\n",
    "            answered_correctly_user_sum_arr[idx] = answered_correctly_user_sum_dict[user_id]\n",
    "            if answered_user_count_arr[idx] != 0:\n",
    "                answered_correctly_user_mean_arr[idx] = answered_correctly_user_sum_arr[idx] / answered_user_count_arr[idx]\n",
    "\n",
    "            # add feature\n",
    "            lag1_arr[idx] = lag1_dict[user_id]\n",
    "            window_id = np.append(window_dict[user_id], lag1_dict[user_id])\n",
    "            window_id = window_id[-30:]\n",
    "            if len(window_id) >= 2:\n",
    "                lag2_arr[idx] = window_id[-2]\n",
    "            if len(window_id) >= 3:\n",
    "                lag3_arr[idx] = window_id[-3]\n",
    "            if len(window_id) >= 4:\n",
    "                lag4_arr[idx] = window_id[-4]\n",
    "            if len(window_id) >= 5:\n",
    "                lag5_arr[idx] = window_id[-5]\n",
    "            rolling5_mean_arr[idx] = np.mean(window_id[-5:])\n",
    "            rolling5_std_arr[idx] = np.std(window_id[-5:])\n",
    "            rolling15_mean_arr[idx] = np.mean(window_id[-15:])\n",
    "            rolling15_std_arr[idx] = np.std(window_id[-15:])\n",
    "            rolling30_mean_arr[idx] = np.mean(window_id[-30:])\n",
    "            rolling30_std_arr[idx] = np.std(window_id[-30:])\n",
    "            \n",
    "            if lag1_dict[user_id] == 0:\n",
    "                # add feature\n",
    "                wrong_answered_user_count_arr[idx] = wrong_answered_user_count_dict[user_id]\n",
    "            else:\n",
    "                pass\n",
    "\n",
    "            part_id = content_part_dict[content_id]\n",
    "            # add feature\n",
    "            answered_user_part1_count_arr[idx] = answered_user_part_count_dict[user_id][1]\n",
    "            answered_user_part2_count_arr[idx] = answered_user_part_count_dict[user_id][2]\n",
    "            answered_user_part3_count_arr[idx] = answered_user_part_count_dict[user_id][3]\n",
    "            answered_user_part4_count_arr[idx] = answered_user_part_count_dict[user_id][4]\n",
    "            answered_user_part5_count_arr[idx] = answered_user_part_count_dict[user_id][5]\n",
    "            answered_user_part6_count_arr[idx] = answered_user_part_count_dict[user_id][6]\n",
    "            answered_user_part7_count_arr[idx] = answered_user_part_count_dict[user_id][7]\n",
    "            answered_correctly_user_part1_sum_arr[idx] = answered_correctly_user_part_sum_dict[user_id][1]\n",
    "            answered_correctly_user_part2_sum_arr[idx] = answered_correctly_user_part_sum_dict[user_id][2]\n",
    "            answered_correctly_user_part3_sum_arr[idx] = answered_correctly_user_part_sum_dict[user_id][3]\n",
    "            answered_correctly_user_part4_sum_arr[idx] = answered_correctly_user_part_sum_dict[user_id][4]\n",
    "            answered_correctly_user_part5_sum_arr[idx] = answered_correctly_user_part_sum_dict[user_id][5]\n",
    "            answered_correctly_user_part6_sum_arr[idx] = answered_correctly_user_part_sum_dict[user_id][6]\n",
    "            answered_correctly_user_part7_sum_arr[idx] = answered_correctly_user_part_sum_dict[user_id][7]\n",
    "            if answered_user_part_count_dict[user_id][part_id] != 0:\n",
    "                answered_correctly_user_part_mean_arr[idx] = answered_correctly_user_part_sum_dict[user_id][part_id] / answered_user_part_count_dict[user_id][part_id]\n",
    "            \n",
    "            # add feature\n",
    "            bundle_user_count_arr[idx] = bundle_user_count_dict[user_id]\n",
    "            if bundle_user_count_arr[idx] > 30 and bundle_user_count_arr[idx] <= 125:\n",
    "                bundle_user_count_bins_arr[idx] = 1\n",
    "            if bundle_user_count_arr[idx] > 125 and bundle_user_count_arr[idx] <= 487:\n",
    "                bundle_user_count_bins_arr[idx] = 2\n",
    "            if bundle_user_count_arr[idx] > 487 and bundle_user_count_arr[idx] <= 1451:\n",
    "                bundle_user_count_bins_arr[idx] = 3\n",
    "            if bundle_user_count_arr[idx] > 1451:\n",
    "                bundle_user_count_bins_arr[idx] = 4\n",
    "            \n",
    "            # add feature\n",
    "            attempts_arr[idx] = attempts_dict[user_id][content_id]\n",
    "\n",
    "            if prior_question_elapsed_time != prior_question_elapsed_time: # check nan\n",
    "                # add feature\n",
    "                prior_elapsed_time_sum_arr[idx] = prior_elapsed_time_sum_dict[user_id]\n",
    "                prior_elapsed_time_diff_arr[idx] = prior_elapsed_time_dict[user_id]\n",
    "            else:\n",
    "                # add feature\n",
    "                prior_elapsed_time_sum_arr[idx] = prior_question_elapsed_time/(1000*60) + prior_elapsed_time_sum_dict[user_id]\n",
    "                prior_elapsed_time_diff_arr[idx] = prior_question_elapsed_time/(1000*60) - prior_elapsed_time_dict[user_id]\n",
    "            \n",
    "            # add feature\n",
    "            prior_explanation_sum_arr[idx] = prior_explanation_sum_dict[user_id]\n",
    "        else:\n",
    "            pass\n",
    "\n",
    "        if task_container_id == task_dict[user_id]:\n",
    "            if task_count_arr_dict[user_id] > 0:\n",
    "                # add feature\n",
    "                task_count_arr[idx] = task_count_arr_dict[user_id] - 1\n",
    "                task_content_number_arr[idx] = task_content_number_dict[user_id] + 1\n",
    "        else:\n",
    "            # add feature\n",
    "            task_count_arr[idx] = task_count_arr_dict[user_id]\n",
    "            task_content_number_arr[idx] = 1\n",
    "            \n",
    "        # add feature\n",
    "        timestamp_lag1_arr[idx] = timestamp_lag1_dict[user_id]\n",
    "        timestamp_window_id = np.append(timestamp_window_dict[user_id], timestamp_lag1_dict[user_id])\n",
    "        timestamp_window_id = timestamp_window_id[-5:]\n",
    "        \n",
    "        if len(timestamp_window_id) > 1:\n",
    "            timestamp_diff_arr[idx] = timestamp/(1000*60) - timestamp_lag1_arr[idx]\n",
    "        if len(timestamp_window_id) > 2:\n",
    "            timestamp_lag2_arr[idx] = timestamp_window_id[-2]\n",
    "            timestamp_diff2_arr[idx] = timestamp/(1000*60) - timestamp_lag2_arr[idx]\n",
    "        if len(timestamp_window_id) > 3:\n",
    "            timestamp_lag3_arr[idx] = timestamp_window_id[-3]\n",
    "            timestamp_diff3_arr[idx] = timestamp/(1000*60) - timestamp_lag3_arr[idx]\n",
    "        if len(timestamp_window_id) > 4:\n",
    "            timestamp_lag4_arr[idx] = timestamp_window_id[-4]\n",
    "            timestamp_diff4_arr[idx] = timestamp/(1000*60) - timestamp_lag4_arr[idx]\n",
    "            if timestamp_window_id[-5] != 0:\n",
    "                timestamp_lag5_arr[idx] = timestamp_window_id[-5]\n",
    "                timestamp_diff5_arr[idx] = timestamp/(1000*60) - timestamp_lag5_arr[idx]\n",
    "\n",
    "    user_feats_df = pd.DataFrame({\n",
    "        'answered_user_count': answered_user_count_arr,\n",
    "        'answered_correctly_user_sum': answered_correctly_user_sum_arr,\n",
    "        'answered_correctly_user_mean': answered_correctly_user_mean_arr,\n",
    "\n",
    "        'lag1': lag1_arr,\n",
    "        'lag2': lag2_arr,\n",
    "        'lag3': lag3_arr,\n",
    "        'lag4': lag4_arr,\n",
    "        'lag5': lag5_arr,\n",
    "        'rolling5_mean': rolling5_mean_arr,\n",
    "        'rolling5_std': rolling5_std_arr,\n",
    "        'rolling15_mean': rolling15_mean_arr,\n",
    "        'rolling15_std': rolling15_std_arr,\n",
    "        'rolling30_mean': rolling30_mean_arr,\n",
    "        'rolling30_std': rolling30_std_arr,\n",
    "        'wrong_answered_user_count': wrong_answered_user_count_arr,\n",
    "\n",
    "        'answered_user_part1_count': answered_user_part1_count_arr,\n",
    "        'answered_user_part2_count': answered_user_part2_count_arr,\n",
    "        'answered_user_part3_count': answered_user_part3_count_arr,\n",
    "        'answered_user_part4_count': answered_user_part4_count_arr,\n",
    "        'answered_user_part5_count': answered_user_part5_count_arr,\n",
    "        'answered_user_part6_count': answered_user_part6_count_arr,\n",
    "        'answered_user_part7_count': answered_user_part7_count_arr,\n",
    "        'answered_correctly_user_part1_sum': answered_correctly_user_part1_sum_arr,\n",
    "        'answered_correctly_user_part2_sum': answered_correctly_user_part2_sum_arr,\n",
    "        'answered_correctly_user_part3_sum': answered_correctly_user_part3_sum_arr,\n",
    "        'answered_correctly_user_part4_sum': answered_correctly_user_part4_sum_arr,\n",
    "        'answered_correctly_user_part5_sum': answered_correctly_user_part5_sum_arr,\n",
    "        'answered_correctly_user_part6_sum': answered_correctly_user_part6_sum_arr,\n",
    "        'answered_correctly_user_part7_sum': answered_correctly_user_part7_sum_arr,\n",
    "        'answered_correctly_user_part_mean': answered_correctly_user_part_mean_arr,\n",
    "\n",
    "        # 'bundle_user_count': bundle_user_count_arr,\n",
    "        'bundle_user_count_bins': bundle_user_count_bins_arr,\n",
    "\n",
    "        'attempts': attempts_arr,\n",
    "\n",
    "        'lecture_user_count': lecture_user_count_arr,\n",
    "\n",
    "        'lecture_user_part1_count': lecture_user_part1_count_arr,\n",
    "        'lecture_user_part2_count': lecture_user_part2_count_arr,\n",
    "        'lecture_user_part3_count': lecture_user_part3_count_arr,\n",
    "        'lecture_user_part4_count': lecture_user_part4_count_arr,\n",
    "        'lecture_user_part5_count': lecture_user_part5_count_arr,\n",
    "        'lecture_user_part6_count': lecture_user_part6_count_arr,\n",
    "        'lecture_user_part7_count': lecture_user_part7_count_arr,\n",
    "\n",
    "        'lecture_user_concept_count': lecture_user_concept_count_arr,\n",
    "        'lecture_user_solving_question_count': lecture_user_solving_question_count_arr,\n",
    "        'lecture_user_intention_count': lecture_user_intention_count_arr,\n",
    "        # 'lecture_user_starter_count': lecture_user_starter_count_arr,\n",
    "\n",
    "        'prior_elapsed_time_sum': prior_elapsed_time_sum_arr,\n",
    "        'prior_elapsed_time_diff': prior_elapsed_time_diff_arr,\n",
    "\n",
    "        'prior_explanation_sum': prior_explanation_sum_arr,\n",
    "\n",
    "        'task_count': task_count_arr,\n",
    "        'task_content_number': task_content_number_arr,\n",
    "\n",
    "        'timestamp_lag1': timestamp_lag1_arr,\n",
    "        'timestamp_lag2': timestamp_lag2_arr,\n",
    "        'timestamp_lag3': timestamp_lag3_arr,\n",
    "        'timestamp_lag4': timestamp_lag4_arr,\n",
    "        'timestamp_lag5': timestamp_lag5_arr,\n",
    "        'timestamp_diff': timestamp_diff_arr,\n",
    "        'timestamp_diff2': timestamp_diff2_arr,\n",
    "        'timestamp_diff3': timestamp_diff3_arr,\n",
    "        'timestamp_diff4': timestamp_diff4_arr,\n",
    "        'timestamp_diff5': timestamp_diff5_arr\n",
    "    })\n",
    "\n",
    "    df = df.reset_index(drop=True)\n",
    "    df = pd.concat([df, user_feats_df], axis=1)\n",
    "\n",
    "    return df"
   ]
  },
  {
   "cell_type": "code",
   "execution_count": 46,
   "metadata": {
    "execution": {
     "iopub.execute_input": "2020-12-31T08:28:11.933542Z",
     "iopub.status.busy": "2020-12-31T08:28:11.932729Z",
     "iopub.status.idle": "2020-12-31T08:28:11.936045Z",
     "shell.execute_reply": "2020-12-31T08:28:11.935491Z"
    },
    "papermill": {
     "duration": 0.079577,
     "end_time": "2020-12-31T08:28:11.936169",
     "exception": false,
     "start_time": "2020-12-31T08:28:11.856592",
     "status": "completed"
    },
    "tags": []
   },
   "outputs": [],
   "source": [
    "def update_user_features(df):\n",
    "    df['prior_question_had_explanation'] = df['prior_question_had_explanation'].fillna(False).astype(np.int8)\n",
    "    \n",
    "    for (timestamp, user_id, content_id, content_type_id, answered_correctly, task_container_id, prior_question_elapsed_time, prior_question_had_explanation) in df[['timestamp', 'user_id', 'content_id', 'content_type_id', 'answered_correctly', 'task_container_id', 'prior_question_elapsed_time', 'prior_question_had_explanation']].values:\n",
    "        if content_type_id == 0:\n",
    "            if lag1_dict[user_id] == 0:\n",
    "                # update dict\n",
    "                wrong_answered_user_count_dict[user_id] += 1\n",
    "            else:\n",
    "                # update dict\n",
    "                wrong_answered_user_count_dict[user_id] = 1\n",
    "            \n",
    "            window_id = np.append(window_dict[user_id], lag1_dict[user_id])\n",
    "            window_id = window_id[-30:]\n",
    "            # update dict\n",
    "            window_dict[user_id] = window_id\n",
    "\n",
    "            # update dict\n",
    "            lag1_dict[user_id] = answered_correctly\n",
    "            answered_user_count_dict[user_id] += 1\n",
    "            answered_correctly_user_sum_dict[user_id] += answered_correctly\n",
    "\n",
    "            part_id = content_part_dict[content_id]\n",
    "            # update dict\n",
    "            answered_user_part_count_dict[user_id][part_id] += 1\n",
    "            answered_correctly_user_part_sum_dict[user_id][part_id] += answered_correctly\n",
    "\n",
    "            # update dict\n",
    "            bundle_user_count_dict[user_id] += 1\n",
    "            \n",
    "            # update dict\n",
    "            attempts_dict[user_id][content_id] += 1\n",
    "\n",
    "            if prior_question_elapsed_time != prior_question_elapsed_time: # check nan\n",
    "                pass\n",
    "            else:\n",
    "                # update dict\n",
    "                prior_elapsed_time_sum_dict[user_id] += prior_question_elapsed_time/(1000*60)\n",
    "                prior_elapsed_time_dict[user_id] = prior_question_elapsed_time/(1000*60)\n",
    "            \n",
    "            # update dict\n",
    "            prior_explanation_sum_dict[user_id] += prior_question_had_explanation\n",
    "        else:\n",
    "            # update dict\n",
    "            lecture_user_count_dict[user_id] += 1\n",
    "\n",
    "            lect_part_id = lecture_part_dict[content_id]\n",
    "            # update dict\n",
    "            lecture_user_part_count_dict[user_id][lect_part_id] += 1\n",
    "\n",
    "            type_id = lecture_type_dict[content_id]\n",
    "            # update dict\n",
    "            lecture_user_type_count_dict[user_id][type_id] += 1\n",
    "        \n",
    "        if task_container_id == task_dict[user_id]:\n",
    "            if task_count_arr_dict[user_id] > 0:\n",
    "                # update dict\n",
    "                task_content_number_dict[user_id] += 1\n",
    "        else:\n",
    "            # update dict\n",
    "            task_count_arr_dict[user_id] += 1\n",
    "            task_content_number_dict[user_id] = 1\n",
    "        # update dict\n",
    "        task_dict[user_id] = task_container_id\n",
    "\n",
    "        timestamp_window_id = np.append(timestamp_window_dict[user_id], timestamp_lag1_dict[user_id])\n",
    "        timestamp_window_id = timestamp_window_id[-5:]\n",
    "        # update dict\n",
    "        timestamp_window_dict[user_id] = timestamp_window_id\n",
    "        timestamp_lag1_dict[user_id] = timestamp/(1000*60)"
   ]
  },
  {
   "cell_type": "code",
   "execution_count": 47,
   "metadata": {
    "execution": {
     "iopub.execute_input": "2020-12-31T08:28:12.090013Z",
     "iopub.status.busy": "2020-12-31T08:28:12.068328Z",
     "iopub.status.idle": "2020-12-31T08:28:12.101122Z",
     "shell.execute_reply": "2020-12-31T08:28:12.101848Z"
    },
    "papermill": {
     "duration": 0.110176,
     "end_time": "2020-12-31T08:28:12.102043",
     "exception": false,
     "start_time": "2020-12-31T08:28:11.991867",
     "status": "completed"
    },
    "tags": []
   },
   "outputs": [],
   "source": [
    "def add_other_features(df):\n",
    "    df = df[df['content_type_id'] == 0].reset_index(drop=True)\n",
    "    \n",
    "    df = pd.concat(\n",
    "        [df, questions_df_Linh.reindex(df['content_id']).reset_index(drop=True)],\n",
    "        axis=1\n",
    "    )\n",
    "    df = pd.concat(\n",
    "        [df, content_df.reindex(df['content_id']).reset_index(drop=True)],\n",
    "        axis=1\n",
    "    )\n",
    "    df = pd.concat(\n",
    "        [df, content_part_df.reindex(df['part']).reset_index(drop=True)],\n",
    "        axis=1\n",
    "    )\n",
    "    df = pd.concat(\n",
    "        [df, content_bundle_bins_df.reindex(df['bundle_user_count_bins']).reset_index(drop=True)],\n",
    "        axis=1\n",
    "    )\n",
    "    df = pd.concat(\n",
    "        [df, content_tags1_df.reindex(df['tags1']).reset_index(drop=True)],\n",
    "        axis=1\n",
    "    )\n",
    "    # df = pd.merge(\n",
    "    #     df,\n",
    "    #     content_tags1_tags2_df,\n",
    "    #     how='left',\n",
    "    #     left_on=['tags1', 'tags2'],\n",
    "    #     right_index=True\n",
    "    # )\n",
    "    df = pd.concat(\n",
    "        [df, content_prior_explanation_df.reindex(df['content_id']).reset_index(drop=True)],\n",
    "        axis=1\n",
    "    )\n",
    "    df = pd.concat(\n",
    "        [df, content_elapsed_time_df.reindex(df['content_id']).reset_index(drop=True)],\n",
    "        axis=1\n",
    "    )\n",
    "    # df = pd.concat(\n",
    "    #     [df, content_community_df.reindex(df['community']).reset_index(drop=True)],\n",
    "    #     axis=1\n",
    "    # )\n",
    "    \n",
    "    df['timestamp_day'] = np.round(df['timestamp']/(1000*60*60*24))\n",
    "    df['timestamp'] = df['timestamp']/(1000*60) \n",
    "    df['prior_question_elapsed_time'].fillna(prior_question_elapsed_time_mean_Linh, inplace=True)\n",
    "    df['prior_question_elapsed_time'] = df['prior_question_elapsed_time']/(1000*60)\n",
    "    df['prior_question_had_explanation'] = df['prior_question_had_explanation'].fillna(False).astype(np.int8)\n",
    "    \n",
    "    df['answered_correctly_user_content_mean_hmean'] = (2 * df['answered_correctly_user_mean'] * df['answered_correctly_content_mean']) / (df['answered_correctly_user_mean'] + df['answered_correctly_content_mean'])\n",
    "    df['answered_correctly_user_std'] = np.sqrt((df['lag1'] - df['answered_correctly_user_mean'])**2)\n",
    "    df['answered_correctly_user_content_std_hmean'] = (2 * df['answered_correctly_user_std'] * df['answered_correctly_content_std']) / (df['answered_correctly_user_std'] + df['answered_correctly_content_std'])\n",
    "    \n",
    "    df['answered_correctly_user_part_mean_hmean'] = (2 * df['answered_correctly_user_part_mean'] * df['answered_correctly_content_part_mean']) / (df['answered_correctly_user_part_mean'] + df['answered_correctly_content_part_mean'])\n",
    "    # df['answered_correctly_user_part_std_hmean'] = (2 * df['answered_correctly_user_part_std'] * df['answered_correctly_content_part_std']) / (df['answered_correctly_user_part_std'] + df['answered_correctly_content_part_std'])\n",
    "    # df['answered_correctly_user_part_mean_hmean2'] = (2 * df['answered_correctly_user_mean'] * df['answered_correctly_content_part_mean']) / (df['answered_correctly_user_mean'] + df['answered_correctly_content_part_mean'])\n",
    "    # df['answered_correctly_user_part_std_hmean2'] = (2 * df['answered_correctly_user_std'] * df['answered_correctly_content_part_std']) / (df['answered_correctly_user_std'] + df['answered_correctly_content_part_std'])\n",
    "    \n",
    "    df['answered_correctly_user_bundle_mean_hmean'] = (2 * df['answered_correctly_user_mean'] * df['answered_correctly_content_bundle_count_mean']) / (df['answered_correctly_user_mean'] + df['answered_correctly_content_bundle_count_mean'])\n",
    "    df['answered_correctly_user_bundle_std_hmean'] = (2 * df['answered_correctly_user_std'] * df['answered_correctly_content_bundle_count_std']) / (df['answered_correctly_user_std'] + df['answered_correctly_content_bundle_count_std'])\n",
    "\n",
    "    df['lecture_user_percent'] = df['lecture_user_count'] / (df['answered_user_count'] + df['lecture_user_count'])\n",
    "    df['lecture_user_percent'].fillna(0, inplace=True)\n",
    "\n",
    "    df['prior_elapsed_time_mean'] = df['prior_elapsed_time_sum'] / df['answered_user_count']\n",
    "    df['prior_elapsed_time_mean'].fillna(0, inplace=True)\n",
    "\n",
    "    df['prior_explanation_mean'] = df['prior_explanation_sum'] / df['answered_user_count']\n",
    "    df['prior_explanation_mean'].fillna(0, inplace=True)\n",
    "\n",
    "    df['answered_correctly_rolling5_content_mean_hmean'] = (2 * df['rolling5_mean'] * df['answered_correctly_content_mean']) / (df['rolling5_mean'] + df['answered_correctly_content_mean'])\n",
    "    df['answered_correctly_rolling5_content_std_hmean'] = (2 * df['rolling5_std'] * df['answered_correctly_content_std']) / (df['rolling5_std'] + df['answered_correctly_content_std'])\n",
    "    df['answered_correctly_rolling15_content_mean_hmean'] = (2 * df['rolling15_mean'] * df['answered_correctly_content_mean']) / (df['rolling15_mean'] + df['answered_correctly_content_mean'])\n",
    "    df['answered_correctly_rolling15_content_std_hmean'] = (2 * df['rolling15_std'] * df['answered_correctly_content_std']) / (df['rolling15_std'] + df['answered_correctly_content_std'])\n",
    "    df['answered_correctly_rolling30_content_mean_hmean'] = (2 * df['rolling30_mean'] * df['answered_correctly_content_mean']) / (df['rolling30_mean'] + df['answered_correctly_content_mean'])\n",
    "    df['answered_correctly_rolling30_content_std_hmean'] = (2 * df['rolling30_std'] * df['answered_correctly_content_std']) / (df['rolling30_std'] + df['answered_correctly_content_std'])\n",
    "    \n",
    "    df['answered_correctly_user_tags1_mean_hmean'] = (2 * df['answered_correctly_user_mean'] * df['answered_correctly_content_tags1_mean']) / (df['answered_correctly_user_mean'] + df['answered_correctly_content_tags1_mean'])\n",
    "    df['answered_correctly_user_tags1_std_hmean'] = (2 * df['answered_correctly_user_std'] * df['answered_correctly_content_tags1_std']) / (df['answered_correctly_user_std'] + df['answered_correctly_content_tags1_std'])\n",
    "    # df['answered_correctly_user_tags1_tags2_mean_hmean'] = (2 * df['answered_correctly_user_mean'] * df['answered_correctly_content_tags1_tags2_mean']) / (df['answered_correctly_user_mean'] + df['answered_correctly_content_tags1_tags2_mean'])\n",
    "    # df['answered_correctly_user_tags1_tags2_std_hmean'] = (2 * df['answered_correctly_user_std'] * df['answered_correctly_content_tags1_tags2_std']) / (df['answered_correctly_user_std'] + df['answered_correctly_content_tags1_tags2_std'])\n",
    "    \n",
    "    df['content_prior_explanation_wrong_mean_diff1'] = df['answered_correctly_user_mean'] - df['content_prior_explanation_wrong_mean']\n",
    "    df['content_prior_explanation_correct_mean_diff1'] = df['answered_correctly_user_mean'] - df['content_prior_explanation_correct_mean']\n",
    "    # df['content_prior_explanation_wrong_mean_diff2'] = df['rolling5_mean'] - df['content_prior_explanation_wrong_mean']\n",
    "    # df['content_prior_explanation_correct_mean_diff2'] = df['rolling5_mean'] - df['content_prior_explanation_correct_mean']\n",
    "    df['content_prior_explanation_wrong_mean_diff3'] = df['rolling30_mean'] - df['content_prior_explanation_wrong_mean']\n",
    "    df['content_prior_explanation_correct_mean_diff3'] = df['rolling30_mean'] - df['content_prior_explanation_correct_mean']\n",
    "    \n",
    "    df['prior_question_elapsed_time_wrong_mean_diff1'] = df['prior_elapsed_time_mean'] - df['prior_question_elapsed_time_wrong_mean']\n",
    "    df['prior_question_elapsed_time_correct_mean_diff1'] = df['prior_elapsed_time_mean'] - df['prior_question_elapsed_time_correct_mean']\n",
    "    df['question_elapsed_time_wrong_mean_diff1'] = df['prior_elapsed_time_mean'] - df['question_elapsed_time_wrong_mean']\n",
    "    df['question_elapsed_time_correct_mean_diff1'] = df['prior_elapsed_time_mean'] - df['question_elapsed_time_correct_mean']\n",
    "    df['prior_question_elapsed_time_wrong_mean_diff2'] = df['timestamp_diff'] - df['prior_question_elapsed_time_wrong_mean']\n",
    "    df['prior_question_elapsed_time_correct_mean_diff2'] = df['timestamp_diff'] - df['prior_question_elapsed_time_correct_mean']\n",
    "    df['question_elapsed_time_wrong_mean_diff2'] = df['timestamp_diff'] - df['question_elapsed_time_wrong_mean']\n",
    "    df['question_elapsed_time_correct_mean_diff2'] = df['timestamp_diff'] - df['question_elapsed_time_correct_mean']\n",
    "    \n",
    "    # df['answered_correctly_user_community_mean_hmean'] = (2 * df['answered_correctly_user_mean'] * df['answered_correctly_content_community_mean']) / (df['answered_correctly_user_mean'] + df['answered_correctly_content_community_mean'])\n",
    "    # df['answered_correctly_user_community_std_hmean'] = (2 * df['answered_correctly_user_std'] * df['answered_correctly_content_community_std']) / (df['answered_correctly_user_std'] + df['answered_correctly_content_community_std'])\n",
    "\n",
    "    return df"
   ]
  },
  {
   "cell_type": "markdown",
   "metadata": {
    "papermill": {
     "duration": 0.059532,
     "end_time": "2020-12-31T08:28:12.220085",
     "exception": false,
     "start_time": "2020-12-31T08:28:12.160553",
     "status": "completed"
    },
    "tags": []
   },
   "source": [
    "## Load model"
   ]
  },
  {
   "cell_type": "code",
   "execution_count": 48,
   "metadata": {
    "execution": {
     "iopub.execute_input": "2020-12-31T08:28:12.347861Z",
     "iopub.status.busy": "2020-12-31T08:28:12.346709Z",
     "iopub.status.idle": "2020-12-31T08:28:12.353517Z",
     "shell.execute_reply": "2020-12-31T08:28:12.352928Z"
    },
    "papermill": {
     "duration": 0.077837,
     "end_time": "2020-12-31T08:28:12.353658",
     "exception": false,
     "start_time": "2020-12-31T08:28:12.275821",
     "status": "completed"
    },
    "tags": []
   },
   "outputs": [],
   "source": [
    "features_Linh = [\n",
    "    'timestamp',\n",
    "     'user_id',\n",
    "     'content_id',\n",
    "     'task_container_id',\n",
    "     'prior_question_elapsed_time',\n",
    "     'prior_question_had_explanation',\n",
    "     'answered_user_count',\n",
    "     'answered_correctly_user_sum',\n",
    "     'answered_correctly_user_mean',\n",
    "     'lag1',\n",
    "     'lag2',\n",
    "     'lag3',\n",
    "     'lag4',\n",
    "     'lag5',\n",
    "     'rolling5_mean',\n",
    "     'rolling5_std',\n",
    "     'rolling15_mean',\n",
    "     'rolling15_std',\n",
    "     'rolling30_mean',\n",
    "     'rolling30_std',\n",
    "     'wrong_answered_user_count',\n",
    "     'answered_user_part1_count',\n",
    "     'answered_user_part2_count',\n",
    "     'answered_user_part3_count',\n",
    "     'answered_user_part4_count',\n",
    "     'answered_user_part5_count',\n",
    "     'answered_user_part6_count',\n",
    "     'answered_user_part7_count',\n",
    "     'answered_correctly_user_part1_sum',\n",
    "     'answered_correctly_user_part2_sum',\n",
    "     'answered_correctly_user_part3_sum',\n",
    "     'answered_correctly_user_part4_sum',\n",
    "     'answered_correctly_user_part5_sum',\n",
    "     'answered_correctly_user_part6_sum',\n",
    "     'answered_correctly_user_part7_sum',\n",
    "     'answered_correctly_user_part_mean',\n",
    "     'bundle_user_count_bins',\n",
    "     'attempts',\n",
    "     'lecture_user_count',\n",
    "     'lecture_user_part1_count',\n",
    "     'lecture_user_part2_count',\n",
    "     'lecture_user_part3_count',\n",
    "     'lecture_user_part4_count',\n",
    "     'lecture_user_part5_count',\n",
    "     'lecture_user_part6_count',\n",
    "     'lecture_user_part7_count',\n",
    "     'lecture_user_concept_count',\n",
    "     'lecture_user_solving_question_count',\n",
    "     'lecture_user_intention_count',\n",
    "     'prior_elapsed_time_sum',\n",
    "     'prior_elapsed_time_diff',\n",
    "     'prior_explanation_sum',\n",
    "     'task_count',\n",
    "     'task_content_number',\n",
    "     'timestamp_lag1',\n",
    "     'timestamp_lag2',\n",
    "     'timestamp_lag3',\n",
    "     'timestamp_lag4',\n",
    "     'timestamp_lag5',\n",
    "     'timestamp_diff',\n",
    "     'timestamp_diff2',\n",
    "     'timestamp_diff3',\n",
    "     'timestamp_diff4',\n",
    "     'timestamp_diff5',\n",
    "     'bundle_id',\n",
    "     'part',\n",
    "     'tags_number',\n",
    "     'tags1',\n",
    "     'tags2',\n",
    "     'tags3',\n",
    "     'tags4',\n",
    "     'community',\n",
    "     'answered_correctly_content_mean',\n",
    "     'answered_correctly_content_std',\n",
    "     'answered_correctly_content_part_mean',\n",
    "     'answered_correctly_content_part_std',\n",
    "     'answered_correctly_content_bundle_count_mean',\n",
    "     'answered_correctly_content_bundle_count_std',\n",
    "     'answered_correctly_content_tags1_mean',\n",
    "     'answered_correctly_content_tags1_std',\n",
    "     'content_prior_explanation_wrong_mean',\n",
    "     'content_prior_explanation_correct_mean',\n",
    "     'prior_question_elapsed_time_wrong_mean',\n",
    "     'prior_question_elapsed_time_correct_mean',\n",
    "     'question_elapsed_time_wrong_mean',\n",
    "     'question_elapsed_time_correct_mean',\n",
    "     'timestamp_day',\n",
    "     'answered_correctly_user_content_mean_hmean',\n",
    "     'answered_correctly_user_std',\n",
    "     'answered_correctly_user_content_std_hmean',\n",
    "     'answered_correctly_user_part_mean_hmean',\n",
    "     'answered_correctly_user_bundle_mean_hmean',\n",
    "     'answered_correctly_user_bundle_std_hmean',\n",
    "     'lecture_user_percent',\n",
    "     'prior_elapsed_time_mean',\n",
    "     'prior_explanation_mean',\n",
    "     'answered_correctly_rolling5_content_mean_hmean',\n",
    "     'answered_correctly_rolling5_content_std_hmean',\n",
    "     'answered_correctly_rolling15_content_mean_hmean',\n",
    "     'answered_correctly_rolling15_content_std_hmean',\n",
    "     'answered_correctly_rolling30_content_mean_hmean',\n",
    "     'answered_correctly_rolling30_content_std_hmean',\n",
    "     'answered_correctly_user_tags1_mean_hmean',\n",
    "     'answered_correctly_user_tags1_std_hmean',\n",
    "     'content_prior_explanation_wrong_mean_diff1',\n",
    "     'content_prior_explanation_correct_mean_diff1',\n",
    "     'content_prior_explanation_wrong_mean_diff3',\n",
    "     'content_prior_explanation_correct_mean_diff3',\n",
    "     'prior_question_elapsed_time_wrong_mean_diff1',\n",
    "     'prior_question_elapsed_time_correct_mean_diff1',\n",
    "     'question_elapsed_time_wrong_mean_diff1',\n",
    "     'question_elapsed_time_correct_mean_diff1',\n",
    "     'prior_question_elapsed_time_wrong_mean_diff2',\n",
    "     'prior_question_elapsed_time_correct_mean_diff2',\n",
    "     'question_elapsed_time_wrong_mean_diff2',\n",
    "     'question_elapsed_time_correct_mean_diff2'\n",
    "]\n",
    "\n",
    "target = 'answered_correctly'"
   ]
  },
  {
   "cell_type": "code",
   "execution_count": 49,
   "metadata": {
    "execution": {
     "iopub.execute_input": "2020-12-31T08:28:12.473635Z",
     "iopub.status.busy": "2020-12-31T08:28:12.472907Z",
     "iopub.status.idle": "2020-12-31T08:28:12.477056Z",
     "shell.execute_reply": "2020-12-31T08:28:12.476371Z"
    },
    "papermill": {
     "duration": 0.06621,
     "end_time": "2020-12-31T08:28:12.477207",
     "exception": false,
     "start_time": "2020-12-31T08:28:12.410997",
     "status": "completed"
    },
    "tags": []
   },
   "outputs": [
    {
     "data": {
      "text/plain": [
       "116"
      ]
     },
     "execution_count": 49,
     "metadata": {},
     "output_type": "execute_result"
    }
   ],
   "source": [
    "len(features_Linh)"
   ]
  },
  {
   "cell_type": "code",
   "execution_count": 50,
   "metadata": {
    "execution": {
     "iopub.execute_input": "2020-12-31T08:28:12.598414Z",
     "iopub.status.busy": "2020-12-31T08:28:12.597755Z",
     "iopub.status.idle": "2020-12-31T08:28:14.995033Z",
     "shell.execute_reply": "2020-12-31T08:28:14.993615Z"
    },
    "papermill": {
     "duration": 2.4581,
     "end_time": "2020-12-31T08:28:14.995179",
     "exception": false,
     "start_time": "2020-12-31T08:28:12.537079",
     "status": "completed"
    },
    "tags": []
   },
   "outputs": [],
   "source": [
    "model_Linh = lgb.Booster(model_file='../input/riiid-models/20201228_model_90M.txt')"
   ]
  },
  {
   "cell_type": "markdown",
   "metadata": {
    "papermill": {
     "duration": 0.056672,
     "end_time": "2020-12-31T08:28:15.108125",
     "exception": false,
     "start_time": "2020-12-31T08:28:15.051453",
     "status": "completed"
    },
    "tags": []
   },
   "source": [
    "# III. Inference"
   ]
  },
  {
   "cell_type": "code",
   "execution_count": 51,
   "metadata": {
    "execution": {
     "iopub.execute_input": "2020-12-31T08:28:15.226682Z",
     "iopub.status.busy": "2020-12-31T08:28:15.226033Z",
     "iopub.status.idle": "2020-12-31T08:28:15.231451Z",
     "shell.execute_reply": "2020-12-31T08:28:15.230710Z"
    },
    "papermill": {
     "duration": 0.06729,
     "end_time": "2020-12-31T08:28:15.231566",
     "exception": false,
     "start_time": "2020-12-31T08:28:15.164276",
     "status": "completed"
    },
    "tags": []
   },
   "outputs": [],
   "source": [
    "env = riiideducation.make_env()\n",
    "iter_test = env.iter_test()\n",
    "prior_test_df = None\n",
    "previous_test_df = None"
   ]
  },
  {
   "cell_type": "code",
   "execution_count": 52,
   "metadata": {
    "execution": {
     "iopub.execute_input": "2020-12-31T08:28:15.365789Z",
     "iopub.status.busy": "2020-12-31T08:28:15.353272Z",
     "iopub.status.idle": "2020-12-31T08:28:16.853856Z",
     "shell.execute_reply": "2020-12-31T08:28:16.854497Z"
    },
    "papermill": {
     "duration": 1.566138,
     "end_time": "2020-12-31T08:28:16.854682",
     "exception": false,
     "start_time": "2020-12-31T08:28:15.288544",
     "status": "completed"
    },
    "tags": []
   },
   "outputs": [
    {
     "name": "stderr",
     "output_type": "stream",
     "text": [
      "/opt/conda/lib/python3.7/site-packages/numpy/core/fromnumeric.py:3335: RuntimeWarning: Mean of empty slice.\n",
      "  out=out, **kwargs)\n",
      "/opt/conda/lib/python3.7/site-packages/numpy/core/_methods.py:217: RuntimeWarning: Degrees of freedom <= 0 for slice\n",
      "  keepdims=keepdims)\n"
     ]
    },
    {
     "name": "stdout",
     "output_type": "stream",
     "text": [
      "CPU times: user 4.13 s, sys: 80.8 ms, total: 4.21 s\n",
      "Wall time: 1.41 s\n"
     ]
    }
   ],
   "source": [
    "%%time\n",
    "for (test_df, sample_prediction_df) in iter_test:\n",
    "\n",
    "    # SON'S UPDATE\n",
    "    # update du lieu sau khi co label moi\n",
    "    if prior_test_df is not None:\n",
    "        prior_test_df[target] = eval(test_df['prior_group_answers_correct'].iloc[0])\n",
    "        \n",
    "        prior_test_df['prior_question_had_explanation'] = prior_test_df['prior_question_had_explanation'].fillna(False).astype('bool')\n",
    "        user_ids = prior_test_df['user_id'].values\n",
    "        content_ids = prior_test_df['content_id'].values\n",
    "        targets = prior_test_df[target].values\n",
    "        timestamps = prior_test_df['timestamp'].values\n",
    "        explanations = prior_test_df['prior_question_had_explanation'].values\n",
    "        elapsed_times = prior_test_df['prior_question_elapsed_time'].values\n",
    "        task_containers = prior_test_df['task_container_id'].values\n",
    "        \n",
    "        for user_id, content_id, answered_correctly,timestamp,explanation,elapsed_time,task_container_id in zip(user_ids, content_ids, targets,timestamps,explanations,elapsed_times, task_containers):\n",
    "            # neu la lecture thi update cac dict lecture\n",
    "            if answered_correctly == -1:\n",
    "\n",
    "                part_id = lectures_part_dict[content_id]\n",
    "                \n",
    "                # user_lecture_part_count\n",
    "                user_lecture_part_count_dict[(user_id,part_id)] += 1\n",
    "\n",
    "                # user_lecture_count\n",
    "                user_lecture_count_dict[user_id] += 1\n",
    "                \n",
    "                # user_solving_count', 'user_concept_count'\n",
    "                if lectures_type_dict[content_id] == 'solving question':\n",
    "                    user_solving_count_dict[user_id] += 1\n",
    "                elif lectures_type_dict[content_id] == 'concept':\n",
    "                    user_concept_count_dict[user_id] += 1\n",
    "\n",
    "                # timelag_update\n",
    "                time_lag_max_dict[user_id] = timestamp\n",
    "\n",
    "                # timelag_2 -> timelag_6 dict\n",
    "                if user_id in timestamp_user_dict:\n",
    "                    if timestamp not in timestamp_user_dict[user_id]:\n",
    "                        timestamp_user_dict[user_id].append(timestamp)\n",
    "                else:\n",
    "                    timestamp_user_dict[user_id].append(timestamp)\n",
    "                \n",
    "                if len(timestamp_user_dict[user_id]) > 6:\n",
    "                    timestamp_user_dict[user_id].pop(0)\n",
    "            \n",
    "            # neu ko fai lecture thi update cac loop dict\n",
    "            else:\n",
    "                part_id = questions_part_dict[content_id]\n",
    "                \n",
    "                # 'user_correctness', 'user_count','user_sum'\n",
    "                user_sum_dict[user_id] += answered_correctly\n",
    "                user_count_dict[user_id] += 1\n",
    "                \n",
    "                # 'content_correctness', 'content_count'\n",
    "                # 'content_std' ko update\n",
    "                content_sum_dict[content_id] += answered_correctly\n",
    "                content_count_dict[content_id] += 1\n",
    "            \n",
    "                # 'user_part_correctness', 'user_part_count'\n",
    "                user_part_sum_dict[(user_id,part_id)] += answered_correctly\n",
    "                user_part_count_dict[(user_id,part_id)] += 1\n",
    "                \n",
    "                # rolling features\n",
    "                user_rolling_sum_dict[user_id].append(answered_correctly)\n",
    "                if len(user_rolling_sum_dict[user_id]) > 30:\n",
    "                    user_rolling_sum_dict[user_id].pop(0)\n",
    "                    \n",
    "                # 'explanation_sum', 'explanation_count', 'user_explanation_correctness'    \n",
    "                explanation_agg_sum_dict[(user_id,explanation)] += answered_correctly\n",
    "                explanation_agg_count_dict[(user_id,explanation)] += 1\n",
    "                \n",
    "                # \"user_explanation_sum\", \"user_explanation_count\", user_explanation_mean\",\n",
    "                user_explanation_sum_dict[user_id] += explanation\n",
    "                user_explanation_count_dict[user_id] += 1\n",
    "                \n",
    "                # update user_question_part by attempt dict:\n",
    "                if user_id in users_dict:\n",
    "                    attempt_binary_id = users_dict[user_id][content_id]\n",
    "                else:\n",
    "                    attempt_binary_id = 0\n",
    "                \n",
    "                user_attempt_sum_dict[(user_id,attempt_binary_id)] += answered_correctly\n",
    "                user_attempt_count_dict[(user_id,attempt_binary_id)] += 1\n",
    "\n",
    "                content_attempt_sum_dict[(content_id,attempt_binary_id)] += answered_correctly\n",
    "                content_attempt_count_dict[(content_id,attempt_binary_id)] += 1\n",
    "\n",
    "                part_attempt_sum_dict[(part_id,attempt_binary_id)]+= answered_correctly\n",
    "                part_attempt_count_dict[(part_id,attempt_binary_id)]+=1\n",
    "                \n",
    "                # attempt_binary\n",
    "                # step nay fai sau step \"update user_question_part by attempt dict\"\n",
    "                # neu ko attempt_binary_id o step \"update user_question_part by attempt dict\" se sai\n",
    "                if user_id in users_dict:\n",
    "                    users_dict[user_id][content_id] = 1\n",
    "                else:\n",
    "                    a = bitarray(13550, endian='little')\n",
    "                    a.setall(False)\n",
    "                    a[content_id] = 1\n",
    "                    users_dict[user_id] = a\n",
    "                \n",
    "                # skip_task\n",
    "                last_task_dict[user_id] = task_container_id\n",
    "\n",
    "                # timelag_update\n",
    "                time_lag_max_dict[user_id] = timestamp\n",
    "\n",
    "                # timelag_2 -> timelag_6 dict\n",
    "                if user_id in timestamp_user_dict:\n",
    "                    if timestamp not in timestamp_user_dict[user_id]:\n",
    "                        timestamp_user_dict[user_id].append(timestamp)\n",
    "                else:\n",
    "                    timestamp_user_dict[user_id].append(timestamp)\n",
    "                \n",
    "                if len(timestamp_user_dict[user_id]) > 6:\n",
    "                    timestamp_user_dict[user_id].pop(0)\n",
    "\n",
    "                # elapsed_time_user_mean, elapsed_time_user_diff\n",
    "                curr_bundle = question_bundle[content_id]\n",
    "                if user_id in last_bundle_dict:\n",
    "                    last_bundle = last_bundle_dict[user_id]\n",
    "\n",
    "                    if curr_bundle == last_bundle:\n",
    "                        if bundle_count[curr_bundle] == 1:\n",
    "                            last_result_dict[user_id] = [answered_correctly]\n",
    "                        else:\n",
    "                            last_result_dict[user_id].append(answered_correctly)\n",
    "                    else:\n",
    "                        last_bundle_dict[user_id] = curr_bundle\n",
    "                        last_result_dict[user_id] = [answered_correctly]\n",
    "                else:\n",
    "                    last_bundle_dict[user_id] = curr_bundle\n",
    "                    last_result_dict[user_id] = [answered_correctly]\n",
    "\n",
    "                # timelag_part\n",
    "                if timestamp not in timestamp_part_user_dict[(user_id,part_id)]:\n",
    "                    timestamp_part_user_dict[(user_id,part_id)].append(timestamp)\n",
    "                \n",
    "                if len(timestamp_part_user_dict[(user_id,part_id)]) > 3:\n",
    "                    timestamp_part_user_dict[(user_id,part_id)].pop(0)\n",
    "\n",
    "                # lag_part\n",
    "                user_part_lag_dict[(user_id,part_id)].append(answered_correctly)\n",
    "                if len(user_part_lag_dict[(user_id,part_id)]) > 3:\n",
    "                    user_part_lag_dict[(user_id,part_id)].pop(0)\n",
    "\n",
    "                # user_bundle_count & user_bundle_question_ratio\n",
    "                curr_bundle_id = question_bundle[content_id]\n",
    "                if user_id in user_last_iteraction:\n",
    "                    last_timestamp = user_last_iteraction[user_id][0]\n",
    "                    last_task_container = user_last_iteraction[user_id][1]\n",
    "                    last_bundle_id = user_last_iteraction[user_id][2]\n",
    "                    \n",
    "                    if timestamp == last_timestamp and task_container_id == last_task_container and last_bundle_id == curr_bundle_id:\n",
    "                        continue \n",
    "                    else:\n",
    "                        user_bundle_count_dict[user_id] += 1\n",
    "                        user_last_iteraction[user_id] = [timestamp,task_container_id,curr_bundle_id]\n",
    "                else:\n",
    "                    user_bundle_count_dict[user_id] += 1\n",
    "                    user_last_iteraction[user_id] = [timestamp,task_container_id,curr_bundle_id]\n",
    "                \n",
    "    # save data vao prior truoc khi process\n",
    "    prior_test_df = test_df.copy()\n",
    "    \n",
    "    \n",
    "    # LINH'S UPDATE\n",
    "    if previous_test_df is not None:\n",
    "        previous_test_df[target] = eval(test_df['prior_group_answers_correct'].iloc[0])\n",
    "        previous_test_df['user_answer'] = eval(test_df['prior_group_responses'].iloc[0])\n",
    "\n",
    "        # your feature extraction and model training code here\n",
    "        update_user_features(previous_test_df)\n",
    "\n",
    "    previous_test_df = test_df.copy()\n",
    "    test2_df = test_df.copy()\n",
    "    \n",
    "    # SON'S ADDING FEATURES\n",
    "    # count so lan xuat hien cua user trong test_df\n",
    "    # dung de tinh timelag, vi timestamp la thoi diem user hoan thanh action\n",
    "    # trong truong hop 1 task gom nhieu cau, thi timelag = (curr_time - last_time)/count_task\n",
    "    user_task_container_count_dict = defaultdict(int)\n",
    "    for i, user_id in enumerate(test_df['user_id'].values):\n",
    "        user_task_container_count_dict[user_id] += 1\n",
    "    \n",
    "    \n",
    "    test_df = test_df[test_df['content_type_id'] == 0].reset_index(drop=True)\n",
    "    \n",
    "    # general feature, cac feature nay k thay doi\n",
    "    test_df['ts_bins'] = ts_quantile.transform(test_df[['timestamp']])\n",
    "    test_df['task_bins'] = task_quantile.transform(test_df[['task_container_id']])\n",
    "\n",
    "    # merge vs questions_df agg\n",
    "    test_df = pd.merge(test_df, questions_df, left_on='content_id', right_index = True, how='left')\n",
    "    test_df['question_id'] = test_df['content_id']\n",
    "    test_df['content_std'] = test_df['question_id'].map(content_agg['std'])\n",
    "    test_df['prior_question_had_explanation'] = test_df['prior_question_had_explanation'].fillna(False).astype('bool')\n",
    "    \n",
    "    # general stats, ko update\n",
    "    test_df['question_time_mean_false'] = test_df['question_id'].map(question_time['question_time_mean_false'])\n",
    "    test_df['question_time_mean_true'] = test_df['question_id'].map(question_time['question_time_mean_true'])\n",
    "    test_df['question_time_median_false'] = test_df['question_id'].map(question_time['question_time_median_false'])\n",
    "    test_df['question_time_median_true'] = test_df['question_id'].map(question_time['question_time_median_true'])\n",
    "\n",
    "    test_df['part_time_mean_false'] = test_df['part'].map(part_time['part_time_mean_false'])\n",
    "    test_df['part_time_mean_true'] = test_df['part'].map(part_time['part_time_mean_true'])\n",
    "    test_df['part_time_median_false'] = test_df['part'].map(part_time['part_time_median_false'])\n",
    "    test_df['part_time_median_true'] = test_df['part'].map(part_time['part_time_median_true'])\n",
    "    \n",
    "    # update elapsed_time_user_sum_dict  & elapsed_time_user_count_dict trước\n",
    "    user_elapsed_updated = []\n",
    "    for i, row in enumerate(test_df[['user_id','prior_question_elapsed_time']].values):\n",
    "        if row[0] not in user_elapsed_updated:\n",
    "            if row[0] in last_bundle_dict:\n",
    "                last_result = last_result_dict[row[0]]\n",
    "                for _ in last_result:\n",
    "                    elapsed_time_user_sum_dict[(row[0],_)] += row[1]\n",
    "                    elapsed_time_user_count_dict[(row[0],_)] += 1\n",
    "                user_elapsed_updated.append(row[0])\n",
    "\n",
    "    # khai bao cac loop array\n",
    "    user_sum = np.zeros(len(test_df), dtype=np.int32)\n",
    "    user_count = np.zeros(len(test_df), dtype=np.int32)\n",
    "    \n",
    "    content_sum = np.zeros(len(test_df), dtype=np.int32)\n",
    "    content_count = np.zeros(len(test_df), dtype=np.int32)\n",
    "    \n",
    "    user_part_sum = np.zeros(len(test_df), dtype=np.int32)\n",
    "    user_part_count = np.zeros(len(test_df), dtype=np.int32)\n",
    "    \n",
    "    user_lecture_part_count_array = np.zeros(len(test_df), dtype=np.int32)\n",
    "    user_lecture_count_array = np.zeros(len(test_df), dtype=np.int32)\n",
    "    user_solving_count_array = np.zeros(len(test_df), dtype=np.int32)\n",
    "    user_concept_count_array = np.zeros(len(test_df), dtype=np.int32)\n",
    "    \n",
    "    user_roll15_mean_array = np.zeros(len(test_df), dtype=np.float32)\n",
    "    user_roll30_mean_array = np.zeros(len(test_df), dtype=np.float32)\n",
    "    \n",
    "    user_roll15_std_array = np.zeros(len(test_df), dtype=np.float32)\n",
    "    user_roll30_std_array = np.zeros(len(test_df), dtype=np.float32)\n",
    "\n",
    "    user_roll15_count_array = np.zeros(len(test_df), dtype=np.int32)\n",
    "    user_roll30_count_array = np.zeros(len(test_df), dtype=np.int32)\n",
    "    \n",
    "    lag_1 = np.zeros(len(test_df), dtype=np.float32)\n",
    "    lag_2 = np.zeros(len(test_df), dtype=np.float32)\n",
    "    lag_3 = np.zeros(len(test_df), dtype=np.float32)\n",
    "            \n",
    "    # attempt\n",
    "    attempt_array = np.zeros(len(test_df), dtype=np.int8)\n",
    "    \n",
    "    # woe\n",
    "    woe_content_array = np.zeros(len(test_df), dtype=np.float32)\n",
    "    woe_part_array = np.zeros(len(test_df), dtype=np.float32)\n",
    "\n",
    "    # skip_task\n",
    "    skip_task_array = np.zeros(len(test_df), dtype=np.int8)\n",
    "\n",
    "    # timelag_update\n",
    "    timestamp_array = np.zeros(len(test_df), dtype=np.float64)\n",
    "    # timelag_2 -> timelag_6\n",
    "    timelag_2 = np.zeros(len(test_df), dtype = np.float32)\n",
    "    timelag_3 = np.zeros(len(test_df), dtype = np.float32)\n",
    "    timelag_4 = np.zeros(len(test_df), dtype = np.float32)\n",
    "    timelag_5 = np.zeros(len(test_df), dtype = np.float32)\n",
    "    timelag_6 = np.zeros(len(test_df), dtype = np.float32)\n",
    "\n",
    "    # is_bundle\n",
    "    is_bundle_array = np.zeros(len(test_df), dtype = np.int8)\n",
    "\n",
    "    # content_part - bin\n",
    "    content_bin_mean_array = np.zeros(len(test_df), dtype=np.float32)\n",
    "    content_bin_count_array = np.zeros(len(test_df), dtype=np.int32)\n",
    "    content_bin_std_array = np.zeros(len(test_df), dtype=np.float32)\n",
    "\n",
    "    part_bin_mean_array = np.zeros(len(test_df), dtype=np.float32)\n",
    "    part_bin_count_array = np.zeros(len(test_df), dtype=np.int64)\n",
    "    part_bin_std_array = np.zeros(len(test_df), dtype=np.float32)\n",
    "\n",
    "    # elapsed time\n",
    "    elapsed_time_user_sum_true_array = np.zeros(len(test_df), dtype=np.float64)\n",
    "    elapsed_time_user_count_true_array = np.zeros(len(test_df), dtype=np.float32)\n",
    "    elapsed_time_user_sum_false_array = np.zeros(len(test_df), dtype=np.float64)\n",
    "    elapsed_time_user_count_false_array = np.zeros(len(test_df), dtype=np.float32)\n",
    "\n",
    "    question_timelag_median_array = np.zeros(len(test_df), dtype=np.float64)\n",
    "\n",
    "    explanation_sum_array = np.zeros(len(test_df), dtype=np.float32)\n",
    "    explanation_count_array = np.zeros(len(test_df), dtype=np.float32)\n",
    "    \n",
    "    # user_content_part - attempt    \n",
    "    user_attempt_sum_array = np.zeros(len(test_df), dtype=np.int32)\n",
    "    user_attempt_count_array = np.zeros(len(test_df), dtype=np.int32)\n",
    "\n",
    "    content_attempt_sum_array = np.zeros(len(test_df), dtype=np.int64)\n",
    "    content_attempt_count_array = np.zeros(len(test_df), dtype=np.int64)\n",
    "\n",
    "    part_attempt_sum_array = np.zeros(len(test_df), dtype=np.int64)\n",
    "    part_attempt_count_array = np.zeros(len(test_df), dtype=np.int64)\n",
    "\n",
    "    user_explanation_sum_array = np.zeros(len(test_df), dtype=np.float32)\n",
    "    user_explanation_count_array = np.zeros(len(test_df), dtype=np.float32)\n",
    "\n",
    "    # timelag_part\n",
    "    timelag_part_1 = np.zeros(len(test_df), dtype = np.float32)\n",
    "    timelag_part_2 = np.zeros(len(test_df), dtype = np.float32)\n",
    "    timelag_part_3 = np.zeros(len(test_df), dtype = np.float32)\n",
    "\n",
    "    # lag_part\n",
    "    lag_part_1 = np.zeros(len(test_df), dtype=np.float32)\n",
    "    lag_part_2 = np.zeros(len(test_df), dtype=np.float32)\n",
    "    lag_part_3 = np.zeros(len(test_df), dtype=np.float32)\n",
    "\n",
    "    lag_part_mean = np.zeros(len(test_df), dtype=np.float32)\n",
    "\n",
    "    # user_bundle_count & user_bundle_question_ratio\n",
    "    user_bundle_count = np.zeros(len(test_df), dtype=np.int32)\n",
    "\n",
    "    # session feat\n",
    "    user_session = np.zeros(len(test_df), dtype=np.int32)\n",
    "    user_time_accumulate = np.zeros(len(test_df), dtype=np.float32)\n",
    "    \n",
    "    for i, (user_id, content_id,explanation,task_container_id,elapsed_time,timestamp) in enumerate(zip(test_df['user_id'].values, test_df['content_id'].values, \\\n",
    "                                                                                test_df['prior_question_had_explanation'].values, test_df['task_container_id'].values, \\\n",
    "                                                                                test_df['prior_question_elapsed_time'].values, \\\n",
    "                                                                                test_df['timestamp'].values)):\n",
    "        part_id = questions_part_dict[content_id]\n",
    "\n",
    "        user_sum[i] = user_sum_dict[user_id]\n",
    "        user_count[i] = user_count_dict[user_id]\n",
    "\n",
    "        content_sum[i] = content_sum_dict[content_id]\n",
    "        content_count[i] = content_count_dict[content_id]\n",
    "        \n",
    "        user_part_sum[i] = user_part_sum_dict[(user_id,part_id)]\n",
    "        user_part_count[i] = user_part_count_dict[(user_id,part_id)]\n",
    "        \n",
    "        user_lecture_part_count_array[i] = user_lecture_part_count_dict[(user_id,part_id)]\n",
    "        user_solving_count_array[i] = user_solving_count_dict[user_id]\n",
    "        user_concept_count_array[i] = user_concept_count_dict[user_id]\n",
    "        user_lecture_count_array[i] = user_lecture_count_dict[user_id]\n",
    "        \n",
    "        user_roll15_mean_array[i] = np.mean(user_rolling_sum_dict[user_id][-15:])\n",
    "        user_roll30_mean_array[i] = np.mean(user_rolling_sum_dict[user_id][-30:])\n",
    "        user_roll15_std_array[i] = np.std(user_rolling_sum_dict[user_id][-15:])\n",
    "        user_roll30_std_array[i] = np.std(user_rolling_sum_dict[user_id][-30:])\n",
    "        user_roll15_count_array[i] = len(user_rolling_sum_dict[user_id][-15:])\n",
    "        user_roll30_count_array[i] = len(user_rolling_sum_dict[user_id][-30:])\n",
    "        \n",
    "        if user_id in user_rolling_sum_dict:\n",
    "            if len(user_rolling_sum_dict[user_id]) >= 3:\n",
    "                lag_1[i] = user_rolling_sum_dict[user_id][-1]\n",
    "                lag_2[i] = user_rolling_sum_dict[user_id][-2]\n",
    "                lag_3[i] = user_rolling_sum_dict[user_id][-3]\n",
    "            elif len(user_rolling_sum_dict[user_id]) == 2:\n",
    "                lag_1[i] = user_rolling_sum_dict[user_id][-1]\n",
    "                lag_2[i] = user_rolling_sum_dict[user_id][-2]\n",
    "                lag_3[i] = np.nan\n",
    "            elif len(user_rolling_sum_dict[user_id]) == 1:\n",
    "                lag_1[i] = user_rolling_sum_dict[user_id][-1]\n",
    "                lag_2[i] = np.nan\n",
    "                lag_3[i] = np.nan\n",
    "            elif len(user_rolling_sum_dict[user_id]) == 0:\n",
    "                lag_1[i] = np.nan\n",
    "                lag_2[i] = np.nan\n",
    "                lag_3[i] = np.nan\n",
    "        else:\n",
    "            lag_1[i] = np.nan\n",
    "            lag_2[i] = np.nan\n",
    "            lag_3[i] = np.nan\n",
    "        \n",
    "        if user_id in users_dict:\n",
    "            if users_dict[user_id][content_id] == 1:\n",
    "                attempt_array[i] = 1\n",
    "            else:\n",
    "                attempt_array[i] = 0\n",
    "        else:\n",
    "            attempt_array[i] = 0\n",
    "        \n",
    "        # woe\n",
    "        woe_content_array[i] = woe_content_dict[content_id]\n",
    "        woe_part_array[i] = woe_part_dict[part_id]\n",
    "\n",
    "        # skip_task\n",
    "        skip_task_array[i] = last_task_dict[user_id] > task_container_id\n",
    "\n",
    "        # timelag_update\n",
    "        timestamp_array[i] = (timestamp - time_lag_max_dict[user_id])/user_task_container_count_dict[user_id]\n",
    "        # timelag_2 -> timelag_6    \n",
    "        if user_id in timestamp_user_dict:\n",
    "            if len(timestamp_user_dict[user_id]) >= 6:\n",
    "                timelag_2[i] = (timestamp - timestamp_user_dict[user_id][4])/user_task_container_count_dict[user_id]\n",
    "                timelag_3[i] = (timestamp - timestamp_user_dict[user_id][3])/user_task_container_count_dict[user_id]\n",
    "                timelag_4[i] = (timestamp - timestamp_user_dict[user_id][2])/user_task_container_count_dict[user_id]\n",
    "                timelag_5[i] = (timestamp - timestamp_user_dict[user_id][1])/user_task_container_count_dict[user_id]\n",
    "                timelag_6[i] = (timestamp - timestamp_user_dict[user_id][0])/user_task_container_count_dict[user_id]\n",
    "            elif len(timestamp_user_dict[user_id]) == 5:\n",
    "                timelag_2[i] = (timestamp - timestamp_user_dict[user_id][3])/user_task_container_count_dict[user_id]\n",
    "                timelag_3[i] = (timestamp - timestamp_user_dict[user_id][2])/user_task_container_count_dict[user_id]\n",
    "                timelag_4[i] = (timestamp - timestamp_user_dict[user_id][1])/user_task_container_count_dict[user_id]\n",
    "                timelag_5[i] = (timestamp - timestamp_user_dict[user_id][0])/user_task_container_count_dict[user_id]\n",
    "                timelag_6[i] = np.nan\n",
    "            elif len(timestamp_user_dict[user_id]) == 4:\n",
    "                timelag_2[i] = (timestamp - timestamp_user_dict[user_id][2])/user_task_container_count_dict[user_id]\n",
    "                timelag_3[i] = (timestamp - timestamp_user_dict[user_id][1])/user_task_container_count_dict[user_id]\n",
    "                timelag_4[i] = (timestamp - timestamp_user_dict[user_id][0])/user_task_container_count_dict[user_id]\n",
    "                timelag_5[i] = np.nan\n",
    "                timelag_6[i] = np.nan\n",
    "            elif len(timestamp_user_dict[user_id]) == 3:\n",
    "                timelag_2[i] = (timestamp - timestamp_user_dict[user_id][1])/user_task_container_count_dict[user_id]\n",
    "                timelag_3[i] = (timestamp - timestamp_user_dict[user_id][0])/user_task_container_count_dict[user_id]\n",
    "                timelag_4[i] = np.nan\n",
    "                timelag_5[i] = np.nan\n",
    "                timelag_6[i] = np.nan\n",
    "            elif len(timestamp_user_dict[user_id]) == 2:\n",
    "                timelag_2[i] = (timestamp - timestamp_user_dict[user_id][0])/user_task_container_count_dict[user_id]\n",
    "                timelag_3[i] = np.nan\n",
    "                timelag_4[i] = np.nan\n",
    "                timelag_5[i] = np.nan\n",
    "                timelag_6[i] = np.nan\n",
    "\n",
    "            elif len(timestamp_user_dict[user_id]) <= 1:\n",
    "                timelag_2[i] = np.nan\n",
    "                timelag_3[i] = np.nan\n",
    "                timelag_4[i] = np.nan\n",
    "                timelag_5[i] = np.nan\n",
    "                timelag_6[i] = np.nan\n",
    "        else:\n",
    "            timelag_2[i] = np.nan\n",
    "            timelag_3[i] = np.nan\n",
    "            timelag_4[i] = np.nan\n",
    "            timelag_5[i] = np.nan\n",
    "            timelag_6[i] = np.nan\n",
    "\n",
    "        # is_bundle\n",
    "        is_bundle_array[i] = is_bundle_dict[content_id]\n",
    "\n",
    "        # convert task_container to cut\n",
    "        # convert_task_bin = task_bin_dict[task_container_id]\n",
    "        convert_task_bin = int(task_container_id <= 30)\n",
    "        content_bin_mean_array[i] = content_bin_mean_dict[(content_id,convert_task_bin)]\n",
    "        content_bin_count_array[i] = content_bin_count_dict[(content_id,convert_task_bin)]\n",
    "        content_bin_std_array[i] = content_bin_std_dict[(content_id,convert_task_bin)]\n",
    "\n",
    "        part_bin_mean_array[i] = part_bin_mean_dict[(part_id,convert_task_bin)]\n",
    "        part_bin_count_array[i] = part_bin_count_dict[(part_id,convert_task_bin)]\n",
    "        part_bin_std_array[i] = part_bin_std_dict[(part_id,convert_task_bin)]\n",
    "\n",
    "        # elapsed_time_user\n",
    "        elapsed_time_user_sum_true_array[i] = elapsed_time_user_sum_dict[(user_id,1)]\n",
    "        elapsed_time_user_count_true_array[i] = elapsed_time_user_count_dict[(user_id,1)]\n",
    "        elapsed_time_user_sum_false_array[i] = elapsed_time_user_sum_dict[(user_id,0)]\n",
    "        elapsed_time_user_count_false_array[i] = elapsed_time_user_count_dict[(user_id,0)]\n",
    "\n",
    "        question_timelag_median_array[i] = question_timelag_dict[content_id]\n",
    "\n",
    "        explanation_sum_array[i] = explanation_agg_sum_dict[(user_id,explanation)]\n",
    "        explanation_count_array[i] = explanation_agg_count_dict[(user_id,explanation)]\n",
    "\n",
    "        # user_content_part attempt\n",
    "        attempt_binary_id = attempt_array[i]\n",
    "        user_attempt_sum_array[i] = user_attempt_sum_dict[(user_id,attempt_binary_id)]\n",
    "        user_attempt_count_array[i] = user_attempt_count_dict[(user_id,attempt_binary_id)]\n",
    "\n",
    "        content_attempt_sum_array[i] = content_attempt_sum_dict[(content_id,attempt_binary_id)]\n",
    "        content_attempt_count_array[i] = content_attempt_count_dict[(content_id,attempt_binary_id)]\n",
    "\n",
    "        part_attempt_sum_array[i] = part_attempt_sum_dict[(part_id,attempt_binary_id)]\n",
    "        part_attempt_count_array[i] = part_attempt_count_dict[(part_id,attempt_binary_id)]\n",
    "\n",
    "        user_explanation_sum_array[i] = user_explanation_sum_dict[user_id]\n",
    "        user_explanation_count_array[i] = user_explanation_count_dict[user_id]\n",
    "\n",
    "        # timelag_part\n",
    "        timelag_part = timestamp_part_user_dict[(user_id, part_id)]\n",
    "        if len(timelag_part) >= 3:\n",
    "            timelag_part_1[i] = (timestamp - timelag_part[-1])/user_task_container_count_dict[user_id]\n",
    "            timelag_part_2[i] = (timestamp - timelag_part[-2])/user_task_container_count_dict[user_id]\n",
    "            timelag_part_3[i] = (timestamp - timelag_part[-3])/user_task_container_count_dict[user_id]\n",
    "        elif len(timelag_part) == 2:\n",
    "            timelag_part_1[i] = (timestamp - timelag_part[-1])/user_task_container_count_dict[user_id]\n",
    "            timelag_part_2[i] = (timestamp - timelag_part[-2])/user_task_container_count_dict[user_id]\n",
    "            timelag_part_3[i] = np.nan\n",
    "        elif len(timelag_part) == 1:\n",
    "            timelag_part_1[i] = (timestamp - timelag_part[-1])/user_task_container_count_dict[user_id]\n",
    "            timelag_part_2[i] = np.nan\n",
    "            timelag_part_3[i] = np.nan\n",
    "        elif len(timelag_part) == 0:\n",
    "            timelag_part_1[i] = np.nan\n",
    "            timelag_part_2[i] = np.nan\n",
    "            timelag_part_3[i] = np.nan\n",
    "\n",
    "        # lag_part\n",
    "        lag_part = user_part_lag_dict[(user_id,part_id)]\n",
    "        if len(lag_part) >= 3:\n",
    "            lag_part_1[i] = lag_part[-1]\n",
    "            lag_part_2[i] = lag_part[-2]\n",
    "            lag_part_3[i] = lag_part[-3]\n",
    "        elif len(lag_part) == 2:\n",
    "            lag_part_1[i] = lag_part[-1]\n",
    "            lag_part_2[i] = lag_part[-2]\n",
    "            lag_part_3[i] = np.nan\n",
    "        elif len(lag_part) == 1:\n",
    "            lag_part_1[i] = lag_part[-1]\n",
    "            lag_part_2[i] = np.nan\n",
    "            lag_part_3[i] = np.nan\n",
    "        elif len(lag_part) == 0:\n",
    "            lag_part_1[i] = np.nan\n",
    "            lag_part_2[i] = np.nan\n",
    "            lag_part_3[i] = np.nan\n",
    "        \n",
    "        lag_part_mean[i] = np.mean(lag_part)\n",
    "        # user_bundle_count & user_bundle_question_ratio\n",
    "        user_bundle_count[i] = user_bundle_count_dict[user_id]\n",
    "\n",
    "        # user_session, user_time_accumulate\n",
    "        if timestamp_array[i]/1000 > 60*60:\n",
    "            last_session_dict[user_id] += 1\n",
    "            user_session[i] = last_session_dict[user_id]\n",
    "        else:\n",
    "            user_session[i] = last_session_dict[user_id]\n",
    "\n",
    "        if timestamp_array[i]/1000 > 5*60: # 1 cau hoi toi da 5 mins\n",
    "            user_time_accumulate_dict[user_id] += 5*60\n",
    "        elif timestamp_array[i]/1000 >= 0:\n",
    "            user_time_accumulate_dict[user_id] += timestamp_array[i]/1000\n",
    "        else:\n",
    "            user_time_accumulate_dict[user_id] = 0\n",
    "        user_time_accumulate[i] = user_time_accumulate_dict[user_id]\n",
    "    \n",
    "    test_df['content_count'] = content_count\n",
    "    test_df['content_id'] = content_sum / content_count\n",
    "    test_df['user_correctness'] = user_sum / user_count\n",
    "    test_df['user_part_correctness'] = user_part_sum / user_part_count\n",
    "    \n",
    "    test_df['user_count'] = user_count\n",
    "    test_df['user_sum'] = user_sum\n",
    "    test_df['user_part_count'] = user_part_count\n",
    "    test_df['user_part_sum'] = user_part_sum\n",
    "\n",
    "    test_df['user_lecture_part_count'] = user_lecture_part_count_array\n",
    "    test_df['user_solving_count'] = user_solving_count_array\n",
    "    test_df['user_concept_count'] = user_concept_count_array\n",
    "    test_df['user_lecture_count'] = user_lecture_count_array\n",
    "    \n",
    "    # rolling\n",
    "    test_df['user_roll15_correctness'] = user_roll15_mean_array\n",
    "    test_df['user_roll15_std'] =user_roll15_std_array\n",
    "    test_df['user_roll15_count'] =user_roll15_count_array\n",
    "\n",
    "    test_df['user_roll30_correctness'] =user_roll30_mean_array\n",
    "    test_df['user_roll30_std'] =user_roll30_std_array\n",
    "    test_df['user_roll30_count'] =user_roll30_count_array\n",
    "\n",
    "    test_df['user_roll15_ircorrect'] = 1 - test_df['user_roll15_correctness']\n",
    "    test_df['user_roll30_ircorrect'] = 1 - test_df['user_roll30_correctness']\n",
    "    test_df['correct_ircorrect_roll15_ratio'] = test_df['user_roll15_correctness'] / test_df['user_roll15_ircorrect']\n",
    "    test_df['correct_ircorrect_roll30_ratio'] = test_df['user_roll30_correctness'] / test_df['user_roll30_ircorrect']\n",
    "    \n",
    "    test_df['lag_1'] = lag_1\n",
    "    test_df['lag_2'] = lag_2\n",
    "    test_df['lag_3'] = lag_3\n",
    "\n",
    "    # attempt\n",
    "    test_df['attempt_binary'] = attempt_array\n",
    "    \n",
    "    # woe\n",
    "    test_df['WOE_content_id'] = woe_content_array\n",
    "    test_df['WOE_part'] = woe_part_array\n",
    "\n",
    "    # skip_task\n",
    "    test_df['skip_task'] = skip_task_array\n",
    "\n",
    "    # timelag_update timelag_2 -> timelag_6\n",
    "    test_df['timelag_update'] = timestamp_array\n",
    "    test_df['timelag_2'] = timelag_2\n",
    "    test_df['timelag_3'] = timelag_3\n",
    "    test_df['timelag_4'] = timelag_4\n",
    "    test_df['timelag_5'] = timelag_5\n",
    "    test_df['timelag_6'] = timelag_6\n",
    "\n",
    "    # is_bundle\n",
    "    test_df['is_bundle'] = is_bundle_array\n",
    "\n",
    "    # content_part - bin general\n",
    "    test_df['content_bin_mean'] = content_bin_mean_array\n",
    "    test_df['content_bin_count'] = content_bin_count_array\n",
    "    test_df['content_bin_std'] = content_bin_std_array\n",
    "    test_df['part_bin_mean'] = part_bin_mean_array\n",
    "    test_df['part_bin_count'] = part_bin_count_array\n",
    "    test_df['part_bin_std'] = part_bin_std_array\n",
    "    \n",
    "    # elapsed_time user loop\n",
    "    elapsed_time_user_mean_true_array = elapsed_time_user_sum_true_array / elapsed_time_user_count_true_array\n",
    "    elapsed_time_user_mean_false_array = elapsed_time_user_sum_false_array / elapsed_time_user_count_false_array\n",
    "    elapsed_time_user_mean_array = (elapsed_time_user_sum_true_array+elapsed_time_user_sum_false_array) / (elapsed_time_user_count_true_array+elapsed_time_user_count_false_array)\n",
    "\n",
    "    test_df['elapsed_time_user_mean_true'] = elapsed_time_user_mean_true_array\n",
    "    test_df['elapsed_time_user_mean_false'] = elapsed_time_user_mean_false_array\n",
    "    test_df['elapsed_time_user_mean'] = elapsed_time_user_mean_array\n",
    "    test_df['elapsed_time_user_diff_true'] = test_df['timelag_update'] - test_df['elapsed_time_user_mean_true']\n",
    "    test_df['elapsed_time_user_diff_false'] = test_df['timelag_update'] - test_df['elapsed_time_user_mean_false']\n",
    "    test_df['elapsed_time_user_diff'] = test_df['timelag_update'] - test_df['elapsed_time_user_mean']\n",
    "\n",
    "    # question_timelag_median, question_timelag_diff\n",
    "    test_df['question_timelag_median'] = question_timelag_median_array\n",
    "    test_df['question_timelag_diff'] = test_df['timelag_update'] - test_df['question_timelag_median']\n",
    "\n",
    "    test_df['explanation_sum'] = explanation_sum_array\n",
    "    test_df['explanation_count'] = explanation_count_array\n",
    "    test_df['user_explanation_correctness'] = test_df['explanation_sum'] / test_df['explanation_count']\n",
    "\n",
    "#     test_df['elapsed_time_user_mean'] = elapsed_time_user_sum_array / elapsed_time_user_count_array\n",
    "#     test_df['elapsed_time_question_mean'] = elapsed_time_question_sum_array / elapsed_time_question_count_array\n",
    "#     test_df['elapsed_time_user_diff'] = test_df['prior_question_elapsed_time'] - test_df['elapsed_time_user_mean']\n",
    "#     test_df['elapsed_time_question_diff'] = test_df['prior_question_elapsed_time'] - test_df['elapsed_time_question_mean']\n",
    "\n",
    "    test_df['question_time_mean_false_diff'] = test_df['timelag_update'] - test_df['question_time_mean_false']\n",
    "    test_df['question_time_mean_true_diff'] = test_df['timelag_update'] - test_df['question_time_mean_true']\n",
    "    test_df['question_time_median_false_diff'] = test_df['timelag_update'] - test_df['question_time_median_false']\n",
    "    test_df['question_time_median_true_diff'] = test_df['timelag_update'] - test_df['question_time_median_true']\n",
    "\n",
    "    test_df['part_time_mean_false_diff'] = test_df['timelag_update'] - test_df['part_time_mean_false']\n",
    "    test_df['part_time_mean_true_diff'] = test_df['timelag_update'] - test_df['part_time_mean_true']\n",
    "    test_df['part_time_median_false_diff'] = test_df['timelag_update'] - test_df['part_time_median_false']\n",
    "    test_df['part_time_median_true_diff'] = test_df['timelag_update'] - test_df['part_time_median_true']\n",
    "    \n",
    "    # user_content_part - attempt \n",
    "    test_df['user_attempt_sum']=user_attempt_sum_array\n",
    "    test_df['user_attempt_count']=user_attempt_count_array\n",
    "    test_df['content_attempt_sum']=content_attempt_sum_array\n",
    "    test_df['content_attempt_count']=content_attempt_count_array\n",
    "    test_df['part_attempt_sum']=part_attempt_sum_array\n",
    "    test_df['part_attempt_count']=part_attempt_count_array\n",
    "    test_df['user_attempt_mean'] = user_attempt_sum_array / user_attempt_count_array\n",
    "    test_df['content_attempt_mean'] = content_attempt_sum_array / content_attempt_count_array\n",
    "    test_df['part_attempt_mean'] = part_attempt_sum_array / part_attempt_count_array\n",
    "    \n",
    "    '''test_df['user_explanation_sum'] = user_explanation_sum_array\n",
    "    test_df['user_explanation_count'] = user_explanation_count_array'''\n",
    "    test_df['user_explanation_mean'] = user_explanation_sum_array / user_explanation_count_array\n",
    "\n",
    "    # timelag_part\n",
    "    test_df['timelag_part_1'] = timelag_part_1\n",
    "    test_df['timelag_part_2'] = timelag_part_2\n",
    "    test_df['timelag_part_3'] = timelag_part_3\n",
    "\n",
    "    # lag_part\n",
    "    test_df['lag_part_1'] = lag_part_1\n",
    "    test_df['lag_part_2'] = lag_part_2\n",
    "    test_df['lag_part_3'] = lag_part_3\n",
    "    test_df['lag_part_mean'] = lag_part_mean\n",
    "\n",
    "    # user_bundle_count & user_bundle_question_ratio\n",
    "    test_df['user_bundle_count'] = user_bundle_count\n",
    "    test_df['user_bundle_question_ratio'] = test_df['user_bundle_count'] / test_df['user_count']\n",
    "\n",
    "    # session feats\n",
    "    test_df['user_session'] = user_session\n",
    "    test_df['user_time_accumulate'] = user_time_accumulate\n",
    "\n",
    "    # FILLNA\n",
    "    test_df.prior_question_elapsed_time.fillna(prior_question_elapsed_time_mean, inplace = True)\n",
    "    test_df['user_correctness'].fillna(0.65, inplace = True)\n",
    "    test_df.timelag_update.fillna(-999, inplace = True)\n",
    "    test_df['question_time_mean_false_diff'].fillna(-999, inplace = True)\n",
    "    test_df['question_time_mean_true_diff'].fillna(-999, inplace = True)\n",
    "    test_df['question_time_median_false_diff'].fillna(-999, inplace = True)\n",
    "    test_df['question_time_median_true_diff'].fillna(-999, inplace = True)\n",
    "\n",
    "    test_df['part_time_mean_false_diff'].fillna(-999, inplace = True)\n",
    "    test_df['part_time_mean_true_diff'].fillna(-999, inplace = True)\n",
    "    test_df['part_time_median_false_diff'].fillna(-999, inplace = True)\n",
    "    test_df['part_time_median_true_diff'].fillna(-999, inplace = True)\n",
    "\n",
    "    test_df['elapsed_time_user_diff_true'].fillna(-999, inplace = True)\n",
    "    test_df['elapsed_time_user_diff_false'].fillna(-999, inplace = True)\n",
    "    \n",
    "    test_df.lag_1.fillna(-999, inplace = True)\n",
    "    test_df.lag_2.fillna(-999, inplace = True)\n",
    "    test_df.lag_3.fillna(-999, inplace = True)\n",
    "\n",
    "    # HMEAN\n",
    "    test_df['hmean_user_content_accuracy'] = 2 * (\n",
    "        (test_df['user_correctness'] * test_df['content_id']) /\n",
    "        (test_df['user_correctness'] + test_df['content_id'])\n",
    "    )\n",
    "    \n",
    "    test_df['hmean_user_part_accuracy'] = 2 * (\n",
    "        (test_df['user_correctness'] * test_df['part_correct']) /\n",
    "        (test_df['user_correctness'] + test_df['part_correct'])\n",
    "    )\n",
    "    \n",
    "    test_df['hmean_user_content_accuracy_roll15'] = 2 * (\n",
    "        (test_df['user_roll15_correctness'] * test_df['content_id']) /\n",
    "        (test_df['user_roll15_correctness'] + test_df['content_id'])\n",
    "    )\n",
    "    \n",
    "#     test_df['hmean_user_content_accuracy_roll30'] = 2 * (\n",
    "#         (test_df['user_roll15_correctness'] * test_df['content_id']) /\n",
    "#         (test_df['user_roll15_correctness'] + test_df['content_id'])\n",
    "#     )\n",
    "    \n",
    "    test_df['hmean_user_content_bin_accuracy'] = 2 * (\n",
    "        (test_df['user_correctness'] * test_df['content_bin_mean']) /\n",
    "        (test_df['user_correctness'] + test_df['content_bin_mean'])\n",
    "    )\n",
    "    \n",
    "    test_df['hmean_user_part_bin_accuracy'] = 2 * (\n",
    "        (test_df['user_correctness'] * test_df['part_bin_mean']) /\n",
    "        (test_df['user_correctness'] + test_df['part_bin_mean'])\n",
    "    )\n",
    "    \n",
    "    test_df['hmean_user_content_bin_accuracy_roll15'] = 2 * (\n",
    "        (test_df['user_roll15_correctness'] * test_df['content_bin_mean']) /\n",
    "        (test_df['user_roll15_correctness'] + test_df['content_bin_mean'])\n",
    "    )\n",
    "    \n",
    "    \n",
    "    # LINH'S ADDING FEATURES\n",
    "    test2_df = add_user_features_without_update(test2_df)\n",
    "    test2_df = add_other_features(test2_df)\n",
    "    \n",
    "    \n",
    "    # PREDICT\n",
    "    test_df[target] = 0.6*model_Son.predict(test_df[features]) + 0.4*model_Linh.predict(test2_df[features_Linh])\n",
    "    # kaggle\n",
    "    env.predict(test_df[['row_id', target]])\n",
    "\n",
    "#     # emulator\n",
    "#     set_predict(test_df.loc[:,['row_id', 'answered_correctly']])\n",
    "#     pbar.update(len(test_df))"
   ]
  },
  {
   "cell_type": "code",
   "execution_count": null,
   "metadata": {
    "papermill": {
     "duration": 0.076093,
     "end_time": "2020-12-31T08:28:17.007458",
     "exception": false,
     "start_time": "2020-12-31T08:28:16.931365",
     "status": "completed"
    },
    "tags": []
   },
   "outputs": [],
   "source": []
  }
 ],
 "metadata": {
  "kernelspec": {
   "display_name": "Python 3",
   "language": "python",
   "name": "python3"
  },
  "language_info": {
   "codemirror_mode": {
    "name": "ipython",
    "version": 3
   },
   "file_extension": ".py",
   "mimetype": "text/x-python",
   "name": "python",
   "nbconvert_exporter": "python",
   "pygments_lexer": "ipython3",
   "version": "3.7.6"
  },
  "papermill": {
   "duration": 832.503017,
   "end_time": "2020-12-31T08:28:18.521932",
   "environment_variables": {},
   "exception": null,
   "input_path": "__notebook__.ipynb",
   "output_path": "__notebook__.ipynb",
   "parameters": {},
   "start_time": "2020-12-31T08:14:26.018915",
   "version": "2.1.0"
  }
 },
 "nbformat": 4,
 "nbformat_minor": 4
}
